{
 "cells": [
  {
   "cell_type": "code",
   "execution_count": null,
   "id": "8dd5dfa6",
   "metadata": {},
   "outputs": [],
   "source": []
  },
  {
   "cell_type": "code",
   "execution_count": null,
   "id": "9a1ea03e",
   "metadata": {},
   "outputs": [],
   "source": [
    "num_epochs = 10  # Number of times to iterate over the entire dataset (epochs)\n",
    "kappa = 10 #number of times to sample before selecting lowest.\n",
    "\n",
    "for epoch in range(num_epochs):\n",
    "    running_loss = 0.0  # Variable to keep track of the total loss during this epoch\n",
    "\n",
    "    # Iterate over the training dataset using the data loader\n",
    "    for inputs, labels in train_data_loader:  # Replace with your training data loader\n",
    "\n",
    "        # Zero the gradients to prevent accumulation from previous iterations\n",
    "        optimizer.zero_grad()\n",
    "\n",
    "        # Forward pass: compute the predictions for the current batch of inputs\n",
    "        outputs = model(inputs)\n",
    "\n",
    "        # Calculate the loss by comparing the predictions with the actual labels\n",
    "        loss = criterion(outputs, labels)\n",
    "\n",
    "        # Backward pass: compute gradients of the loss with respect to the model parameters\n",
    "        loss.backward()\n",
    "\n",
    "        # Update the model parameters using the optimizer (SGD in this case)\n",
    "        optimizer.step()\n",
    "\n",
    "        # Update the running loss by adding the current batch's loss\n",
    "        running_loss += loss.item()\n",
    "\n",
    "    # Print average loss for the epoch, which is the total loss divided by the number of batches\n",
    "    print(f\"Epoch {epoch+1}/{num_epochs}, Loss: {running_loss/len(train_data_loader)}\")\n",
    "\n",
    "print(\"Training complete!\")"
   ]
  }
 ],
 "metadata": {
  "kernelspec": {
   "display_name": "Python 3 (ipykernel)",
   "language": "python",
   "name": "python3"
  },
  "language_info": {
   "codemirror_mode": {
    "name": "ipython",
    "version": 3
   },
   "file_extension": ".py",
   "mimetype": "text/x-python",
   "name": "python",
   "nbconvert_exporter": "python",
   "pygments_lexer": "ipython3",
   "version": "3.9.12"
  }
 },
 "nbformat": 4,
 "nbformat_minor": 5
}
