{
 "cells": [
  {
   "cell_type": "code",
   "execution_count": 1,
   "id": "6a04cb7a",
   "metadata": {},
   "outputs": [],
   "source": [
    "import torch\n",
    "import torch.nn as nn\n",
    "import torch.nn.functional as F"
   ]
  },
  {
   "cell_type": "code",
   "execution_count": 2,
   "id": "99b445af",
   "metadata": {},
   "outputs": [],
   "source": [
    "from NoiseKD import Teacher"
   ]
  },
  {
   "cell_type": "markdown",
   "id": "f5a11b24",
   "metadata": {},
   "source": [
    "First hurdle. the embedding layer.  It requires the ints as inputs, not one hot.  i need one hot.  i will also need to rewire the LLM i use to do the same.  hmm.  save the weights, load it into a model that has the same shapes, but accepts one hot arrays, not vocab_indexes."
   ]
  },
  {
   "cell_type": "code",
   "execution_count": 3,
   "id": "dad448f8",
   "metadata": {},
   "outputs": [],
   "source": [
    "class TransformerEncoder(nn.Module):\n",
    "    def __init__(self, embedding_dim, num_heads, hidden_dim, num_layers, dropout):\n",
    "        super(TransformerEncoder, self).__init__()\n",
    "        self.transformer = nn.TransformerEncoder(\n",
    "            nn.TransformerEncoderLayer(embedding_dim, num_heads, hidden_dim, dropout, batch_first = True),\n",
    "            num_layers\n",
    "        )\n",
    "\n",
    "    def forward(self, x):\n",
    "        return self.transformer(x)\n",
    "\n",
    "class SimpleLanguageModel(nn.Module):\n",
    "    def __init__(self, vocab_size, sequence_length, embedding_dim, class_num, num_heads, hidden_dim, num_layers, dropout):\n",
    "        super(SimpleLanguageModel, self).__init__()\n",
    "\n",
    "        # Define the embedding layer\n",
    "        self.embedding = nn.Embedding(vocab_size, embedding_dim)\n",
    "        \n",
    "        # Define the transformer encoder\n",
    "        self.transformer_encoder = TransformerEncoder(embedding_dim, num_heads, hidden_dim, num_layers, dropout)\n",
    "        \n",
    "        self.fc1 = nn.Linear(sequence_length*embedding_dim, 1000)\n",
    "        self.fc2 = nn.Linear(1000, 500)\n",
    "        \n",
    "        self.output_layer = nn.Linear(500, class_num)\n",
    "        \n",
    "        \n",
    "\n",
    "    def forward(self, input_data):\n",
    "        # Input_data is of shape (batch_size, sequence_length)\n",
    "        # Apply embedding layer\n",
    "        #print(input_data.shape)\n",
    "        embedded = self.embedding(input_data)\n",
    "        #print(embedded.shape)\n",
    "        # Pass through the transformer encoder\n",
    "        transformed = self.transformer_encoder(embedded)\n",
    "        #print(transformed.shape) #same as input duh: batch x sequence_length x embedding_dim\n",
    "        flattened_tensor = transformed.view(-1,sequence_length*embedding_dim)\n",
    "        f1 = F.relu(self.fc1(flattened_tensor))\n",
    "        \n",
    "        f2 = F.relu(self.fc2(f1))\n",
    "        out = self.output_layer(f2)\n",
    "        # Apply the output layer\n",
    "        output = F.softmax(out) # should be output = F.softmax(out,dim=-1) or output = F.softmax(out,dim=1)\n",
    "\n",
    "        return output\n",
    "    \n",
    "def count_parameters(model):\n",
    "    return sum(p.numel() for p in model.parameters())"
   ]
  },
  {
   "cell_type": "code",
   "execution_count": 4,
   "id": "cca2a6b2",
   "metadata": {},
   "outputs": [],
   "source": [
    "embedding_dim = 16\n",
    "num_heads = 8\n",
    "hidden_dim  = 11\n",
    "num_layers = 2\n",
    "dropout = 0.1 #tried with zero, same prob...\n",
    "vocab_size = 80\n",
    "class_num = vocab_size\n",
    "batch_size = 23\n",
    "sequence_length = 160"
   ]
  },
  {
   "cell_type": "code",
   "execution_count": 5,
   "id": "a7b5a7d7",
   "metadata": {},
   "outputs": [],
   "source": [
    "SLM = SimpleLanguageModel(vocab_size, sequence_length, embedding_dim, class_num, num_heads, hidden_dim, num_layers, dropout)"
   ]
  },
  {
   "cell_type": "code",
   "execution_count": 6,
   "id": "d8fc6fde",
   "metadata": {},
   "outputs": [
    {
     "data": {
      "text/plain": [
       "SimpleLanguageModel(\n",
       "  (embedding): Embedding(80, 16)\n",
       "  (transformer_encoder): TransformerEncoder(\n",
       "    (transformer): TransformerEncoder(\n",
       "      (layers): ModuleList(\n",
       "        (0): TransformerEncoderLayer(\n",
       "          (self_attn): MultiheadAttention(\n",
       "            (out_proj): NonDynamicallyQuantizableLinear(in_features=16, out_features=16, bias=True)\n",
       "          )\n",
       "          (linear1): Linear(in_features=16, out_features=11, bias=True)\n",
       "          (dropout): Dropout(p=0.1, inplace=False)\n",
       "          (linear2): Linear(in_features=11, out_features=16, bias=True)\n",
       "          (norm1): LayerNorm((16,), eps=1e-05, elementwise_affine=True)\n",
       "          (norm2): LayerNorm((16,), eps=1e-05, elementwise_affine=True)\n",
       "          (dropout1): Dropout(p=0.1, inplace=False)\n",
       "          (dropout2): Dropout(p=0.1, inplace=False)\n",
       "        )\n",
       "        (1): TransformerEncoderLayer(\n",
       "          (self_attn): MultiheadAttention(\n",
       "            (out_proj): NonDynamicallyQuantizableLinear(in_features=16, out_features=16, bias=True)\n",
       "          )\n",
       "          (linear1): Linear(in_features=16, out_features=11, bias=True)\n",
       "          (dropout): Dropout(p=0.1, inplace=False)\n",
       "          (linear2): Linear(in_features=11, out_features=16, bias=True)\n",
       "          (norm1): LayerNorm((16,), eps=1e-05, elementwise_affine=True)\n",
       "          (norm2): LayerNorm((16,), eps=1e-05, elementwise_affine=True)\n",
       "          (dropout1): Dropout(p=0.1, inplace=False)\n",
       "          (dropout2): Dropout(p=0.1, inplace=False)\n",
       "        )\n",
       "      )\n",
       "    )\n",
       "  )\n",
       "  (fc1): Linear(in_features=2560, out_features=1000, bias=True)\n",
       "  (fc2): Linear(in_features=1000, out_features=500, bias=True)\n",
       "  (output_layer): Linear(in_features=500, out_features=80, bias=True)\n",
       ")"
      ]
     },
     "execution_count": 6,
     "metadata": {},
     "output_type": "execute_result"
    }
   ],
   "source": [
    "SLM"
   ]
  },
  {
   "cell_type": "code",
   "execution_count": 7,
   "id": "85578ee4",
   "metadata": {},
   "outputs": [
    {
     "name": "stdout",
     "output_type": "stream",
     "text": [
      "torch.Size([23, 160])\n"
     ]
    },
    {
     "name": "stderr",
     "output_type": "stream",
     "text": [
      "/var/folders/hq/zz_5zb251633yqqbh6076p782zzx8q/T/ipykernel_29234/1983935209.py:44: UserWarning: Implicit dimension choice for softmax has been deprecated. Change the call to include dim=X as an argument.\n",
      "  output = F.softmax(out) # should be output = F.softmax(out,dim=-1) or output = F.softmax(out,dim=1)\n"
     ]
    },
    {
     "data": {
      "text/plain": [
       "torch.Size([23, 80])"
      ]
     },
     "execution_count": 7,
     "metadata": {},
     "output_type": "execute_result"
    }
   ],
   "source": [
    "input_data = torch.randint(low=0, high=vocab_size, size=(batch_size, sequence_length))\n",
    "print(input_data.shape)\n",
    "SLM(input_data).shape"
   ]
  },
  {
   "cell_type": "code",
   "execution_count": 8,
   "id": "a3ba38e1",
   "metadata": {},
   "outputs": [
    {
     "data": {
      "text/plain": [
       "3105922"
      ]
     },
     "execution_count": 8,
     "metadata": {},
     "output_type": "execute_result"
    }
   ],
   "source": [
    "count_parameters(SLM)"
   ]
  },
  {
   "cell_type": "code",
   "execution_count": 9,
   "id": "c613c4cc",
   "metadata": {},
   "outputs": [],
   "source": [
    "teacher_slm = Teacher(SLM,(sequence_length,)) #don't specify batch!!"
   ]
  },
  {
   "cell_type": "code",
   "execution_count": 10,
   "id": "a25b374a",
   "metadata": {},
   "outputs": [
    {
     "name": "stdout",
     "output_type": "stream",
     "text": [
      "Expected tensor for argument #1 'indices' to have one of the following scalar types: Long, Int; but got torch.FloatTensor instead (while checking arguments for embedding)\n",
      "lets try ints!\n"
     ]
    },
    {
     "name": "stderr",
     "output_type": "stream",
     "text": [
      "/var/folders/hq/zz_5zb251633yqqbh6076p782zzx8q/T/ipykernel_29234/1983935209.py:44: UserWarning: Implicit dimension choice for softmax has been deprecated. Change the call to include dim=X as an argument.\n",
      "  output = F.softmax(out) # should be output = F.softmax(out,dim=-1) or output = F.softmax(out,dim=1)\n"
     ]
    }
   ],
   "source": [
    "teacher_slm.load_state_dict('good_teacher.pth')"
   ]
  },
  {
   "cell_type": "code",
   "execution_count": null,
   "id": "eb01c427",
   "metadata": {},
   "outputs": [],
   "source": [
    "#model.load_state_dict(torch.load('model_state.pth'))\n",
    "#model.eval()  "
   ]
  },
  {
   "cell_type": "code",
   "execution_count": null,
   "id": "5e4db9fb",
   "metadata": {},
   "outputs": [],
   "source": [
    "##some of these configs made for more diverse outputs in teachers:\n",
    "config_args = {\"dist_type\" : \"ints\" ##worked well\n",
    "                      , \"gen_m\" : vocab_size\n",
    "                      , \"gen_n\" : 100\n",
    "                      , \"gen_epochs\" : 100\n",
    "                      , \"gen_lr\" : 0.001\n",
    "                      , \"random_shuffle\" : 0.1\n",
    "                      , \"out_type\" : \"one-hot\" }\n",
    "\n",
    "config_args_high_epochs = {\"dist_type\" : \"ints\" ##okay, but not as well as config_args.\n",
    "                      , \"gen_m\" : vocab_size\n",
    "                      , \"gen_n\" : 1000\n",
    "                      , \"gen_epochs\" : 100\n",
    "                      , \"gen_lr\" : 0.001\n",
    "                      , \"random_shuffle\" : 0.1\n",
    "                      , \"out_type\" : \"one-hot\" }\n",
    "\n",
    "config_args_higher_lr = {\"dist_type\" : \"ints\" ##lower was worse.  raise it. 0.003 looks great.  this is the best.\n",
    "                      , \"gen_m\" : vocab_size\n",
    "                      , \"gen_n\" : 2000\n",
    "                      , \"gen_epochs\" : 50\n",
    "                      , \"gen_lr\" :  0.003 ##0.003\n",
    "                      , \"random_shuffle\" : 0.8\n",
    "                      , \"out_type\" : \"one-hot\" }\n",
    "\n",
    "config_args_less_data = {\"dist_type\" : \"ints\" ##worse\n",
    "                      , \"gen_m\" : vocab_size\n",
    "                      , \"gen_n\" : 500\n",
    "                      , \"gen_epochs\" : 100\n",
    "                      , \"gen_lr\" : 0.003\n",
    "                      , \"random_shuffle\" : 0.1\n",
    "                      , \"out_type\" : \"one-hot\" }\n",
    "\n",
    "config_args_high_shuffle = {\"dist_type\" : \"ints\" ##one bar..\n",
    "                      , \"gen_m\" : vocab_size\n",
    "                      , \"gen_n\" : 10_000\n",
    "                      , \"gen_epochs\" : 10\n",
    "                      , \"gen_lr\" : 0.05\n",
    "                      , \"random_shuffle\" : 0.9\n",
    "                      , \"out_type\" : \"one-hot\" }\n",
    "\n",
    "config_args_small_batch = {\"dist_type\" : \"ints\" ##this one was the first to do well.  not just one bar and the rest nearly zero.\n",
    "                      , \"gen_m\" : vocab_size\n",
    "                      , \"gen_n\" : 10_000\n",
    "                      , \"gen_epochs\" : 10\n",
    "                      , \"gen_lr\" : 0.05\n",
    "                      , \"random_shuffle\" : 0.5\n",
    "                      , \"batch_size\" : 10\n",
    "                      , \"out_type\" : \"one-hot\" }\n",
    "\n",
    "config_ab = {\"dist_type\" : \"ints\" ##worked well\n",
    "                      , \"gen_m\" : vocab_size\n",
    "                      , \"gen_n\" : 5000\n",
    "                      , \"gen_epochs\" : 200\n",
    "                      , \"gen_lr\" : 0.005\n",
    "                      , \"random_shuffle\" : 0.0\n",
    "                      , \"out_type\" : \"one-hot\" \n",
    "                      , \"dist_type\" : 'hetero'\n",
    "                      , \"alpha\" : 1\n",
    "                      , \"beta\" : 4} #maybe increase epochs?"
   ]
  },
  {
   "cell_type": "code",
   "execution_count": null,
   "id": "0fb0ccfa",
   "metadata": {},
   "outputs": [],
   "source": [
    "#teacher_slm.configure(**config_ab) #this is dying.  might be time for colab!!"
   ]
  },
  {
   "cell_type": "code",
   "execution_count": 11,
   "id": "77f954d3",
   "metadata": {},
   "outputs": [
    {
     "name": "stderr",
     "output_type": "stream",
     "text": [
      "Generating val data ::   0%|                            | 0/200 [00:00<?, ?it/s]/var/folders/hq/zz_5zb251633yqqbh6076p782zzx8q/T/ipykernel_29234/1983935209.py:44: UserWarning: Implicit dimension choice for softmax has been deprecated. Change the call to include dim=X as an argument.\n",
      "  output = F.softmax(out) # should be output = F.softmax(out,dim=-1) or output = F.softmax(out,dim=1)\n",
      "Generating val data ::   0%|                            | 0/200 [00:06<?, ?it/s]\n"
     ]
    }
   ],
   "source": [
    "\n",
    "args = { 'val_train' : \"val\"\n",
    "                      , 'n' : 10_000\n",
    "                      , 'dist_type' : 'ints'\n",
    "                      , 'm' : vocab_size\n",
    "                      , 'std': 1.0\n",
    "                      , 'alpha' : 1\n",
    "                      , 'beta' : 3\n",
    "                      , 'store_outputs' : True\n",
    "        }\n",
    "teacher_slm.generate_data(**args)"
   ]
  },
  {
   "cell_type": "code",
   "execution_count": null,
   "id": "0fb63843",
   "metadata": {},
   "outputs": [],
   "source": [
    "##torch.save(teacher_slm.model.state_dict(), 'good_teacher.pth')"
   ]
  },
  {
   "cell_type": "code",
   "execution_count": 12,
   "id": "f3ca1f01",
   "metadata": {},
   "outputs": [
    {
     "data": {
      "text/plain": [
       "array([[-1.5425419 ,  0.35136947, -0.03018094, ..., -0.15405135,\n",
       "         1.7438477 , -0.98630935],\n",
       "       [-1.6164193 , -1.8916837 , -0.8887659 , ..., -0.15044953,\n",
       "        -0.22066197, -1.287303  ],\n",
       "       [ 0.34314165,  0.25870025, -0.93632895, ...,  1.0878774 ,\n",
       "         0.89934933, -0.45346054],\n",
       "       ...,\n",
       "       [ 0.64084125, -1.4381758 ,  1.0926732 , ...,  2.0109196 ,\n",
       "         0.51697874, -0.04919771],\n",
       "       [-0.22420782,  1.1749339 ,  0.90297115, ...,  0.2145888 ,\n",
       "        -0.39479327,  0.79994994],\n",
       "       [-0.10181472, -0.19704515,  0.46629068, ..., -0.37408283,\n",
       "         1.2688403 , -0.0953627 ]], dtype=float32)"
      ]
     },
     "execution_count": 12,
     "metadata": {},
     "output_type": "execute_result"
    }
   ],
   "source": [
    "teacher_slm.model.embedding.weight.detach().numpy() #use this to make the matrix, just linear? not sure."
   ]
  },
  {
   "cell_type": "code",
   "execution_count": null,
   "id": "513eec1f",
   "metadata": {},
   "outputs": [],
   "source": [
    " #the code is right, i just need this to be a better dist."
   ]
  },
  {
   "cell_type": "code",
   "execution_count": 13,
   "id": "24c7711d",
   "metadata": {},
   "outputs": [
    {
     "data": {
      "image/png": "[encoded data removed]",
      "text/plain": [
       "<Figure size 2880x720 with 1 Axes>"
      ]
     },
     "metadata": {
      "needs_background": "light"
     },
     "output_type": "display_data"
    }
   ],
   "source": [
    "teacher_slm.graph_dataset_dist(val_train = 'val')"
   ]
  },
  {
   "cell_type": "code",
   "execution_count": 19,
   "id": "8154cdf2",
   "metadata": {},
   "outputs": [
    {
     "name": "stderr",
     "output_type": "stream",
     "text": [
      "/var/folders/hq/zz_5zb251633yqqbh6076p782zzx8q/T/ipykernel_29234/1983935209.py:44: UserWarning: Implicit dimension choice for softmax has been deprecated. Change the call to include dim=X as an argument.\n",
      "  output = F.softmax(out) # should be output = F.softmax(out,dim=-1) or output = F.softmax(out,dim=1)\n"
     ]
    },
    {
     "data": {
      "text/plain": [
       "(tensor([0., 0., 0., 0., 0., 0., 0., 0., 0., 0., 0., 0., 0., 0., 0., 0., 0., 0.,\n",
       "         0., 0., 0., 0., 0., 0., 0., 0., 0., 0., 0., 0., 0., 0., 0., 1., 0., 0.,\n",
       "         0., 0., 0., 0., 0., 0., 0., 0., 0., 0., 0., 0., 0., 0., 0., 0., 0., 0.,\n",
       "         0., 0., 0., 0., 0., 0., 0., 0., 0., 0., 0., 0., 0., 0., 0., 0., 0., 0.,\n",
       "         0., 0., 0., 0., 0., 0., 0., 0.], grad_fn=<SelectBackward0>),\n",
       " tensor([0., 0., 0., 0., 0., 0., 0., 0., 0., 0., 0., 0., 0., 0., 0., 0., 0., 0.,\n",
       "         0., 0., 0., 0., 0., 0., 0., 0., 0., 0., 0., 0., 0., 0., 0., 1., 0., 0.,\n",
       "         0., 0., 0., 0., 0., 0., 0., 0., 0., 0., 0., 0., 0., 0., 0., 0., 0., 0.,\n",
       "         0., 0., 0., 0., 0., 0., 0., 0., 0., 0., 0., 0., 0., 0., 0., 0., 0., 0.,\n",
       "         0., 0., 0., 0., 0., 0., 0., 0.]))"
      ]
     },
     "execution_count": 19,
     "metadata": {},
     "output_type": "execute_result"
    }
   ],
   "source": [
    "#teacher_slm.model.eval() #irrelevant\n",
    "teacher_slm.model(teacher_slm.val_inputs[50:100])[0], teacher_slm.val_targets[50:60][0]"
   ]
  },
  {
   "cell_type": "code",
   "execution_count": null,
   "id": "0b6de08b",
   "metadata": {},
   "outputs": [],
   "source": [
    "print(torch.all(teacher_slm.model(teacher_slm.val_inputs[:50]) == teacher_slm.val_targets[:50]))\n",
    "#in test is concatenated the same way as the outputs in KDNoise.  only difference.  doesn't appear to be different.  \n",
    "print(torch.all(teacher_slm.model(teacher_slm.val_inputs[50:100]) == teacher_slm.val_targets[50:100])) ##yeah, val_inputs and in_test appear to be the same.\n",
    "#torch.all(teacher_slm.model(teacher_slm.in_test[:49]) == teacher_slm.val_targets[:49]) ##this doesn't/.  huh???!!\n",
    "#torch.all(teacher_slm.model(teacher_slm.in_test[:50]) == teacher_slm.model(teacher_slm.val_inputs[:50])) ##okay, these match too\n",
    "#torch.all(teacher_slm.model(teacher_slm.in_test[223:409]) == teacher_slm.model(teacher_slm.val_inputs[223:409])) #these match.  "
   ]
  },
  {
   "cell_type": "code",
   "execution_count": null,
   "id": "9b7d79bc",
   "metadata": {},
   "outputs": [],
   "source": [
    "teacher_slm.val_inputs.shape, teacher_slm.val_targets.shape"
   ]
  },
  {
   "cell_type": "code",
   "execution_count": null,
   "id": "b9bc7ec4",
   "metadata": {},
   "outputs": [],
   "source": [
    "torch.all(teacher_slm.model(teacher_slm.val_inputs[1]) ==  teacher_slm.val_targets[1]) ##torch.allclose doesn't work either"
   ]
  },
  {
   "cell_type": "markdown",
   "id": "909987b0",
   "metadata": {},
   "source": [
    "so, it looks like it is predicting correctly, but there is something wrong with the batch? they match when you pass in 50, but more, or not at exactly the 50 marks, it doesn't all match.  "
   ]
  },
  {
   "cell_type": "code",
   "execution_count": null,
   "id": "6b1e92fe",
   "metadata": {},
   "outputs": [],
   "source": [
    "#added teacher_slm.in_test and teacher_slm.dataloader\n",
    "teacher_slm.data_loader\n",
    "x = None\n",
    "y = None\n",
    "for batch_samples in teacher_slm.data_loader:\n",
    "    # Perform inference on each batch\n",
    "    batch_outputs = teacher_slm.model(batch_samples[0])  # Assuming samples are in the first element of the batch\n",
    "    print(batch_samples[0])\n",
    "    x = batch_samples[0]\n",
    "    print(batch_outputs)\n",
    "    y = batch_outputs\n",
    "    break"
   ]
  },
  {
   "cell_type": "code",
   "execution_count": null,
   "id": "d7e63715",
   "metadata": {},
   "outputs": [],
   "source": [
    "#okay, the first 50 match.  do they \n",
    "torch.all(x == teacher_slm.val_inputs[0:50]),torch.all(y == teacher_slm.val_targets[0:50]),torch.all(teacher_slm.model(x) == y)"
   ]
  },
  {
   "cell_type": "code",
   "execution_count": null,
   "id": "92b1012b",
   "metadata": {},
   "outputs": [],
   "source": [
    "y.shape"
   ]
  },
  {
   "cell_type": "markdown",
   "id": "444f7b2a",
   "metadata": {},
   "source": [
    "specify gen outputs.  we need one hots\n",
    "i can do this better than chat gpt lol"
   ]
  },
  {
   "cell_type": "code",
   "execution_count": null,
   "id": "5916bb4a",
   "metadata": {},
   "outputs": [],
   "source": [
    "##this function works, it is in LABNET.  \n",
    "def one_hot_last_dim(tensor_shape):\n",
    "    num_classes = tensor_shape[-1]\n",
    "    random_idx = np.random.randint(1, num_classes + 1, size=tensor_shape[:-1])\n",
    "    zero_tensor = np.zeros(tensor_shape, dtype=int)\n",
    "    last_dim_indices = np.arange(num_classes)\n",
    "    zero_tensor[..., :, last_dim_indices] = (random_idx[..., np.newaxis] == last_dim_indices)\n",
    "    return zero_tensor"
   ]
  },
  {
   "cell_type": "code",
   "execution_count": null,
   "id": "67fabd52",
   "metadata": {},
   "outputs": [],
   "source": [
    "axis_to_shuffle = 0\n",
    "\n",
    "# Shuffle the tensor along the specified axis\n",
    "shuffled_tensor = np.take(x, np.random.permutation(x.shape[0]), axis=0)\n",
    "\n",
    "print(shuffled_tensor)\n"
   ]
  },
  {
   "cell_type": "code",
   "execution_count": null,
   "id": "ba3f68eb",
   "metadata": {},
   "outputs": [],
   "source": [
    "import random\n",
    "\n",
    "\n",
    "for i in range(10):\n",
    "    random_number = random.random()\n",
    "    print(random_number)"
   ]
  },
  {
   "cell_type": "code",
   "execution_count": null,
   "id": "cb166fea",
   "metadata": {},
   "outputs": [],
   "source": [
    "#next is to extract the parts.  we need to take out the embedding layer, make it linear, and then take out the layer before softmax.  "
   ]
  },
  {
   "cell_type": "code",
   "execution_count": null,
   "id": "ef060bed",
   "metadata": {},
   "outputs": [],
   "source": [
    "import torch.distributions as dist\n",
    "def generate_heteroskedastic_ints(n, alpha, beta, total_classes):\n",
    "    # Generate random values from the beta distribution\n",
    "    values = np.random.beta(alpha, beta, n)\n",
    "    min_value = 0\n",
    "    max_value = total_classes\n",
    "    scaled_values = min_value + (max_value - min_value) * values\n",
    "    \n",
    "    # Round the scaled values to integers\n",
    "    ints = np.round(scaled_values).astype(int)\n",
    "    \n",
    "    return ints\n",
    "\n",
    "# Set your desired alpha and beta values\n",
    "alpha = 1  # Adjust this to control skewness\n",
    "beta = 10  # Adjust this to control skewness\n",
    "\n",
    "# Generate 100 random integers with the specified heteroskedasticity\n",
    "random_integers = generate_heteroskedastic_ints(10_000, alpha, beta, 100)\n",
    "\n",
    "# Print the generated integers\n",
    "print(random_integers)\n",
    "plt.hist(random_integers, bins=20, edgecolor='k')\n",
    "plt.xlabel('Value')\n",
    "plt.ylabel('Frequency')\n",
    "plt.title('Frequency Distribution of Random Integers')\n",
    "plt.show()\n"
   ]
  },
  {
   "cell_type": "code",
   "execution_count": null,
   "id": "d87621b4",
   "metadata": {},
   "outputs": [],
   "source": [
    "def generate_heteroskedastic_ints(shape, alpha, beta, total_classes):\n",
    "    # Generate random values from the beta distribution\n",
    "    values = np.random.beta(alpha, beta, shape)\n",
    "    \n",
    "    # Scale the values to integers in the desired range (e.g., 0 to 100)\n",
    "    min_value = 0\n",
    "    max_value = total_classes\n",
    "    scaled_values = min_value + (max_value - min_value) * values\n",
    "    \n",
    "    # Round the scaled values to integers\n",
    "    ints = np.round(scaled_values).astype(int)\n",
    "    \n",
    "    return ints\n",
    "\n",
    "# Set your desired alpha and beta values\n",
    "alpha = 1  # Adjust this to control skewness\n",
    "beta = 1   # Adjust this to control skewness\n",
    "\n",
    "# Specify the shape of the tensor (e.g., b x 200)\n",
    "b = 5\n",
    "shape = (b, 200)\n",
    "\n",
    "# Generate a tensor of random integers with the specified heteroskedasticity\n",
    "random_integers_tensor = generate_heteroskedastic_ints(shape, alpha, beta,20)\n",
    "\n",
    "# Print the generated tensor\n",
    "random_integers_tensor"
   ]
  },
  {
   "cell_type": "code",
   "execution_count": 21,
   "id": "19e56b2b",
   "metadata": {},
   "outputs": [
    {
     "name": "stdout",
     "output_type": "stream",
     "text": [
      "Model Output Shape: torch.Size([23, 80])\n"
     ]
    }
   ],
   "source": [
    "class ToyTransformer(nn.Module):\n",
    "    def __init__(self, vocab_size, embedding_dim, num_heads, hidden_dim, num_layers, dropout,sequence_length):\n",
    "        super(ToyTransformer, self).__init__()\n",
    "\n",
    "        self.embedding = nn.Embedding(vocab_size, embedding_dim)\n",
    "        self.transformer_encoder = nn.TransformerEncoder(\n",
    "            nn.TransformerEncoderLayer(embedding_dim, num_heads, hidden_dim, dropout, batch_first=True),\n",
    "            num_layers\n",
    "        )\n",
    "        self.fc1 = nn.Linear(embedding_dim * sequence_length, vocab_size)  # Intermediate linear layer\n",
    "        self.fc2 = nn.Linear(vocab_size, vocab_size)  # Final linear layer\n",
    "\n",
    "    def forward(self, x):\n",
    "        x = self.embedding(x)\n",
    "        x = self.transformer_encoder(x)\n",
    "        x = torch.flatten(x, start_dim=1)  # Flatten the output\n",
    "        x = F.relu(self.fc1(x))  # Apply the intermediate linear layer with ReLU activation\n",
    "        x = self.fc2(x)  # Apply the final linear layer\n",
    "        x = F.softmax(x, dim=1)  # Apply softmax activation\n",
    "        return x\n",
    "\n",
    "# Set the hyperparameters\n",
    "embedding_dim = 16\n",
    "num_heads = 8\n",
    "hidden_dim = 11\n",
    "num_layers = 2\n",
    "dropout = 0.1\n",
    "vocab_size = 80\n",
    "class_num = vocab_size\n",
    "batch_size = 23\n",
    "sequence_length = 160\n",
    "\n",
    "# Create an instance of the toy Transformer model\n",
    "model = ToyTransformer(vocab_size, embedding_dim, num_heads, hidden_dim, num_layers, dropout,sequence_length)\n",
    "\n",
    "# Generate random input data for testing\n",
    "input_data = torch.randint(0, vocab_size, (batch_size, sequence_length))\n",
    "\n",
    "# Forward pass through the model\n",
    "output = model(input_data)\n",
    "\n",
    "print(\"Model Output Shape:\", output.shape)"
   ]
  },
  {
   "cell_type": "code",
   "execution_count": 22,
   "id": "b66b46d6",
   "metadata": {},
   "outputs": [],
   "source": [
    "\n",
    "TT = ToyTransformer(vocab_size, embedding_dim, num_heads, hidden_dim, num_layers, dropout,sequence_length)"
   ]
  },
  {
   "cell_type": "code",
   "execution_count": null,
   "id": "d58d3d50",
   "metadata": {},
   "outputs": [],
   "source": [
    "teacher_toy = Teacher(TT,(sequence_length,))"
   ]
  },
  {
   "cell_type": "code",
   "execution_count": null,
   "id": "9a1c4bd2",
   "metadata": {},
   "outputs": [],
   "source": [
    "teacher_toy.configure(**config_ab) "
   ]
  },
  {
   "cell_type": "code",
   "execution_count": null,
   "id": "602e9173",
   "metadata": {},
   "outputs": [],
   "source": [
    "args = { 'val_train' : \"val\"\n",
    "                      , 'n' : 10_000\n",
    "                      , 'dist_type' : 'ints'\n",
    "                      , 'm' : vocab_size\n",
    "                      , 'std': 1.0\n",
    "                      , 'alpha' : 1\n",
    "                      , 'beta' : 3\n",
    "                      , 'store_outputs' : True\n",
    "        }\n",
    "teacher_toy.model.eval()\n",
    "teacher_toy.generate_data(**args)"
   ]
  },
  {
   "cell_type": "code",
   "execution_count": null,
   "id": "49a2446c",
   "metadata": {},
   "outputs": [],
   "source": [
    "#torch.save(teacher_toy.model.state_dict(), 'good_toy.pth')"
   ]
  },
  {
   "cell_type": "code",
   "execution_count": null,
   "id": "7fec079e",
   "metadata": {},
   "outputs": [],
   "source": [
    "teacher_toy.model(teacher_toy.val_inputs[0:10]).shape"
   ]
  },
  {
   "cell_type": "code",
   "execution_count": null,
   "id": "6a385b02",
   "metadata": {},
   "outputs": [],
   "source": [
    "teacher_toy.load_state_dict('good_toy.pth')"
   ]
  },
  {
   "cell_type": "code",
   "execution_count": null,
   "id": "e3dc939a",
   "metadata": {},
   "outputs": [],
   "source": [
    "teacher_toy.model.eval()"
   ]
  },
  {
   "cell_type": "code",
   "execution_count": null,
   "id": "56202d91",
   "metadata": {},
   "outputs": [],
   "source": [
    "TT(teacher_toy.val_inputs[0:1])"
   ]
  },
  {
   "cell_type": "code",
   "execution_count": null,
   "id": "4fc6be98",
   "metadata": {},
   "outputs": [],
   "source": [
    "teacher_toy.val_targets[0:1]"
   ]
  },
  {
   "cell_type": "code",
   "execution_count": null,
   "id": "5fab5efd",
   "metadata": {},
   "outputs": [],
   "source": [
    "teacher_toy.val_inputs[0:1]"
   ]
  },
  {
   "cell_type": "code",
   "execution_count": null,
   "id": "ae16bcdd",
   "metadata": {},
   "outputs": [],
   "source": [
    "for i in range(1):\n",
    "    print(teacher_toy.model(teacher_toy.val_inputs[i:i+1]), teacher_toy.val_targets[i:i+1])"
   ]
  },
  {
   "cell_type": "code",
   "execution_count": null,
   "id": "261c9013",
   "metadata": {},
   "outputs": [],
   "source": [
    "\n",
    "data_loader = DataLoader(TensorDataset(samples), batch_size=batch_size, shuffle=False)\n",
    "self.data_loader = data_loader\n",
    "outputs_list = []\n",
    "inputs_list = []\n",
    "\n",
    "total_batches = len(data_loader)\n",
    "\n",
    "if store_outputs:\n",
    "    if display_progress:\n",
    "        progress_bar = tqdm(total=total_batches, desc=f\"Generating {val_train} data :\")\n",
    "    self.model.eval()\n",
    "\n",
    "\n",
    "    for batch_samples in data_loader:\n",
    "        # Perform inference on each batch\n",
    "        batch_outputs = self.model(batch_samples[0])  # Assuming samples are in the first element of the batch\n",
    "        #inputs_list.append(batch_samples[0].detach())\n",
    "        outputs_list.append(batch_outputs.detach())\n",
    "        if display_progress:\n",
    "            progress_bar.update(1)\n",
    "outputs_return = torch.cat(outputs_list, dim=0)"
   ]
  },
  {
   "cell_type": "code",
   "execution_count": null,
   "id": "471186d4",
   "metadata": {},
   "outputs": [],
   "source": []
  },
  {
   "cell_type": "code",
   "execution_count": null,
   "id": "8435a718",
   "metadata": {},
   "outputs": [],
   "source": [
    "for i in range(100):\n",
    "    print(torch.all(TT(teacher_toy.val_inputs[i:i+1]) == teacher_toy.val_targets[i:i+1]))"
   ]
  },
  {
   "cell_type": "code",
   "execution_count": null,
   "id": "7847f42d",
   "metadata": {},
   "outputs": [],
   "source": [
    "TT.load_state_dict(torch.load('good_toy.pth'))"
   ]
  },
  {
   "cell_type": "code",
   "execution_count": null,
   "id": "e7dc8124",
   "metadata": {},
   "outputs": [],
   "source": [
    "TT.eval()"
   ]
  },
  {
   "cell_type": "code",
   "execution_count": null,
   "id": "311f2638",
   "metadata": {},
   "outputs": [],
   "source": [
    "import numpy as np\n",
    "gen_shape = (100, sequence_length)\n",
    "samples = np.random.randint(0, high=vocab_size, size=gen_shape)\n",
    "samples = torch.from_numpy(samples)"
   ]
  },
  {
   "cell_type": "code",
   "execution_count": null,
   "id": "54cdd7c9",
   "metadata": {},
   "outputs": [],
   "source": [
    "samples"
   ]
  },
  {
   "cell_type": "code",
   "execution_count": null,
   "id": "c45c87e7",
   "metadata": {},
   "outputs": [],
   "source": [
    "#samples = teacher_toy.val_inputs[0:100]\n",
    "#print(samples)\n",
    "TT(samples[20:30])[0:1]== TT(samples[20:22])[0:1]"
   ]
  },
  {
   "cell_type": "code",
   "execution_count": null,
   "id": "5711b5d2",
   "metadata": {},
   "outputs": [],
   "source": [
    "TT.eval()\n",
    "\n",
    "# Define batch size\n",
    "batch_size = 32  # You can adjust this as needed\n",
    "\n",
    "# Split samples into batches\n",
    "sample_batches = torch.split(samples, batch_size)\n",
    "\n",
    "# Create a list to store batched outputs\n",
    "outputs_list = []\n",
    "\n",
    "# Forward pass through the model in batches\n",
    "with torch.no_grad():  \n",
    "    for batch in sample_batches:\n",
    "        batch_outputs = TT(batch)\n",
    "        outputs_list.append(batch_outputs)\n",
    "\n",
    "# Stack the batched outputs\n",
    "stacked_outputs = torch.cat(outputs_list, dim=0)"
   ]
  },
  {
   "cell_type": "code",
   "execution_count": null,
   "id": "6a96b304",
   "metadata": {},
   "outputs": [],
   "source": [
    "stacked_outputs.shape, samples.shape"
   ]
  },
  {
   "cell_type": "code",
   "execution_count": null,
   "id": "007c6a85",
   "metadata": {},
   "outputs": [],
   "source": [
    "TT(samples[0:10])[0:1], stacked_outputs[0:1]"
   ]
  },
  {
   "cell_type": "code",
   "execution_count": 23,
   "id": "4a0d4123",
   "metadata": {},
   "outputs": [
    {
     "data": {
      "text/plain": [
       "215702"
      ]
     },
     "execution_count": 23,
     "metadata": {},
     "output_type": "execute_result"
    }
   ],
   "source": [
    "count_parameters(TT)"
   ]
  },
  {
   "cell_type": "code",
   "execution_count": null,
   "id": "6214de29",
   "metadata": {},
   "outputs": [],
   "source": []
  }
 ],
 "metadata": {
  "kernelspec": {
   "display_name": "Python 3 (ipykernel)",
   "language": "python",
   "name": "python3"
  },
  "language_info": {
   "codemirror_mode": {
    "name": "ipython",
    "version": 3
   },
   "file_extension": ".py",
   "mimetype": "text/x-python",
   "name": "python",
   "nbconvert_exporter": "python",
   "pygments_lexer": "ipython3",
   "version": "3.9.12"
  }
 },
 "nbformat": 4,
 "nbformat_minor": 5
}
