{
 "cells": [
  {
   "cell_type": "code",
   "execution_count": 1,
   "id": "fa086f0c",
   "metadata": {},
   "outputs": [],
   "source": [
    "import torch\n",
    "import torch.nn as nn\n",
    "import torch.nn.functional as F"
   ]
  },
  {
   "cell_type": "code",
   "execution_count": 55,
   "id": "048fbdfc",
   "metadata": {},
   "outputs": [],
   "source": [
    "##this is all wrong.  cross product between the words makes no sense lolol\n",
    "#a sentence embedding tho.\n",
    "\n",
    "class SimpleNN(nn.Module):\n",
    "    def __init__(self\n",
    "                 , vocab_size\n",
    "                 , sequence_length\n",
    "                 , hidden_dim\n",
    "                 , word_embed\n",
    "                 , sentence_embed\n",
    "                 , balanced_dim\n",
    "                ):\n",
    "        super(SimpleNN, self).__init__()\n",
    "        self.vocab_size = vocab_size\n",
    "        self.sequence_length = sequence_length\n",
    "        self.word_embed = word_embed\n",
    "        \n",
    "        self.word_embedding = nn.Linear(vocab_size,word_embed) #50 is word embeddings essentially\n",
    "        self.sentence_embedding = nn.Linear(sequence_length,sentence_embed) #also could apply twice.\n",
    "        self.we_down = nn.Linear(word_embed,balanced_dim)\n",
    "        self.seq_down = nn.Linear(sentence_embed,balanced_dim) #could apply twice\n",
    "    \n",
    "        self.out = nn.Linear(balanced_dim**3,vocab_size)\n",
    "        # Activation function\n",
    "\n",
    "    def forward(self, x):\n",
    "        print(x.shape)\n",
    "        x = F.relu(self.word_embedding(x)) #sentence of word embeddings.  \n",
    "        print(x.shape)\n",
    "        x = x.permute(0, 2, 1)\n",
    "        print(x.shape)\n",
    "        x = F.relu(self.sentence_embedding(x))\n",
    "        print(x.shape)\n",
    "        x = x.permute(0, 2, 1)\n",
    "        print(x.shape)\n",
    "        # Flatten the sequence_length and vocab_size dimensions\n",
    "        x = F.relu(torch.einsum('bij,bkm->bikj', x, x)) #interactions\n",
    "        print(x.shape)\n",
    "        x = F.relu(self.we_down(x))\n",
    "        print(x.shape)\n",
    "        x = x.permute(0, 3, 1, 2)\n",
    "        print(x.shape)\n",
    "        x = F.relu(self.seq_down(x))\n",
    "        print(x.shape)\n",
    "        x = x.permute(0, 1, 3, 2)\n",
    "        print(x.shape)\n",
    "        x = F.relu(self.seq_down(x)) #duplicated, could be a second layer.   \n",
    "        print(x.shape)\n",
    "        x = x.view(x.shape[0],-1)\n",
    "        print(x.shape)\n",
    "        # Pass through the second fully connected layer\n",
    "        x = self.out(x)\n",
    "        #x = F.softmax(x,dim=1)\n",
    "        return x"
   ]
  },
  {
   "cell_type": "code",
   "execution_count": 56,
   "id": "bae4808c",
   "metadata": {},
   "outputs": [
    {
     "name": "stdout",
     "output_type": "stream",
     "text": [
      "SimpleNN(\n",
      "  (word_embedding): Linear(in_features=3000, out_features=51, bias=True)\n",
      "  (sentence_embedding): Linear(in_features=1000, out_features=54, bias=True)\n",
      "  (we_down): Linear(in_features=51, out_features=10, bias=True)\n",
      "  (seq_down): Linear(in_features=54, out_features=10, bias=True)\n",
      "  (out): Linear(in_features=1000, out_features=3000, bias=True)\n",
      ")\n"
     ]
    }
   ],
   "source": [
    "# Hyperparameters\n",
    "vocab_size = 3000  # Example vocab size\n",
    "sequence_length = 1000  # Example sequence length\n",
    "hidden_dim = 128  # Example hidden dimension\n",
    "word_embed = 51\n",
    "sentence_embed = 54\n",
    "balanced_dim = 10\n",
    "batch_size = 50\n",
    "\n",
    "# Instantiate the model\n",
    "model = SimpleNN(vocab_size, sequence_length, hidden_dim, word_embed,sentence_embed,balanced_dim)\n",
    "print(model)"
   ]
  },
  {
   "cell_type": "code",
   "execution_count": 57,
   "id": "ca4ca19a",
   "metadata": {},
   "outputs": [
    {
     "data": {
      "text/plain": [
       "torch.Size([50, 1000, 3000])"
      ]
     },
     "execution_count": 57,
     "metadata": {},
     "output_type": "execute_result"
    }
   ],
   "source": [
    "rand_input = torch.rand(batch_size, sequence_length, vocab_size)\n",
    "rand_input.shape"
   ]
  },
  {
   "cell_type": "code",
   "execution_count": 58,
   "id": "d2f3e6f8",
   "metadata": {},
   "outputs": [
    {
     "name": "stdout",
     "output_type": "stream",
     "text": [
      "torch.Size([50, 1000, 3000])\n",
      "torch.Size([50, 1000, 51])\n",
      "torch.Size([50, 51, 1000])\n",
      "torch.Size([50, 51, 54])\n",
      "torch.Size([50, 54, 51])\n",
      "torch.Size([50, 54, 54, 51])\n",
      "torch.Size([50, 54, 54, 10])\n",
      "torch.Size([50, 10, 54, 54])\n",
      "torch.Size([50, 10, 54, 10])\n",
      "torch.Size([50, 10, 10, 54])\n",
      "torch.Size([50, 10, 10, 10])\n",
      "torch.Size([50, 1000])\n"
     ]
    },
    {
     "data": {
      "text/plain": [
       "torch.Size([50, 3000])"
      ]
     },
     "execution_count": 58,
     "metadata": {},
     "output_type": "execute_result"
    }
   ],
   "source": [
    "model(rand_input).shape"
   ]
  },
  {
   "cell_type": "code",
   "execution_count": 48,
   "id": "cb9267f0",
   "metadata": {},
   "outputs": [],
   "source": [
    "def count_parameters(model):\n",
    "    return sum(p.numel() for p in model.parameters() if p.requires_grad)\n",
    "\n",
    "# Using the SimpleNN model define"
   ]
  },
  {
   "cell_type": "code",
   "execution_count": 49,
   "id": "1f651ddc",
   "metadata": {},
   "outputs": [
    {
     "name": "stdout",
     "output_type": "stream",
     "text": [
      "Total number of trainable parameters: 3211175\n"
     ]
    }
   ],
   "source": [
    "total_params = count_parameters(model)\n",
    "print(f\"Total number of trainable parameters: {total_params}\")"
   ]
  },
  {
   "cell_type": "code",
   "execution_count": null,
   "id": "b49e7017",
   "metadata": {},
   "outputs": [],
   "source": []
  }
 ],
 "metadata": {
  "kernelspec": {
   "display_name": "Python 3 (ipykernel)",
   "language": "python",
   "name": "python3"
  },
  "language_info": {
   "codemirror_mode": {
    "name": "ipython",
    "version": 3
   },
   "file_extension": ".py",
   "mimetype": "text/x-python",
   "name": "python",
   "nbconvert_exporter": "python",
   "pygments_lexer": "ipython3",
   "version": "3.9.12"
  }
 },
 "nbformat": 4,
 "nbformat_minor": 5
}
