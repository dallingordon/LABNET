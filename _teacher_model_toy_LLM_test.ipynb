{
 "cells": [
  {
   "cell_type": "code",
   "execution_count": 1,
   "id": "6a04cb7a",
   "metadata": {},
   "outputs": [],
   "source": [
    "import torch\n",
    "import torch.nn as nn\n",
    "import torch.nn.functional as F"
   ]
  },
  {
   "cell_type": "code",
   "execution_count": 2,
   "id": "99b445af",
   "metadata": {},
   "outputs": [],
   "source": [
    "from NoiseKD import Teacher"
   ]
  },
  {
   "cell_type": "markdown",
   "id": "f5a11b24",
   "metadata": {},
   "source": [
    "First hurdle. the embedding layer.  It requires the ints as inputs, not one hot.  i need one hot.  i will also need to rewire the LLM i use to do the same.  hmm.  save the weights, load it into a model that has the same shapes, but accepts one hot arrays, not vocab_indexes."
   ]
  },
  {
   "cell_type": "code",
   "execution_count": 3,
   "id": "dad448f8",
   "metadata": {},
   "outputs": [],
   "source": [
    "class TransformerEncoder(nn.Module):\n",
    "    def __init__(self, embedding_dim, num_heads, hidden_dim, num_layers, dropout):\n",
    "        super(TransformerEncoder, self).__init__()\n",
    "        self.transformer = nn.TransformerEncoder(\n",
    "            nn.TransformerEncoderLayer(embedding_dim, num_heads, hidden_dim, dropout),\n",
    "            num_layers\n",
    "        )\n",
    "\n",
    "    def forward(self, x):\n",
    "        return self.transformer(x)\n",
    "\n",
    "class SimpleLanguageModel(nn.Module):\n",
    "    def __init__(self, vocab_size, sequence_length, embedding_dim, class_num, num_heads, hidden_dim, num_layers, dropout):\n",
    "        super(SimpleLanguageModel, self).__init__()\n",
    "\n",
    "        # Define the embedding layer\n",
    "        self.embedding = nn.Embedding(vocab_size, embedding_dim)\n",
    "        \n",
    "        # Define the transformer encoder\n",
    "        self.transformer_encoder = TransformerEncoder(embedding_dim, num_heads, hidden_dim, num_layers, dropout)\n",
    "        \n",
    "        self.fc1 = nn.Linear(sequence_length*embedding_dim, 1000)\n",
    "        self.fc2 = nn.Linear(1000, 500)\n",
    "        \n",
    "        self.output_layer = nn.Linear(500, class_num)\n",
    "        \n",
    "        \n",
    "\n",
    "    def forward(self, input_data):\n",
    "        # Input_data is of shape (batch_size, sequence_length)\n",
    "        # Apply embedding layer\n",
    "        #print(input_data.shape)\n",
    "        embedded = self.embedding(input_data)\n",
    "        #print(embedded.shape)\n",
    "        # Pass through the transformer encoder\n",
    "        transformed = self.transformer_encoder(embedded)\n",
    "        #print(transformed.shape) same as input duh: batch x sequence_length x embedding_dim\n",
    "        flattened_tensor = transformed.view(-1,sequence_length*embedding_dim)\n",
    "        f1 = nn.ReLU()(self.fc1(flattened_tensor))\n",
    "        f2 = nn.ReLU()(self.fc2(f1))\n",
    "        out = self.output_layer(f2)\n",
    "        # Apply the output layer\n",
    "        output = F.softmax(out,dim=1)\n",
    "\n",
    "        return output\n",
    "    \n",
    "def count_parameters(model):\n",
    "    return sum(p.numel() for p in model.parameters())"
   ]
  },
  {
   "cell_type": "code",
   "execution_count": 4,
   "id": "cca2a6b2",
   "metadata": {},
   "outputs": [],
   "source": [
    "embedding_dim = 16\n",
    "num_heads = 8\n",
    "hidden_dim  = 11\n",
    "num_layers = 2\n",
    "dropout = 0.1\n",
    "vocab_size = 80\n",
    "class_num = 14\n",
    "batch_size = 23\n",
    "sequence_length = 160"
   ]
  },
  {
   "cell_type": "code",
   "execution_count": 5,
   "id": "a7b5a7d7",
   "metadata": {},
   "outputs": [],
   "source": [
    "SLM = SimpleLanguageModel(vocab_size, sequence_length, embedding_dim, class_num, num_heads, hidden_dim, num_layers, dropout)"
   ]
  },
  {
   "cell_type": "code",
   "execution_count": 6,
   "id": "d8fc6fde",
   "metadata": {},
   "outputs": [
    {
     "data": {
      "text/plain": [
       "SimpleLanguageModel(\n",
       "  (embedding): Embedding(80, 16)\n",
       "  (transformer_encoder): TransformerEncoder(\n",
       "    (transformer): TransformerEncoder(\n",
       "      (layers): ModuleList(\n",
       "        (0): TransformerEncoderLayer(\n",
       "          (self_attn): MultiheadAttention(\n",
       "            (out_proj): NonDynamicallyQuantizableLinear(in_features=16, out_features=16, bias=True)\n",
       "          )\n",
       "          (linear1): Linear(in_features=16, out_features=11, bias=True)\n",
       "          (dropout): Dropout(p=0.1, inplace=False)\n",
       "          (linear2): Linear(in_features=11, out_features=16, bias=True)\n",
       "          (norm1): LayerNorm((16,), eps=1e-05, elementwise_affine=True)\n",
       "          (norm2): LayerNorm((16,), eps=1e-05, elementwise_affine=True)\n",
       "          (dropout1): Dropout(p=0.1, inplace=False)\n",
       "          (dropout2): Dropout(p=0.1, inplace=False)\n",
       "        )\n",
       "        (1): TransformerEncoderLayer(\n",
       "          (self_attn): MultiheadAttention(\n",
       "            (out_proj): NonDynamicallyQuantizableLinear(in_features=16, out_features=16, bias=True)\n",
       "          )\n",
       "          (linear1): Linear(in_features=16, out_features=11, bias=True)\n",
       "          (dropout): Dropout(p=0.1, inplace=False)\n",
       "          (linear2): Linear(in_features=11, out_features=16, bias=True)\n",
       "          (norm1): LayerNorm((16,), eps=1e-05, elementwise_affine=True)\n",
       "          (norm2): LayerNorm((16,), eps=1e-05, elementwise_affine=True)\n",
       "          (dropout1): Dropout(p=0.1, inplace=False)\n",
       "          (dropout2): Dropout(p=0.1, inplace=False)\n",
       "        )\n",
       "      )\n",
       "    )\n",
       "  )\n",
       "  (fc1): Linear(in_features=2560, out_features=1000, bias=True)\n",
       "  (fc2): Linear(in_features=1000, out_features=500, bias=True)\n",
       "  (output_layer): Linear(in_features=500, out_features=14, bias=True)\n",
       ")"
      ]
     },
     "execution_count": 6,
     "metadata": {},
     "output_type": "execute_result"
    }
   ],
   "source": [
    "SLM"
   ]
  },
  {
   "cell_type": "code",
   "execution_count": 7,
   "id": "85578ee4",
   "metadata": {},
   "outputs": [
    {
     "data": {
      "text/plain": [
       "tensor([[0.0688, 0.0667, 0.0741, 0.0779, 0.0660, 0.0802, 0.0652, 0.0688, 0.0800,\n",
       "         0.0653, 0.0632, 0.0763, 0.0732, 0.0741],\n",
       "        [0.0691, 0.0690, 0.0741, 0.0711, 0.0711, 0.0809, 0.0624, 0.0678, 0.0768,\n",
       "         0.0660, 0.0765, 0.0697, 0.0690, 0.0764],\n",
       "        [0.0759, 0.0805, 0.0741, 0.0721, 0.0611, 0.0771, 0.0616, 0.0676, 0.0725,\n",
       "         0.0666, 0.0636, 0.0816, 0.0643, 0.0813],\n",
       "        [0.0665, 0.0691, 0.0718, 0.0790, 0.0695, 0.0741, 0.0639, 0.0628, 0.0845,\n",
       "         0.0666, 0.0709, 0.0723, 0.0790, 0.0702],\n",
       "        [0.0774, 0.0607, 0.0723, 0.0716, 0.0680, 0.0749, 0.0660, 0.0702, 0.0808,\n",
       "         0.0648, 0.0636, 0.0740, 0.0725, 0.0831],\n",
       "        [0.0701, 0.0639, 0.0757, 0.0777, 0.0689, 0.0709, 0.0682, 0.0668, 0.0878,\n",
       "         0.0660, 0.0669, 0.0725, 0.0668, 0.0778],\n",
       "        [0.0643, 0.0649, 0.0725, 0.0727, 0.0724, 0.0676, 0.0673, 0.0702, 0.0841,\n",
       "         0.0663, 0.0708, 0.0736, 0.0804, 0.0729],\n",
       "        [0.0676, 0.0628, 0.0660, 0.0713, 0.0656, 0.0798, 0.0671, 0.0674, 0.0870,\n",
       "         0.0811, 0.0685, 0.0685, 0.0811, 0.0663],\n",
       "        [0.0710, 0.0631, 0.0750, 0.0760, 0.0600, 0.0786, 0.0641, 0.0691, 0.0853,\n",
       "         0.0713, 0.0680, 0.0746, 0.0674, 0.0767],\n",
       "        [0.0699, 0.0648, 0.0641, 0.0617, 0.0658, 0.0836, 0.0673, 0.0685, 0.0830,\n",
       "         0.0710, 0.0623, 0.0830, 0.0765, 0.0785],\n",
       "        [0.0668, 0.0638, 0.0671, 0.0745, 0.0697, 0.0757, 0.0665, 0.0685, 0.0788,\n",
       "         0.0668, 0.0737, 0.0733, 0.0758, 0.0791],\n",
       "        [0.0685, 0.0670, 0.0736, 0.0776, 0.0608, 0.0740, 0.0701, 0.0735, 0.0775,\n",
       "         0.0630, 0.0682, 0.0821, 0.0802, 0.0639],\n",
       "        [0.0692, 0.0718, 0.0783, 0.0654, 0.0741, 0.0790, 0.0662, 0.0677, 0.0819,\n",
       "         0.0694, 0.0672, 0.0750, 0.0695, 0.0655],\n",
       "        [0.0754, 0.0684, 0.0661, 0.0679, 0.0711, 0.0738, 0.0626, 0.0716, 0.0809,\n",
       "         0.0706, 0.0707, 0.0780, 0.0725, 0.0704],\n",
       "        [0.0710, 0.0700, 0.0735, 0.0791, 0.0680, 0.0747, 0.0642, 0.0663, 0.0844,\n",
       "         0.0609, 0.0735, 0.0696, 0.0741, 0.0708],\n",
       "        [0.0753, 0.0610, 0.0693, 0.0717, 0.0741, 0.0649, 0.0672, 0.0630, 0.0867,\n",
       "         0.0708, 0.0685, 0.0769, 0.0743, 0.0762],\n",
       "        [0.0657, 0.0631, 0.0737, 0.0745, 0.0663, 0.0779, 0.0649, 0.0760, 0.0831,\n",
       "         0.0696, 0.0664, 0.0706, 0.0748, 0.0735],\n",
       "        [0.0698, 0.0629, 0.0608, 0.0691, 0.0797, 0.0689, 0.0671, 0.0735, 0.0866,\n",
       "         0.0701, 0.0641, 0.0751, 0.0769, 0.0753],\n",
       "        [0.0680, 0.0638, 0.0802, 0.0628, 0.0665, 0.0790, 0.0623, 0.0657, 0.0774,\n",
       "         0.0648, 0.0711, 0.0817, 0.0816, 0.0749],\n",
       "        [0.0636, 0.0584, 0.0644, 0.0762, 0.0737, 0.0868, 0.0630, 0.0809, 0.0843,\n",
       "         0.0665, 0.0785, 0.0649, 0.0701, 0.0687],\n",
       "        [0.0686, 0.0710, 0.0646, 0.0716, 0.0732, 0.0767, 0.0676, 0.0682, 0.0764,\n",
       "         0.0708, 0.0650, 0.0710, 0.0789, 0.0763],\n",
       "        [0.0713, 0.0706, 0.0713, 0.0737, 0.0631, 0.0746, 0.0589, 0.0684, 0.0850,\n",
       "         0.0716, 0.0669, 0.0787, 0.0747, 0.0712],\n",
       "        [0.0735, 0.0621, 0.0632, 0.0712, 0.0679, 0.0847, 0.0677, 0.0703, 0.0749,\n",
       "         0.0717, 0.0684, 0.0746, 0.0784, 0.0714]], grad_fn=<SoftmaxBackward0>)"
      ]
     },
     "execution_count": 7,
     "metadata": {},
     "output_type": "execute_result"
    }
   ],
   "source": [
    "input_data = torch.randint(low=0, high=vocab_size, size=(batch_size, sequence_length))\n",
    "SLM(input_data)"
   ]
  },
  {
   "cell_type": "code",
   "execution_count": 8,
   "id": "a3ba38e1",
   "metadata": {},
   "outputs": [
    {
     "data": {
      "text/plain": [
       "3072856"
      ]
     },
     "execution_count": 8,
     "metadata": {},
     "output_type": "execute_result"
    }
   ],
   "source": [
    "count_parameters(SLM)"
   ]
  },
  {
   "cell_type": "code",
   "execution_count": 9,
   "id": "c613c4cc",
   "metadata": {},
   "outputs": [],
   "source": [
    "teacher_slm = Teacher(SLM,(sequence_length,)) #don't specify batch!!"
   ]
  },
  {
   "cell_type": "code",
   "execution_count": 22,
   "id": "0fb0ccfa",
   "metadata": {},
   "outputs": [
    {
     "name": "stdout",
     "output_type": "stream",
     "text": [
      "Expected tensor for argument #1 'indices' to have one of the following scalar types: Long, Int; but got torch.FloatTensor instead (while checking arguments for embedding)\n",
      "lets try ints!\n"
     ]
    },
    {
     "name": "stderr",
     "output_type": "stream",
     "text": [
      "Configuring Teacher:: 100%|████████████████████████████████████████████████████████████████████████████████████████████████| 10/10 [01:35<00:00,  9.50s/it]"
     ]
    },
    {
     "name": "stdout",
     "output_type": "stream",
     "text": [
      "Teacher Configured\n"
     ]
    },
    {
     "name": "stderr",
     "output_type": "stream",
     "text": [
      "\n"
     ]
    }
   ],
   "source": [
    "teacher_slm.configure(dist_type = \"ints\"\n",
    "                      , gen_m = vocab_size\n",
    "                      , gen_n = 10_000\n",
    "                      , gen_epochs = 10\n",
    "                      , gen_lr = 0.01\n",
    "                      , random_shuffle = 0.3\n",
    "                      , out_type = \"one-hot\" ) #this is dying.  might be time for colab!!"
   ]
  },
  {
   "cell_type": "code",
   "execution_count": 23,
   "id": "77f954d3",
   "metadata": {},
   "outputs": [
    {
     "name": "stderr",
     "output_type": "stream",
     "text": [
      "Configuring Teacher:: 100%|██████████████████████████████████████████████████████████████████████████████████████████████| 200/200 [00:04<00:00, 40.87it/s]\n"
     ]
    }
   ],
   "source": [
    "#this has a batch dim, but it isn't being ran in batches.  i think i need to do an append to self.inputs etc\n",
    "args = { 'val_train' : \"train\"\n",
    "                      , 'n' : 10_000\n",
    "                      , 'dist_type' : 'ints'\n",
    "                      , 'm' : vocab_size\n",
    "                      , 'std': 1.0\n",
    "        }\n",
    "teacher_slm.generate_data(**args)"
   ]
  },
  {
   "cell_type": "code",
   "execution_count": 24,
   "id": "47234d83",
   "metadata": {},
   "outputs": [
    {
     "data": {
      "text/plain": [
       "torch.Size([10, 14])"
      ]
     },
     "execution_count": 24,
     "metadata": {},
     "output_type": "execute_result"
    }
   ],
   "source": [
    "teacher_slm.model(teacher_slm.train_inputs[:10]).shape"
   ]
  },
  {
   "cell_type": "code",
   "execution_count": 25,
   "id": "36c84643",
   "metadata": {},
   "outputs": [
    {
     "data": {
      "text/plain": [
       "tensor([[0., 0., 0.,  ..., 0., 0., 1.],\n",
       "        [0., 0., 0.,  ..., 1., 0., 0.],\n",
       "        [0., 0., 1.,  ..., 0., 0., 0.],\n",
       "        ...,\n",
       "        [0., 0., 1.,  ..., 0., 0., 0.],\n",
       "        [0., 0., 0.,  ..., 0., 1., 0.],\n",
       "        [0., 0., 0.,  ..., 0., 0., 0.]])"
      ]
     },
     "execution_count": 25,
     "metadata": {},
     "output_type": "execute_result"
    }
   ],
   "source": [
    "teacher_slm.out_temp"
   ]
  },
  {
   "cell_type": "code",
   "execution_count": 26,
   "id": "c2062e09",
   "metadata": {},
   "outputs": [
    {
     "data": {
      "text/plain": [
       "torch.Size([10000, 160])"
      ]
     },
     "execution_count": 26,
     "metadata": {},
     "output_type": "execute_result"
    }
   ],
   "source": [
    "teacher_slm.train_inputs.shape"
   ]
  },
  {
   "cell_type": "code",
   "execution_count": 27,
   "id": "f3ca1f01",
   "metadata": {},
   "outputs": [
    {
     "data": {
      "text/plain": [
       "array([[ 0.3016965 , -0.24368332,  1.584515  , ...,  0.45116335,\n",
       "         0.93156385, -0.5811422 ],\n",
       "       [ 1.1358676 , -0.9271309 ,  0.583345  , ...,  0.3191328 ,\n",
       "        -0.21009451, -2.265513  ],\n",
       "       [-0.25016376, -1.467522  , -0.8725965 , ..., -1.678036  ,\n",
       "         0.40563488, -0.15089063],\n",
       "       ...,\n",
       "       [-2.306779  , -0.18684156, -1.6040553 , ..., -0.43918175,\n",
       "         0.856878  ,  0.20695004],\n",
       "       [-0.4793628 ,  2.0016167 ,  0.10623812, ..., -1.420123  ,\n",
       "        -0.2950828 , -1.0309    ],\n",
       "       [ 0.5861007 , -1.0652558 ,  0.6993386 , ..., -0.9170168 ,\n",
       "         1.7089394 ,  0.6240984 ]], dtype=float32)"
      ]
     },
     "execution_count": 27,
     "metadata": {},
     "output_type": "execute_result"
    }
   ],
   "source": [
    "teacher_slm.model.embedding.weight.detach().numpy() #use this to make the matrix, just linear? not sure."
   ]
  },
  {
   "cell_type": "code",
   "execution_count": 28,
   "id": "513eec1f",
   "metadata": {},
   "outputs": [],
   "source": [
    "test = torch.argmax(teacher_slm.train_targets,axis = -1) #the code is write, i just need this to be a better dist."
   ]
  },
  {
   "cell_type": "code",
   "execution_count": 29,
   "id": "186719d9",
   "metadata": {},
   "outputs": [
    {
     "data": {
      "text/plain": [
       "tensor([[0., 0., 0., 0., 0., 0., 0., 0., 0., 0., 0., 0., 1., 0.],\n",
       "        [0., 0., 0., 0., 0., 0., 0., 0., 0., 0., 0., 0., 1., 0.],\n",
       "        [0., 0., 0., 0., 0., 0., 0., 0., 0., 0., 0., 0., 1., 0.],\n",
       "        [0., 0., 0., 0., 0., 0., 0., 0., 0., 0., 0., 0., 1., 0.],\n",
       "        [0., 0., 0., 0., 0., 0., 0., 0., 0., 0., 0., 0., 1., 0.],\n",
       "        [0., 0., 0., 0., 0., 0., 0., 0., 0., 0., 0., 0., 1., 0.],\n",
       "        [0., 0., 0., 0., 0., 0., 0., 0., 0., 0., 0., 0., 1., 0.],\n",
       "        [0., 0., 0., 0., 0., 0., 0., 0., 0., 0., 0., 0., 1., 0.],\n",
       "        [0., 0., 0., 0., 0., 0., 0., 0., 0., 0., 0., 0., 1., 0.],\n",
       "        [0., 0., 0., 0., 0., 0., 0., 0., 0., 0., 0., 0., 1., 0.]])"
      ]
     },
     "execution_count": 29,
     "metadata": {},
     "output_type": "execute_result"
    }
   ],
   "source": [
    "teacher_slm.train_targets[:10]"
   ]
  },
  {
   "cell_type": "code",
   "execution_count": 30,
   "id": "18b45d7e",
   "metadata": {},
   "outputs": [
    {
     "data": {
      "text/plain": [
       "tensor([[0., 0., 0.,  ..., 0., 0., 1.],\n",
       "        [0., 0., 0.,  ..., 1., 0., 0.],\n",
       "        [0., 0., 1.,  ..., 0., 0., 0.],\n",
       "        ...,\n",
       "        [0., 0., 1.,  ..., 0., 0., 0.],\n",
       "        [0., 0., 0.,  ..., 0., 1., 0.],\n",
       "        [0., 0., 0.,  ..., 0., 0., 0.]])"
      ]
     },
     "execution_count": 30,
     "metadata": {},
     "output_type": "execute_result"
    }
   ],
   "source": [
    "teacher_slm.out_temp"
   ]
  },
  {
   "cell_type": "code",
   "execution_count": 31,
   "id": "9d724ee2",
   "metadata": {},
   "outputs": [
    {
     "data": {
      "image/png": "[encoded data removed]",
      "text/plain": [
       "<Figure size 432x288 with 1 Axes>"
      ]
     },
     "metadata": {
      "needs_background": "light"
     },
     "output_type": "display_data"
    }
   ],
   "source": [
    "import numpy as np\n",
    "import matplotlib.pyplot as plt\n",
    "class_counts = [np.count_nonzero(test == i) for i in range(1, class_num + 1)]\n",
    "\n",
    "# Create a bar chart\n",
    "plt.bar(range(1, class_num + 1), class_counts, align='center')\n",
    "plt.xlabel('Class')\n",
    "plt.ylabel('Count')\n",
    "plt.title('Bar Chart of Class Counts')\n",
    "plt.xticks(range(1, class_num + 1))\n",
    "plt.show()"
   ]
  },
  {
   "cell_type": "markdown",
   "id": "444f7b2a",
   "metadata": {},
   "source": [
    "specify gen outputs.  we need one hots\n",
    "i can do this better than chat gpt lol"
   ]
  },
  {
   "cell_type": "code",
   "execution_count": 20,
   "id": "5916bb4a",
   "metadata": {},
   "outputs": [],
   "source": [
    "##this function works, it is in LABNET.  \n",
    "def one_hot_last_dim(tensor_shape):\n",
    "    num_classes = tensor_shape[-1]\n",
    "    random_idx = np.random.randint(1, num_classes + 1, size=tensor_shape[:-1])\n",
    "    zero_tensor = np.zeros(tensor_shape, dtype=int)\n",
    "    last_dim_indices = np.arange(num_classes)\n",
    "    zero_tensor[..., :, last_dim_indices] = (random_idx[..., np.newaxis] == last_dim_indices)\n",
    "    return zero_tensor"
   ]
  },
  {
   "cell_type": "code",
   "execution_count": 21,
   "id": "cf0a66d1",
   "metadata": {},
   "outputs": [
    {
     "ename": "NameError",
     "evalue": "name 'x' is not defined",
     "output_type": "error",
     "traceback": [
      "\u001b[0;31m---------------------------------------------------------------------------\u001b[0m",
      "\u001b[0;31mNameError\u001b[0m                                 Traceback (most recent call last)",
      "Input \u001b[0;32mIn [21]\u001b[0m, in \u001b[0;36m<cell line: 1>\u001b[0;34m()\u001b[0m\n\u001b[0;32m----> 1\u001b[0m \u001b[43mx\u001b[49m\n",
      "\u001b[0;31mNameError\u001b[0m: name 'x' is not defined"
     ]
    }
   ],
   "source": [
    "x"
   ]
  },
  {
   "cell_type": "code",
   "execution_count": null,
   "id": "67fabd52",
   "metadata": {},
   "outputs": [],
   "source": [
    "axis_to_shuffle = 0\n",
    "\n",
    "# Shuffle the tensor along the specified axis\n",
    "shuffled_tensor = np.take(x, np.random.permutation(x.shape[0]), axis=0)\n",
    "\n",
    "print(shuffled_tensor)\n"
   ]
  },
  {
   "cell_type": "code",
   "execution_count": null,
   "id": "ba3f68eb",
   "metadata": {},
   "outputs": [],
   "source": [
    "import random\n",
    "\n",
    "\n",
    "for i in range(10):\n",
    "    random_number = random.random()\n",
    "    print(random_number)"
   ]
  },
  {
   "cell_type": "code",
   "execution_count": null,
   "id": "cb166fea",
   "metadata": {},
   "outputs": [],
   "source": []
  }
 ],
 "metadata": {
  "kernelspec": {
   "display_name": "Python 3 (ipykernel)",
   "language": "python",
   "name": "python3"
  },
  "language_info": {
   "codemirror_mode": {
    "name": "ipython",
    "version": 3
   },
   "file_extension": ".py",
   "mimetype": "text/x-python",
   "name": "python",
   "nbconvert_exporter": "python",
   "pygments_lexer": "ipython3",
   "version": "3.9.12"
  }
 },
 "nbformat": 4,
 "nbformat_minor": 5
}
