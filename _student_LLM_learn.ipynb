{
 "cells": [
  {
   "cell_type": "code",
   "execution_count": null,
   "id": "411e4bc7",
   "metadata": {},
   "outputs": [],
   "source": [
    "\"\"\"\n",
    "okay, tasks for this notebook:\n",
    "\n",
    "-make a teacher with descent class distribution\n",
    "    --make a student of same architecture, train it (i have all these parts. ez.)\n",
    "        ---using ints as input (default) and post-sigmoid as output\n",
    "        ---remove last layer and use logits, then compare with sigmoide added on\n",
    "        ---both?\n",
    "    --swap the embedding layer for something that can take random noise.  add that to noiseKD? --on another nb\n",
    "        ---this should enable us to train on noise, not just int indexes.  compare all\n",
    "        \n",
    "\"\"\""
   ]
  },
  {
   "cell_type": "code",
   "execution_count": 1,
   "id": "cd773674",
   "metadata": {},
   "outputs": [],
   "source": [
    "import torch\n",
    "import torch.nn as nn\n",
    "import torch.nn.functional as F\n",
    "from torch.utils.data import DataLoader, TensorDataset\n",
    "import torch.optim as optim\n",
    "from NoiseKD import Teacher, SimpleLanguageModel, slm_init_config, slm_model_config, count_parameters"
   ]
  },
  {
   "cell_type": "code",
   "execution_count": 7,
   "id": "90d7a820",
   "metadata": {},
   "outputs": [],
   "source": [
    "SLM = SimpleLanguageModel(**slm_init_config)"
   ]
  },
  {
   "cell_type": "code",
   "execution_count": 8,
   "id": "bc940caa",
   "metadata": {},
   "outputs": [
    {
     "data": {
      "text/plain": [
       "3105922"
      ]
     },
     "execution_count": 8,
     "metadata": {},
     "output_type": "execute_result"
    }
   ],
   "source": [
    "count_parameters(SLM)"
   ]
  },
  {
   "cell_type": "code",
   "execution_count": 9,
   "id": "855daf7b",
   "metadata": {},
   "outputs": [
    {
     "data": {
      "text/plain": [
       "80"
      ]
     },
     "execution_count": 9,
     "metadata": {},
     "output_type": "execute_result"
    }
   ],
   "source": [
    "slm_init_config['vocab_size']"
   ]
  },
  {
   "cell_type": "code",
   "execution_count": 10,
   "id": "3f84dc87",
   "metadata": {},
   "outputs": [],
   "source": [
    "teacher_slm = Teacher(SLM,(160,))"
   ]
  },
  {
   "cell_type": "code",
   "execution_count": 11,
   "id": "a14b2f56",
   "metadata": {},
   "outputs": [],
   "source": [
    "# for comparison, i need to be starting them off with the same init.  do that."
   ]
  },
  {
   "cell_type": "code",
   "execution_count": 12,
   "id": "2529c38a",
   "metadata": {},
   "outputs": [
    {
     "name": "stdout",
     "output_type": "stream",
     "text": [
      "Expected tensor for argument #1 'indices' to have one of the following scalar types: Long, Int; but got torch.FloatTensor instead (while checking arguments for embedding)\n",
      "lets try ints!\n"
     ]
    },
    {
     "name": "stderr",
     "output_type": "stream",
     "text": [
      "Configuring Teacher:: 100%|█████████████████████| 50/50 [01:36<00:00,  1.93s/it]"
     ]
    },
    {
     "name": "stdout",
     "output_type": "stream",
     "text": [
      "Teacher Configured\n"
     ]
    },
    {
     "name": "stderr",
     "output_type": "stream",
     "text": [
      "\n"
     ]
    }
   ],
   "source": [
    "teacher_slm.configure(**slm_model_config)"
   ]
  },
  {
   "cell_type": "code",
   "execution_count": 13,
   "id": "1446eb5d",
   "metadata": {},
   "outputs": [
    {
     "name": "stderr",
     "output_type": "stream",
     "text": [
      "Generating train data :: 100%|██████████████| 2000/2000 [00:51<00:00, 39.10it/s]\n"
     ]
    }
   ],
   "source": [
    "args = { 'val_train' : \"train\"\n",
    "                      , 'n' : 100_000\n",
    "                      , 'dist_type' : 'ints'\n",
    "                      , 'm' : slm_init_config['vocab_size']\n",
    "                      , 'std': 1.0\n",
    "        }\n",
    "teacher_slm.generate_data(**args)"
   ]
  },
  {
   "cell_type": "code",
   "execution_count": 14,
   "id": "7a683075",
   "metadata": {},
   "outputs": [
    {
     "name": "stderr",
     "output_type": "stream",
     "text": [
      "Generating val data :: 100%|██████████████████| 200/200 [00:04<00:00, 40.07it/s]\n"
     ]
    }
   ],
   "source": [
    "args = { 'val_train' : \"val\"\n",
    "                      , 'n' : 10_000\n",
    "                      , 'dist_type' : 'ints'\n",
    "                      , 'm' : slm_init_config['vocab_size']\n",
    "                      , 'std': 1.0\n",
    "        }\n",
    "teacher_slm.generate_data(**args)"
   ]
  },
  {
   "cell_type": "code",
   "execution_count": 15,
   "id": "283d99d1",
   "metadata": {},
   "outputs": [],
   "source": [
    "student = SimpleLanguageModel(**slm_init_config)"
   ]
  },
  {
   "cell_type": "code",
   "execution_count": 16,
   "id": "44c081c7",
   "metadata": {},
   "outputs": [
    {
     "data": {
      "text/plain": [
       "SimpleLanguageModel(\n",
       "  (embedding): Embedding(80, 16)\n",
       "  (transformer_encoder): TransformerEncoder(\n",
       "    (transformer): TransformerEncoder(\n",
       "      (layers): ModuleList(\n",
       "        (0): TransformerEncoderLayer(\n",
       "          (self_attn): MultiheadAttention(\n",
       "            (out_proj): NonDynamicallyQuantizableLinear(in_features=16, out_features=16, bias=True)\n",
       "          )\n",
       "          (linear1): Linear(in_features=16, out_features=11, bias=True)\n",
       "          (dropout): Dropout(p=0.1, inplace=False)\n",
       "          (linear2): Linear(in_features=11, out_features=16, bias=True)\n",
       "          (norm1): LayerNorm((16,), eps=1e-05, elementwise_affine=True)\n",
       "          (norm2): LayerNorm((16,), eps=1e-05, elementwise_affine=True)\n",
       "          (dropout1): Dropout(p=0.1, inplace=False)\n",
       "          (dropout2): Dropout(p=0.1, inplace=False)\n",
       "        )\n",
       "        (1): TransformerEncoderLayer(\n",
       "          (self_attn): MultiheadAttention(\n",
       "            (out_proj): NonDynamicallyQuantizableLinear(in_features=16, out_features=16, bias=True)\n",
       "          )\n",
       "          (linear1): Linear(in_features=16, out_features=11, bias=True)\n",
       "          (dropout): Dropout(p=0.1, inplace=False)\n",
       "          (linear2): Linear(in_features=11, out_features=16, bias=True)\n",
       "          (norm1): LayerNorm((16,), eps=1e-05, elementwise_affine=True)\n",
       "          (norm2): LayerNorm((16,), eps=1e-05, elementwise_affine=True)\n",
       "          (dropout1): Dropout(p=0.1, inplace=False)\n",
       "          (dropout2): Dropout(p=0.1, inplace=False)\n",
       "        )\n",
       "      )\n",
       "    )\n",
       "  )\n",
       "  (fc1): Linear(in_features=2560, out_features=1000, bias=True)\n",
       "  (fc2): Linear(in_features=1000, out_features=500, bias=True)\n",
       "  (output_layer): Linear(in_features=500, out_features=80, bias=True)\n",
       ")"
      ]
     },
     "execution_count": 16,
     "metadata": {},
     "output_type": "execute_result"
    }
   ],
   "source": [
    "student"
   ]
  },
  {
   "cell_type": "code",
   "execution_count": null,
   "id": "f207cc31",
   "metadata": {},
   "outputs": [],
   "source": [
    "##to train form the teacher object was written already"
   ]
  },
  {
   "cell_type": "code",
   "execution_count": 26,
   "id": "e2e29454",
   "metadata": {},
   "outputs": [],
   "source": [
    "num_epochs = 10\n",
    "batch_size = 32\n",
    "learning_rate = 0.009 #0.00025 this shit is slooooow\n",
    "momentum = 0.95\n",
    "criterion = nn.MSELoss()\n",
    "optimizer = optim.Adam(student.parameters(), lr=learning_rate)\n",
    "\n",
    "optimizer = optim.SGD(student.parameters(), lr=learning_rate, momentum=momentum)\n",
    "data = list(zip(teacher_slm.train_inputs, teacher_slm.train_targets))\n",
    "input_tensors = torch.stack([torch.Tensor(x[0]) for x in data])\n",
    "target_tensors = torch.stack([torch.Tensor(x[1]) for x in data])\n",
    "dataset = TensorDataset(input_tensors, target_tensors)\n",
    "dataloader = DataLoader(dataset, batch_size=batch_size, shuffle=True)\n",
    "\n",
    "val_data = list(zip(teacher_slm.val_inputs, teacher_slm.val_targets))\n",
    "val_input_tensors = torch.stack([torch.Tensor(x[0]) for x in val_data])\n",
    "val_target_tensors = torch.stack([torch.Tensor(x[1]) for x in val_data])\n",
    "val_dataset = TensorDataset(val_input_tensors, val_target_tensors)\n",
    "val_dataloader = DataLoader(val_dataset, batch_size=batch_size, shuffle=True)"
   ]
  },
  {
   "cell_type": "code",
   "execution_count": 27,
   "id": "1b8d1977",
   "metadata": {},
   "outputs": [
    {
     "name": "stdout",
     "output_type": "stream",
     "text": [
      "Epoch [1/10], Loss: 0.00728246, Train Accuracy: 79.1964\n",
      "\t\tValidation Accuracy: 79.1895\n",
      "Epoch [2/10], Loss: 0.00726915, Train Accuracy: 79.1964\n",
      "\t\tValidation Accuracy: 79.1894\n",
      "Epoch [3/10], Loss: 0.00725322, Train Accuracy: 79.1967\n",
      "\t\tValidation Accuracy: 79.1894\n",
      "Epoch [4/10], Loss: 0.00723599, Train Accuracy: 79.1971\n",
      "\t\tValidation Accuracy: 79.1873\n",
      "Epoch [5/10], Loss: 0.00721645, Train Accuracy: 79.1979\n",
      "\t\tValidation Accuracy: 79.1894\n",
      "Epoch [6/10], Loss: 0.00719714, Train Accuracy: 79.1985\n",
      "\t\tValidation Accuracy: 79.1869\n",
      "Epoch [7/10], Loss: 0.00718090, Train Accuracy: 79.2000\n",
      "\t\tValidation Accuracy: 79.1857\n",
      "Epoch [8/10], Loss: 0.00716581, Train Accuracy: 79.2015\n",
      "\t\tValidation Accuracy: 79.1846\n",
      "Epoch [9/10], Loss: 0.00714748, Train Accuracy: 79.2035\n",
      "\t\tValidation Accuracy: 79.1806\n",
      "Epoch [10/10], Loss: 0.00712604, Train Accuracy: 79.2053\n",
      "\t\tValidation Accuracy: 79.1887\n"
     ]
    }
   ],
   "source": [
    "#conventional train, repeats throught the dataset\n",
    "accuracy_threshold = 0.5\n",
    "print_every = 1 #its working, its just lots of data mama.\n",
    "validation_every = 1\n",
    "losses = []  # List to store losses\n",
    "accuracies = []\n",
    "\n",
    "for epoch in range(num_epochs):\n",
    "    total_loss = 0\n",
    "    correct_predictions = 0\n",
    "    total_samples = 0\n",
    "    \n",
    "    for input_batch, target_batch in dataloader:\n",
    "        optimizer.zero_grad()  # Zero the gradients\n",
    "        output = student(input_batch)  # Forward pass\n",
    "        loss = criterion(output, target_batch)  # Compute the loss\n",
    "        loss.backward()  # Backpropagation\n",
    "        optimizer.step()  # Update the weights\n",
    "        total_loss += loss.item()\n",
    "        #add early stopping...\n",
    "        #and validation at each step.  \n",
    "        # Calculate accuracy\n",
    "        predictions = (output > accuracy_threshold).float()  # Assuming a threshold of 0.5 for binary classification\n",
    "        correct_predictions += (predictions == target_batch).sum().item()\n",
    "        total_samples += input_batch.size(0)\n",
    "\n",
    "    # Print the average loss for this epoch\n",
    "    avg_loss = total_loss / len(dataloader)\n",
    "    losses.append(avg_loss)\n",
    "        \n",
    "    accuracy = correct_predictions / total_samples\n",
    "    accuracies.append(accuracy)\n",
    "\n",
    "    if (epoch + 1) % print_every == 0:\n",
    "        print(f'Epoch [{epoch+1}/{num_epochs}], Loss: {avg_loss:.8f}, Train Accuracy: {accuracy:.4f}')\n",
    "\n",
    "    if (epoch + 1) % validation_every == 0:\n",
    "        student.eval()\n",
    "        \n",
    "        total_val_samples = 0\n",
    "        correct_val_predictions = 0\n",
    "\n",
    "        with torch.no_grad():\n",
    "            for val_input_batch, val_target_batch in val_dataloader:\n",
    "                val_output = student(val_input_batch)\n",
    "                val_predictions = (val_output > accuracy_threshold).float()  # Assuming a threshold of 0.5 for binary classification\n",
    "                correct_val_predictions += (val_predictions == val_target_batch).sum().item()\n",
    "                total_val_samples += val_input_batch.size(0)\n",
    "\n",
    "        # Calculate validation accuracy\n",
    "        val_accuracy = correct_val_predictions / total_val_samples\n",
    "\n",
    "        # Print the validation accuracy for this epoch\n",
    "        print(f'\\t\\tValidation Accuracy: {val_accuracy:.4f}')\n",
    "\n",
    "        # Set the model back to training mode\n",
    "        student.train()\n",
    "            \n",
    "            "
   ]
  },
  {
   "cell_type": "code",
   "execution_count": null,
   "id": "8d872499",
   "metadata": {},
   "outputs": [],
   "source": [
    "#all unique train, \n",
    "\n",
    "##expand this then try collab\n",
    "#scc? or na? that competes with the other stuff i bet\n",
    "\n",
    "print_every = 1\n",
    "batch_eternal = 50\n",
    "data_n = 5000\n",
    "num_epochs = 400\n",
    "losses = []  # List to store losses\n",
    "\n",
    "for epoch in range(num_epochs):\n",
    "    total_loss = 0\n",
    "    teacher.generate_data(\n",
    "    \"train\"\n",
    "    ,data_n\n",
    "    ,'normal'\n",
    "    , m =0.0\n",
    "    , std=1.0\n",
    "    )\n",
    "    data = list(zip(teacher.train_inputs, teacher.train_targets))\n",
    "    input_tensors = torch.stack([torch.Tensor(x[0]) for x in data])\n",
    "    target_tensors = torch.stack([torch.Tensor(x[1]) for x in data])\n",
    "    dataset = TensorDataset(input_tensors, target_tensors)\n",
    "    dataloader = DataLoader(dataset, batch_size=batch_eternal, shuffle=True)\n",
    "    \n",
    "    for input_batch, target_batch in dataloader:\n",
    "        optimizer.zero_grad()  # Zero the gradients\n",
    "        output = student(input_batch)  # Forward pass\n",
    "        loss = criterion(output, target_batch)  # Compute the loss\n",
    "        loss.backward()  # Backpropagation\n",
    "        optimizer.step()  # Update the weights\n",
    "        total_loss += loss.item()\n",
    "\n",
    "    # Print the average loss for this epoch\n",
    "    avg_loss = total_loss / len(dataloader)\n",
    "    losses.append(avg_loss)\n",
    "    if (epoch + 1) % print_every == 0:\n",
    "        print(f'Epoch [{epoch+1}/{num_epochs}], Loss: {avg_loss:.8f}')"
   ]
  }
 ],
 "metadata": {
  "kernelspec": {
   "display_name": "Python 3 (ipykernel)",
   "language": "python",
   "name": "python3"
  },
  "language_info": {
   "codemirror_mode": {
    "name": "ipython",
    "version": 3
   },
   "file_extension": ".py",
   "mimetype": "text/x-python",
   "name": "python",
   "nbconvert_exporter": "python",
   "pygments_lexer": "ipython3",
   "version": "3.9.12"
  }
 },
 "nbformat": 4,
 "nbformat_minor": 5
}
