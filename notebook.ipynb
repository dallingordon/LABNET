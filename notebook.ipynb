{
 "cells": [
  {
   "cell_type": "code",
   "execution_count": null,
   "id": "5b8f423a",
   "metadata": {},
   "outputs": [],
   "source": [
    "\"\"\"\n",
    "i think i need a class called like, lab\n",
    "to set up a lab you need, input shape and output shape.  ok need pytorch and tensors.\n",
    "and a scheme.  the scheme is how to take inputs and get outputs. \n",
    "na, if you have a scheme you can get input and output shape.  no need to specify.  \n",
    "but the lab takes the scheme, and then can do operations on it.  it can make like, x% of the \n",
    "\"\"\""
   ]
  },
  {
   "cell_type": "code",
   "execution_count": 1,
   "id": "7f983196",
   "metadata": {},
   "outputs": [
    {
     "ename": "IndexError",
     "evalue": "list assignment index out of range",
     "output_type": "error",
     "traceback": [
      "\u001b[0;31m---------------------------------------------------------------------------\u001b[0m",
      "\u001b[0;31mIndexError\u001b[0m                                Traceback (most recent call last)",
      "Input \u001b[0;32mIn [1]\u001b[0m, in \u001b[0;36m<cell line: 2>\u001b[0;34m()\u001b[0m\n\u001b[1;32m      1\u001b[0m x \u001b[38;5;241m=\u001b[39m []\n\u001b[0;32m----> 2\u001b[0m x[\u001b[38;5;241m0\u001b[39m] \u001b[38;5;241m=\u001b[39m [\u001b[38;5;241m0\u001b[39m,\u001b[38;5;241m1\u001b[39m,\u001b[38;5;241m-\u001b[39m\u001b[38;5;241m3\u001b[39m]  \u001b[38;5;66;03m##negatives mean not?\u001b[39;00m\n\u001b[1;32m      3\u001b[0m x[\u001b[38;5;241m1\u001b[39m] \u001b[38;5;241m=\u001b[39m [\u001b[38;5;241m2\u001b[39m,\u001b[38;5;241m-\u001b[39m\u001b[38;5;241m4\u001b[39m]\n",
      "\u001b[0;31mIndexError\u001b[0m: list assignment index out of range"
     ]
    }
   ],
   "source": [
    "x = []\n",
    "x[0] = [0,1,-3]  ##negatives mean not?\n",
    "x[1] = [2,-4]\n"
   ]
  },
  {
   "cell_type": "code",
   "execution_count": 85,
   "id": "d1b315f4",
   "metadata": {},
   "outputs": [],
   "source": [
    "class Neuron:\n",
    "    def __init__(self, neuron_type):\n",
    "        \"\"\"\n",
    "        'i' is input\n",
    "        'o' is output\n",
    "        'fc' is fully connected\n",
    "        \"\"\"\n",
    "        self.type = neuron_type \n",
    "        self.connections = []\n",
    "        self.output = False\n",
    "\n",
    "    def add_connections(self, neuron_ids):\n",
    "        if isinstance(neuron_ids, int):\n",
    "            self.connections.append(neuron_ids)\n",
    "        elif isinstance(neuron_ids, list):\n",
    "            self.connections.extend(neuron_ids)\n",
    "        else:\n",
    "            raise ValueError(\"Invalid input. Expected an integer or a list of integers.\")\n",
    "\n",
    "\n",
    "    def remove_connections(self, neuron_ids):\n",
    "        if isinstance(neuron_ids, int):\n",
    "            if neuron_ids in self.connections:\n",
    "                self.connections.remove(neuron_ids)\n",
    "        elif isinstance(neuron_ids, list):\n",
    "            self.connections = [neuron for neuron in self.connections if neuron not in neuron_ids]\n",
    "        else:\n",
    "            raise ValueError(\"Invalid input. Expected an integer or a list of integers.\")\n",
    "\n",
    "    def get_connections(self):\n",
    "        return self.connections\n",
    "    \n",
    "    def type(self):\n",
    "        return self.type\n",
    "    \n",
    "    def set_output(self,val):\n",
    "        self.output = val\n",
    "        \n",
    "    def get_output(self):\n",
    "        return self.output\n",
    "    \n",
    "    "
   ]
  },
  {
   "cell_type": "code",
   "execution_count": 91,
   "id": "2d47844c",
   "metadata": {},
   "outputs": [],
   "source": [
    "class Net:\n",
    "    def __init__(self,input_size, hidden_size, output_size):\n",
    "        self.neurons = []\n",
    "        self.input_size = input_size\n",
    "        self.output_size = output_size\n",
    "        for i in range(input_size):\n",
    "            self.neurons.append(Neuron('i'))\n",
    "            \n",
    "        for i in range(hidden_size):\n",
    "            self.neurons.append(Neuron('fc'))\n",
    "            \n",
    "        for i in range(output_size):\n",
    "            self.neurons.append(Neuron('o'))\n",
    "        self.size = len(self.neurons)\n",
    "        \n",
    "    def __init__(self,design_list):\n",
    "        \"\"\"\n",
    "        design_list is a list of lists:\n",
    "        [\n",
    "            ['i',[]],\n",
    "            ['fc',[1,-3,4]],\n",
    "            ['o',[1,2]]\n",
    "\n",
    "\n",
    "        ]\n",
    "        \"\"\"\n",
    "        self.neurons = []\n",
    "        self.input_size = 0\n",
    "        self.output_size = 0\n",
    "\n",
    "\n",
    "        for i in design_list:\n",
    "            if i[0] == 'i':\n",
    "                self.neurons.append(Neuron('i'))\n",
    "                self.input_size += 1\n",
    "\n",
    "            if i[0] == 'o':\n",
    "                this_neuron = Neuron('o')\n",
    "                this_neuron.add_connections(i[1])\n",
    "                self.neurons.append(this_neuron)\n",
    "                self.output_size += 1\n",
    "\n",
    "            if i[0] == 'fc':\n",
    "                this_neuron = Neuron('fc')\n",
    "                this_neuron.add_connections(i[1])\n",
    "                self.neurons.append(this_neuron)\n",
    "\n",
    "        self.size = len(self.neurons)\n",
    "    \n",
    "    def get_neurons(self):\n",
    "        return self.neurons\n",
    "\n",
    "    def get_neuron_at(self,idx):\n",
    "        return self.neurons[idx]\n",
    "    \n",
    "    def get_output_at(self,idx):\n",
    "        return self.neurons[idx].get_output()\n",
    "    \n",
    "    def get_output(self,input_data):\n",
    "        \n",
    "        final_res = []\n",
    "        assert len(input_data) == self.input_size\n",
    "        \n",
    "        for idx,n in enumerate(self.neurons):\n",
    "            if n.type == 'i':\n",
    "                n.set_output(input_data[idx])\n",
    "                \n",
    "            if n.type in ['fc','o']:\n",
    "                res = True\n",
    "                for i in n.get_connections():\n",
    "                    if i < 0:\n",
    "                        res = res and not(self.get_output_at(-1*i))\n",
    "                    else:\n",
    "                        res = res and self.get_output_at(i)\n",
    "                n.set_output(res)\n",
    "                if n.type == 'o':\n",
    "                    final_res.append(res)\n",
    "        return final_res\n",
    "          \n",
    "                \n",
    "        "
   ]
  },
  {
   "cell_type": "code",
   "execution_count": 92,
   "id": "87ed7ed7",
   "metadata": {},
   "outputs": [
    {
     "name": "stdout",
     "output_type": "stream",
     "text": [
      "a\n",
      "b\n",
      "c\n"
     ]
    }
   ],
   "source": [
    "for i, idx in enumerate(['a','b','c']):\n",
    "    print(idx)"
   ]
  },
  {
   "cell_type": "code",
   "execution_count": 109,
   "id": "310f6c9a",
   "metadata": {},
   "outputs": [],
   "source": [
    "dl = [\n",
    "    ['i']\n",
    "    ,['i']\n",
    "    ,['i']\n",
    "    \n",
    "    ,['fc',[0,1,2]]\n",
    "    \n",
    "    ,['o',[3]]\n",
    "]\n",
    "\n",
    "n = Net(dl)"
   ]
  },
  {
   "cell_type": "code",
   "execution_count": 111,
   "id": "8017a30d",
   "metadata": {},
   "outputs": [
    {
     "data": {
      "text/plain": [
       "[True]"
      ]
     },
     "execution_count": 111,
     "metadata": {},
     "output_type": "execute_result"
    }
   ],
   "source": [
    "n.get_output([True,True,True])  ##this should be vectorized eventually"
   ]
  },
  {
   "cell_type": "code",
   "execution_count": 112,
   "id": "7264ac1a",
   "metadata": {},
   "outputs": [],
   "source": [
    "dl = [\n",
    "    ['i']\n",
    "    ,['i']\n",
    "    ,['i']\n",
    "    \n",
    "    ,['fc',[0,-1,-2]]\n",
    "    \n",
    "    ,['o',[3]]\n",
    "]\n",
    "\n",
    "nn = Net(dl)"
   ]
  },
  {
   "cell_type": "code",
   "execution_count": 113,
   "id": "f884a9cb",
   "metadata": {},
   "outputs": [
    {
     "data": {
      "text/plain": [
       "[True]"
      ]
     },
     "execution_count": 113,
     "metadata": {},
     "output_type": "execute_result"
    }
   ],
   "source": [
    "nn.get_output([True,False,False])"
   ]
  },
  {
   "cell_type": "code",
   "execution_count": null,
   "id": "8489da90",
   "metadata": {},
   "outputs": [],
   "source": []
  }
 ],
 "metadata": {
  "kernelspec": {
   "display_name": "Python 3 (ipykernel)",
   "language": "python",
   "name": "python3"
  },
  "language_info": {
   "codemirror_mode": {
    "name": "ipython",
    "version": 3
   },
   "file_extension": ".py",
   "mimetype": "text/x-python",
   "name": "python",
   "nbconvert_exporter": "python",
   "pygments_lexer": "ipython3",
   "version": "3.9.12"
  }
 },
 "nbformat": 4,
 "nbformat_minor": 5
}
