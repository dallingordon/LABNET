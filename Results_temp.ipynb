{
 "cells": [
  {
   "cell_type": "code",
   "execution_count": 3,
   "id": "959045d4",
   "metadata": {},
   "outputs": [],
   "source": [
    "import os\n",
    "from IPython.display import display, HTML\n",
    "\n",
    "def display_images_in_grid(folder_path, columns=3):\n",
    "    images = [os.path.join(folder_path, file) for file in os.listdir(folder_path) if file.endswith(('.jpg', '.jpeg', '.png'))]\n",
    "    \n",
    "    html = \"<div style='display: flex; flex-wrap: wrap;'>\"\n",
    "    for image in images:\n",
    "        html += f\"<div style='flex: {100/columns}%; padding: 5px;'>\"\n",
    "        html += f\"<img src='{image}' style='max-width: 100%; max-height: 200px;'>\"\n",
    "        html += \"</div>\"\n",
    "    html += \"</div>\"\n",
    "    \n",
    "    display(HTML(html))\n",
    "\n"
   ]
  },
  {
   "cell_type": "markdown",
   "id": "4a0f456c",
   "metadata": {},
   "source": [
    "different optimal solutions, but convergence (these are all for layer_sizes = [8, 7,7,4], different initializations for the student\n",
    "        )"
   ]
  },
  {
   "cell_type": "code",
   "execution_count": 8,
   "id": "b67f8109",
   "metadata": {},
   "outputs": [
    {
     "data": {
      "text/html": [
       "<div style='display: flex; flex-wrap: wrap;'><div style='flex: 33.333333333333336%; padding: 5px;'><img src='Images/h2/hidden_2_6__6_14.png' style='max-width: 100%; max-height: 200px;'></div><div style='flex: 33.333333333333336%; padding: 5px;'><img src='Images/h2/hidden_2_1__6_14.png' style='max-width: 100%; max-height: 200px;'></div><div style='flex: 33.333333333333336%; padding: 5px;'><img src='Images/h2/hidden_2_7__6_14.png' style='max-width: 100%; max-height: 200px;'></div><div style='flex: 33.333333333333336%; padding: 5px;'><img src='Images/h2/hidden_2_2__6_14.png' style='max-width: 100%; max-height: 200px;'></div><div style='flex: 33.333333333333336%; padding: 5px;'><img src='Images/h2/hidden_2_4__6_14.png' style='max-width: 100%; max-height: 200px;'></div><div style='flex: 33.333333333333336%; padding: 5px;'><img src='Images/h2/hidden_2_3__6_14.png' style='max-width: 100%; max-height: 200px;'></div><div style='flex: 33.333333333333336%; padding: 5px;'><img src='Images/h2/hidden_2_5__6_14.png' style='max-width: 100%; max-height: 200px;'></div></div>"
      ],
      "text/plain": [
       "<IPython.core.display.HTML object>"
      ]
     },
     "metadata": {},
     "output_type": "display_data"
    }
   ],
   "source": [
    "folder_path = \"Images/h2\"\n",
    "display_images_in_grid(folder_path, columns=3)"
   ]
  },
  {
   "cell_type": "code",
   "execution_count": 11,
   "id": "b4b2aff1",
   "metadata": {},
   "outputs": [
    {
     "data": {
      "text/html": [
       "<div style='display: flex; flex-wrap: wrap;'><div style='flex: 33.333333333333336%; padding: 5px;'><img src='Images/h1_weights/8_7_7_4/h1_dif_2.png' style='max-width: 100%; max-height: 200px;'></div><div style='flex: 33.333333333333336%; padding: 5px;'><img src='Images/h1_weights/8_7_7_4/h1_dif_3.png' style='max-width: 100%; max-height: 200px;'></div><div style='flex: 33.333333333333336%; padding: 5px;'><img src='Images/h1_weights/8_7_7_4/h1_dif_1.png' style='max-width: 100%; max-height: 200px;'></div><div style='flex: 33.333333333333336%; padding: 5px;'><img src='Images/h1_weights/8_7_7_4/h1_dif_4.png' style='max-width: 100%; max-height: 200px;'></div><div style='flex: 33.333333333333336%; padding: 5px;'><img src='Images/h1_weights/8_7_7_4/h1_weights_5.png' style='max-width: 100%; max-height: 200px;'></div><div style='flex: 33.333333333333336%; padding: 5px;'><img src='Images/h1_weights/8_7_7_4/h1_weights_4.png' style='max-width: 100%; max-height: 200px;'></div><div style='flex: 33.333333333333336%; padding: 5px;'><img src='Images/h1_weights/8_7_7_4/h1_weights_3.png' style='max-width: 100%; max-height: 200px;'></div><div style='flex: 33.333333333333336%; padding: 5px;'><img src='Images/h1_weights/8_7_7_4/h1_weights_2.png' style='max-width: 100%; max-height: 200px;'></div><div style='flex: 33.333333333333336%; padding: 5px;'><img src='Images/h1_weights/8_7_7_4/h1_weights_1.png' style='max-width: 100%; max-height: 200px;'></div></div>"
      ],
      "text/plain": [
       "<IPython.core.display.HTML object>"
      ]
     },
     "metadata": {},
     "output_type": "display_data"
    }
   ],
   "source": [
    "folder_path = \"Images/h1_weights/8_7_7_4\"\n",
    "display_images_in_grid(folder_path, columns=3)"
   ]
  },
  {
   "cell_type": "code",
   "execution_count": 10,
   "id": "fcc15d92",
   "metadata": {},
   "outputs": [
    {
     "data": {
      "text/html": [
       "<div style='display: flex; flex-wrap: wrap;'><div style='flex: 33.333333333333336%; padding: 5px;'><img src='Images/h1_weights/8_6_7_4/h1_weights_f_3.png' style='max-width: 100%; max-height: 200px;'></div><div style='flex: 33.333333333333336%; padding: 5px;'><img src='Images/h1_weights/8_6_7_4/h1_weights_f_2.png' style='max-width: 100%; max-height: 200px;'></div><div style='flex: 33.333333333333336%; padding: 5px;'><img src='Images/h1_weights/8_6_7_4/h1_weights_f_1.png' style='max-width: 100%; max-height: 200px;'></div><div style='flex: 33.333333333333336%; padding: 5px;'><img src='Images/h1_weights/8_6_7_4/h1_weights_f_5.png' style='max-width: 100%; max-height: 200px;'></div><div style='flex: 33.333333333333336%; padding: 5px;'><img src='Images/h1_weights/8_6_7_4/h1_weights_f_4.png' style='max-width: 100%; max-height: 200px;'></div><div style='flex: 33.333333333333336%; padding: 5px;'><img src='Images/h1_weights/8_6_7_4/h1_weights_f_6.png' style='max-width: 100%; max-height: 200px;'></div><div style='flex: 33.333333333333336%; padding: 5px;'><img src='Images/h1_weights/8_6_7_4/h1_weights_f_7.png' style='max-width: 100%; max-height: 200px;'></div><div style='flex: 33.333333333333336%; padding: 5px;'><img src='Images/h1_weights/8_6_7_4/h1_weights_f_8.png' style='max-width: 100%; max-height: 200px;'></div></div>"
      ],
      "text/plain": [
       "<IPython.core.display.HTML object>"
      ]
     },
     "metadata": {},
     "output_type": "display_data"
    }
   ],
   "source": [
    "folder_path = \"Images/h1_weights/8_6_7_4\"\n",
    "display_images_in_grid(folder_path, columns=3)"
   ]
  },
  {
   "cell_type": "code",
   "execution_count": 12,
   "id": "d899f20c",
   "metadata": {},
   "outputs": [
    {
     "data": {
      "text/html": [
       "<div style='display: flex; flex-wrap: wrap;'><div style='flex: 33.333333333333336%; padding: 5px;'><img src='Images/h1_weights/8_7_4/dif1/Screenshot 2023-06-14 at 1.56.59 PM.png' style='max-width: 100%; max-height: 200px;'></div><div style='flex: 33.333333333333336%; padding: 5px;'><img src='Images/h1_weights/8_7_4/dif1/Screenshot 2023-06-14 at 1.57.59 PM.png' style='max-width: 100%; max-height: 200px;'></div><div style='flex: 33.333333333333336%; padding: 5px;'><img src='Images/h1_weights/8_7_4/dif1/Screenshot 2023-06-14 at 1.57.42 PM.png' style='max-width: 100%; max-height: 200px;'></div><div style='flex: 33.333333333333336%; padding: 5px;'><img src='Images/h1_weights/8_7_4/dif1/Screenshot 2023-06-14 at 1.57.15 PM.png' style='max-width: 100%; max-height: 200px;'></div><div style='flex: 33.333333333333336%; padding: 5px;'><img src='Images/h1_weights/8_7_4/dif1/Screenshot 2023-06-14 at 1.57.29 PM.png' style='max-width: 100%; max-height: 200px;'></div></div>"
      ],
      "text/plain": [
       "<IPython.core.display.HTML object>"
      ]
     },
     "metadata": {},
     "output_type": "display_data"
    }
   ],
   "source": [
    "folder_path = \"Images/h1_weights/8_7_4/dif1\"\n",
    "display_images_in_grid(folder_path, columns=3)"
   ]
  },
  {
   "cell_type": "markdown",
   "id": "0f00314d",
   "metadata": {},
   "source": [
    "make a validation set that is perfect, accuracy at every time step? is that excessive?  def add accuracy\n",
    "\n",
    "also, a measure of how volatile the entire layer is, and individual weights.  the layer one informs layer? does that extra stuff get spread out over all the weights? does it get spread out over the whole network?  square and sum the differences and graph that over time?   each neuron is conditioned on all of its inputs from previous layer, is that balanced in a correct network? how does it differe from incorrect.  "
   ]
  },
  {
   "cell_type": "code",
   "execution_count": null,
   "id": "1f0b768b",
   "metadata": {},
   "outputs": [],
   "source": []
  }
 ],
 "metadata": {
  "kernelspec": {
   "display_name": "Python 3 (ipykernel)",
   "language": "python",
   "name": "python3"
  },
  "language_info": {
   "codemirror_mode": {
    "name": "ipython",
    "version": 3
   },
   "file_extension": ".py",
   "mimetype": "text/x-python",
   "name": "python",
   "nbconvert_exporter": "python",
   "pygments_lexer": "ipython3",
   "version": "3.9.12"
  }
 },
 "nbformat": 4,
 "nbformat_minor": 5
}
