{
 "cells": [
  {
   "cell_type": "code",
   "execution_count": 1,
   "id": "cf4701eb",
   "metadata": {},
   "outputs": [],
   "source": [
    "from LABNET import Teacher"
   ]
  },
  {
   "cell_type": "code",
   "execution_count": 2,
   "id": "12e88d64",
   "metadata": {},
   "outputs": [],
   "source": [
    "import random\n",
    "import numpy as np\n",
    "import matplotlib.pyplot as plt\n",
    "import torch.nn as nn\n",
    "import torch.optim as optim\n",
    "import torch\n",
    "from collections import OrderedDict\n",
    "from torch.utils.data import DataLoader, TensorDataset"
   ]
  },
  {
   "cell_type": "code",
   "execution_count": 3,
   "id": "8875cc12",
   "metadata": {},
   "outputs": [],
   "source": [
    "import matplotlib.pyplot as plt\n",
    "\n",
    "def plot_losses(losses, plot_size=(10, 5)):\n",
    "    \"\"\"\n",
    "    Plot a list of losses and adjust the shape of the plot.\n",
    "\n",
    "    Args:\n",
    "        losses (list): List of loss values to be plotted.\n",
    "        plot_size (tuple): Tuple specifying the size of the plot (width, height).\n",
    "\n",
    "    Returns:\n",
    "        None\n",
    "    \"\"\"\n",
    "    # Set the plot size based on the provided tuple\n",
    "    plt.figure(figsize=plot_size)\n",
    "    \n",
    "    # Create a line plot of the losses\n",
    "    plt.plot(losses, label='Loss', color='b')\n",
    "    plt.xlabel('Epoch')\n",
    "    plt.ylabel('Loss')\n",
    "    plt.title('Loss Over Epochs')\n",
    "    plt.legend()\n",
    "    \n",
    "    # Show the plot\n",
    "    plt.show()"
   ]
  },
  {
   "cell_type": "code",
   "execution_count": 4,
   "id": "7aebd5a4",
   "metadata": {},
   "outputs": [],
   "source": [
    "\n",
    "\n",
    "\n",
    "layer_sizes = [8, 7,7,4]  # Inputs: 4, Hidden layers: [8, 8], Outputs: 3\n",
    "teacher = Teacher(layer_sizes)\n",
    "\n"
   ]
  },
  {
   "cell_type": "code",
   "execution_count": 5,
   "id": "2eb431b7",
   "metadata": {},
   "outputs": [],
   "source": [
    "teacher.configure()"
   ]
  },
  {
   "cell_type": "code",
   "execution_count": 74,
   "id": "96fc55af",
   "metadata": {},
   "outputs": [],
   "source": [
    "n = 5000 #number of samples to generate\n",
    "teacher.generate_data(\n",
    "    \"train\"\n",
    "    ,n\n",
    "    ,'normal'\n",
    "    , m =0.0\n",
    "    , std=1.0\n",
    ")"
   ]
  },
  {
   "cell_type": "code",
   "execution_count": 75,
   "id": "5d81bca2",
   "metadata": {},
   "outputs": [
    {
     "data": {
      "text/plain": [
       "torch.Size([5000, 8])"
      ]
     },
     "execution_count": 75,
     "metadata": {},
     "output_type": "execute_result"
    }
   ],
   "source": [
    "teacher.train_inputs.shape"
   ]
  },
  {
   "cell_type": "code",
   "execution_count": 40,
   "id": "5b868471",
   "metadata": {},
   "outputs": [],
   "source": [
    "teacher.generate_data(\n",
    "    \"val\"\n",
    "    ,n\n",
    "    ,'normal'\n",
    "    , m =0.0\n",
    "    , std=1.0\n",
    ")"
   ]
  },
  {
   "cell_type": "code",
   "execution_count": 9,
   "id": "3b42b3df",
   "metadata": {},
   "outputs": [
    {
     "data": {
      "text/plain": [
       "torch.Size([1000, 8])"
      ]
     },
     "execution_count": 9,
     "metadata": {},
     "output_type": "execute_result"
    }
   ],
   "source": [
    "teacher.val_inputs.shape"
   ]
  },
  {
   "cell_type": "code",
   "execution_count": 10,
   "id": "9ae2e479",
   "metadata": {},
   "outputs": [
    {
     "data": {
      "text/plain": [
       "OrderedDict([('input_layer.weight',\n",
       "              tensor([[-0.2685,  0.8859,  0.8453,  0.1376,  0.1067, -0.1534, -0.7289, -0.3879],\n",
       "                      [-0.2706, -0.7018, -0.7226, -0.3428, -0.6257,  0.5451, -0.0239,  0.0636],\n",
       "                      [ 0.6384,  0.2154,  0.2109,  0.6804,  0.5108,  0.7057,  0.3650, -0.4178],\n",
       "                      [-0.8420,  0.5969, -0.2049, -0.2292,  0.1156, -0.6433, -0.1723,  0.1928],\n",
       "                      [-0.7356, -0.6396, -0.1602, -0.9215, -0.8370, -0.1366, -0.1885,  0.0233],\n",
       "                      [-0.5281, -0.2045, -0.4417,  0.6336,  0.4270,  0.4065,  0.5916, -0.1770],\n",
       "                      [ 0.2130,  0.0605, -0.4692,  0.3677,  0.3012,  0.8198,  0.6837, -0.5773]])),\n",
       "             ('input_layer.bias',\n",
       "              tensor([ 0.8861, -0.9418,  0.1741,  0.5869, -0.8277, -0.1430, -0.5004])),\n",
       "             ('hidden_layer_2.weight',\n",
       "              tensor([[-0.6459, -0.2665, -0.4174, -0.3728, -0.0285,  0.5091, -0.2112],\n",
       "                      [-0.0834,  0.4081, -0.3571, -0.0785, -0.3349, -0.4412, -0.4791],\n",
       "                      [-0.5412, -0.8429,  0.3588,  0.2010, -0.1860, -0.4830,  0.5479],\n",
       "                      [-0.4891, -0.5712,  0.6958,  0.4768,  0.0955, -0.0217,  0.2242],\n",
       "                      [ 0.5905, -0.4606,  0.1370, -0.5311, -0.4919, -0.9912, -0.3374],\n",
       "                      [ 0.3944,  0.5470, -0.8571, -0.2014,  0.4626,  0.5894, -0.0291],\n",
       "                      [-0.0775,  0.0214,  0.1119,  0.0546, -0.2367, -0.6543,  0.0059]])),\n",
       "             ('hidden_layer_2.bias',\n",
       "              tensor([-0.4556,  0.3116, -0.0785, -1.0706, -0.4993, -1.1425,  0.6666])),\n",
       "             ('output_layer.weight',\n",
       "              tensor([[ 0.7308, -0.1236,  0.5097, -0.2812,  0.2769,  0.3282, -0.1271],\n",
       "                      [-0.8462,  0.2539, -0.6737,  0.8733,  0.0516,  0.4030,  0.6927],\n",
       "                      [-0.5705,  0.2372, -0.2794,  0.4002,  0.0854, -0.4318, -0.6801],\n",
       "                      [-0.9540,  0.5761, -0.1419,  0.1565,  0.1636,  0.0430, -0.4187]])),\n",
       "             ('output_layer.bias',\n",
       "              tensor([-0.0702, -0.3788,  0.3129,  0.1262]))])"
      ]
     },
     "execution_count": 10,
     "metadata": {},
     "output_type": "execute_result"
    }
   ],
   "source": [
    "teacher.model.state_dict()\n",
    "#torch.save(neural_network.model.state_dict(), 'model_weights.pth')"
   ]
  },
  {
   "cell_type": "code",
   "execution_count": 11,
   "id": "a2b2ec77",
   "metadata": {},
   "outputs": [],
   "source": [
    "# Define the model\n",
    "class MyModel(nn.Module):\n",
    "    def __init__(self):\n",
    "        super(MyModel, self).__init__()\n",
    "        self.hidden_1 = nn.Linear(8, 7) ##make these all variables duh\n",
    "        self.hidden_2 = nn.Linear(7,7)\n",
    "        #self.hidden_3 = nn.Linear(7,7)\n",
    "        #self.hidden_4 = nn.Linear(7,7)\n",
    "        #self.hidden_5 = nn.Linear(7,7)\n",
    "        self.output = nn.Linear(7, 4)\n",
    "        self.relu = nn.ReLU()\n",
    "        \n",
    "    def forward(self, x):\n",
    "        x = self.relu(self.hidden_1(x))\n",
    "        x = self.relu(self.hidden_2(x))\n",
    "        #x = self.relu(self.hidden_3(x))\n",
    "        #x = self.relu(self.hidden_4(x))\n",
    "        #x = self.relu(self.hidden_5(x))\n",
    "        x = self.output(x)\n",
    "        return x"
   ]
  },
  {
   "cell_type": "code",
   "execution_count": 12,
   "id": "8807a787",
   "metadata": {},
   "outputs": [
    {
     "name": "stdout",
     "output_type": "stream",
     "text": [
      "MyModel(\n",
      "  (hidden_1): Linear(in_features=8, out_features=7, bias=True)\n",
      "  (hidden_2): Linear(in_features=7, out_features=7, bias=True)\n",
      "  (output): Linear(in_features=7, out_features=4, bias=True)\n",
      "  (relu): ReLU()\n",
      ")\n"
     ]
    }
   ],
   "source": [
    "student = MyModel()\n",
    "print(student)"
   ]
  },
  {
   "cell_type": "code",
   "execution_count": 13,
   "id": "1e4372c3",
   "metadata": {},
   "outputs": [
    {
     "data": {
      "text/plain": [
       "OrderedDict([('hidden_1.weight',\n",
       "              tensor([[ 0.0261, -0.1803, -0.1835, -0.0022,  0.3498, -0.0219, -0.3040, -0.2963],\n",
       "                      [-0.0253,  0.0696,  0.0815,  0.0961,  0.1914,  0.0915, -0.2108,  0.0775],\n",
       "                      [ 0.0894, -0.1965,  0.0011,  0.0871,  0.2346, -0.2584, -0.0102, -0.3396],\n",
       "                      [-0.2129,  0.2800,  0.1268,  0.1962, -0.0364,  0.1462, -0.0087,  0.1570],\n",
       "                      [ 0.1836,  0.2714,  0.2308,  0.1218,  0.2178,  0.2330, -0.2377, -0.2910],\n",
       "                      [-0.0975,  0.0201, -0.0626, -0.2492, -0.1789, -0.2390,  0.1107, -0.2806],\n",
       "                      [ 0.2416,  0.2134,  0.2354, -0.3008,  0.2151, -0.1389,  0.3268, -0.1826]])),\n",
       "             ('hidden_1.bias',\n",
       "              tensor([-0.2479, -0.1179, -0.0390, -0.0922,  0.2630, -0.0707, -0.0029])),\n",
       "             ('hidden_2.weight',\n",
       "              tensor([[-0.0184,  0.2084,  0.0397, -0.1375, -0.1825,  0.3268, -0.2715],\n",
       "                      [ 0.2183,  0.2533,  0.1893,  0.2865, -0.2406,  0.2936,  0.3474],\n",
       "                      [ 0.2859, -0.2199,  0.2716, -0.3047,  0.0287,  0.1298,  0.2358],\n",
       "                      [-0.1368, -0.2531,  0.2698, -0.2667,  0.2983,  0.0817,  0.2656],\n",
       "                      [ 0.1794, -0.1040, -0.0465, -0.0094,  0.3054,  0.2512,  0.1707],\n",
       "                      [ 0.2417, -0.1066, -0.1007, -0.2188, -0.3765,  0.0662, -0.0365],\n",
       "                      [-0.3035, -0.3434,  0.1246, -0.3713, -0.2198,  0.2535, -0.1824]])),\n",
       "             ('hidden_2.bias',\n",
       "              tensor([-0.2198, -0.1520,  0.0326, -0.2095, -0.3606, -0.2518, -0.3519])),\n",
       "             ('output.weight',\n",
       "              tensor([[ 0.0911, -0.3288, -0.0090, -0.3403,  0.3085, -0.1759,  0.1640],\n",
       "                      [-0.0646, -0.3280,  0.1604, -0.2487, -0.1985, -0.2435,  0.3191],\n",
       "                      [ 0.1799, -0.2291,  0.2702,  0.0462, -0.3292, -0.3439,  0.1233],\n",
       "                      [-0.2134,  0.0654, -0.0019,  0.2785,  0.1098, -0.0209,  0.0164]])),\n",
       "             ('output.bias', tensor([-0.1770,  0.3767,  0.2882, -0.0184]))])"
      ]
     },
     "execution_count": 13,
     "metadata": {},
     "output_type": "execute_result"
    }
   ],
   "source": [
    "##STARTING with the right answuers gives some close to zero row_comp:3.5974587e-08,0.0,0.0; 0.0,2.9802322e-08,1.4901161e-08\n",
    "#interesting that you get a zero, and then a close to zero.  \n",
    "#perturb_weights(mymodel, std_dev = 0.005) # converges\n",
    "#perturb_weights(mymodel, std_dev = 0.009) # converges\n",
    "#perturb_weights(mymodel, std_dev = 0.05) doesn't converge\n",
    "#perturb_weights(mymodel, std_dev = 0.01) #converges\n",
    "#perturb_weights(mymodel, std_dev = 0.01) #not converging well, even with lower lr, 0.003. 1t 0.001\n",
    "\n",
    "\n",
    "# scale_weights(mymodel, scaling_factor = 1.1) ## converges, weights cross.  \n",
    "#scale_weights(mymodel, scaling_factor = 1.5) ## good validation, non zero row comapre still..\n",
    "\n",
    "#scale_weights(mymodel, scaling_factor = 2) ## good validation, row compare stays pretty close to the same...\n",
    "## scale_weights(mymodel, scaling_factor = 1.05) row compare barely improves!!\n",
    "student.state_dict()"
   ]
  },
  {
   "cell_type": "code",
   "execution_count": 14,
   "id": "35f42444",
   "metadata": {},
   "outputs": [],
   "source": [
    "# Training loop\n",
    "num_epochs = 100\n",
    "batch_size = 32\n",
    "learning_rate = 0.001\n",
    "\n",
    "criterion = nn.MSELoss()\n",
    "optimizer = optim.Adam(student.parameters(), lr=learning_rate)"
   ]
  },
  {
   "cell_type": "code",
   "execution_count": 76,
   "id": "5377e988",
   "metadata": {},
   "outputs": [],
   "source": [
    "data = list(zip(teacher.train_inputs, teacher.train_targets))\n",
    "input_tensors = torch.stack([torch.Tensor(x[0]) for x in data])\n",
    "target_tensors = torch.stack([torch.Tensor(x[1]) for x in data])\n",
    "dataset = TensorDataset(input_tensors, target_tensors)\n",
    "dataloader = DataLoader(dataset, batch_size=batch_size, shuffle=True)"
   ]
  },
  {
   "cell_type": "code",
   "execution_count": 77,
   "id": "19fcd259",
   "metadata": {},
   "outputs": [
    {
     "name": "stdout",
     "output_type": "stream",
     "text": [
      "Epoch [1/100], Loss: 0.0044\n",
      "Epoch [2/100], Loss: 0.0043\n",
      "Epoch [3/100], Loss: 0.0042\n",
      "Epoch [4/100], Loss: 0.0042\n",
      "Epoch [5/100], Loss: 0.0042\n",
      "Epoch [6/100], Loss: 0.0042\n",
      "Epoch [7/100], Loss: 0.0041\n",
      "Epoch [8/100], Loss: 0.0041\n",
      "Epoch [9/100], Loss: 0.0041\n",
      "Epoch [10/100], Loss: 0.0041\n",
      "Epoch [11/100], Loss: 0.0041\n",
      "Epoch [12/100], Loss: 0.0041\n",
      "Epoch [13/100], Loss: 0.0041\n",
      "Epoch [14/100], Loss: 0.0040\n",
      "Epoch [15/100], Loss: 0.0040\n",
      "Epoch [16/100], Loss: 0.0041\n",
      "Epoch [17/100], Loss: 0.0040\n",
      "Epoch [18/100], Loss: 0.0040\n",
      "Epoch [19/100], Loss: 0.0040\n",
      "Epoch [20/100], Loss: 0.0040\n",
      "Epoch [21/100], Loss: 0.0040\n",
      "Epoch [22/100], Loss: 0.0040\n",
      "Epoch [23/100], Loss: 0.0040\n",
      "Epoch [24/100], Loss: 0.0040\n",
      "Epoch [25/100], Loss: 0.0040\n",
      "Epoch [26/100], Loss: 0.0040\n",
      "Epoch [27/100], Loss: 0.0040\n",
      "Epoch [28/100], Loss: 0.0040\n",
      "Epoch [29/100], Loss: 0.0040\n",
      "Epoch [30/100], Loss: 0.0040\n",
      "Epoch [31/100], Loss: 0.0039\n",
      "Epoch [32/100], Loss: 0.0039\n",
      "Epoch [33/100], Loss: 0.0040\n",
      "Epoch [34/100], Loss: 0.0039\n",
      "Epoch [35/100], Loss: 0.0039\n",
      "Epoch [36/100], Loss: 0.0040\n",
      "Epoch [37/100], Loss: 0.0039\n",
      "Epoch [38/100], Loss: 0.0039\n",
      "Epoch [39/100], Loss: 0.0039\n",
      "Epoch [40/100], Loss: 0.0039\n",
      "Epoch [41/100], Loss: 0.0039\n",
      "Epoch [42/100], Loss: 0.0039\n",
      "Epoch [43/100], Loss: 0.0039\n",
      "Epoch [44/100], Loss: 0.0039\n",
      "Epoch [45/100], Loss: 0.0039\n",
      "Epoch [46/100], Loss: 0.0039\n",
      "Epoch [47/100], Loss: 0.0039\n",
      "Epoch [48/100], Loss: 0.0039\n",
      "Epoch [49/100], Loss: 0.0039\n",
      "Epoch [50/100], Loss: 0.0039\n",
      "Epoch [51/100], Loss: 0.0039\n",
      "Epoch [52/100], Loss: 0.0039\n",
      "Epoch [53/100], Loss: 0.0039\n",
      "Epoch [54/100], Loss: 0.0039\n",
      "Epoch [55/100], Loss: 0.0039\n",
      "Epoch [56/100], Loss: 0.0039\n",
      "Epoch [57/100], Loss: 0.0039\n",
      "Epoch [58/100], Loss: 0.0039\n",
      "Epoch [59/100], Loss: 0.0039\n",
      "Epoch [60/100], Loss: 0.0039\n",
      "Epoch [61/100], Loss: 0.0039\n",
      "Epoch [62/100], Loss: 0.0039\n",
      "Epoch [63/100], Loss: 0.0039\n",
      "Epoch [64/100], Loss: 0.0039\n",
      "Epoch [65/100], Loss: 0.0039\n",
      "Epoch [66/100], Loss: 0.0038\n",
      "Epoch [67/100], Loss: 0.0039\n",
      "Epoch [68/100], Loss: 0.0038\n",
      "Epoch [69/100], Loss: 0.0039\n",
      "Epoch [70/100], Loss: 0.0039\n",
      "Epoch [71/100], Loss: 0.0039\n",
      "Epoch [72/100], Loss: 0.0038\n",
      "Epoch [73/100], Loss: 0.0038\n",
      "Epoch [74/100], Loss: 0.0038\n",
      "Epoch [75/100], Loss: 0.0038\n",
      "Epoch [76/100], Loss: 0.0038\n",
      "Epoch [77/100], Loss: 0.0039\n",
      "Epoch [78/100], Loss: 0.0038\n",
      "Epoch [79/100], Loss: 0.0038\n",
      "Epoch [80/100], Loss: 0.0038\n",
      "Epoch [81/100], Loss: 0.0038\n",
      "Epoch [82/100], Loss: 0.0038\n",
      "Epoch [83/100], Loss: 0.0038\n",
      "Epoch [84/100], Loss: 0.0038\n",
      "Epoch [85/100], Loss: 0.0038\n",
      "Epoch [86/100], Loss: 0.0037\n",
      "Epoch [87/100], Loss: 0.0037\n",
      "Epoch [88/100], Loss: 0.0037\n",
      "Epoch [89/100], Loss: 0.0037\n",
      "Epoch [90/100], Loss: 0.0036\n",
      "Epoch [91/100], Loss: 0.0036\n",
      "Epoch [92/100], Loss: 0.0036\n",
      "Epoch [93/100], Loss: 0.0036\n",
      "Epoch [94/100], Loss: 0.0035\n",
      "Epoch [95/100], Loss: 0.0035\n",
      "Epoch [96/100], Loss: 0.0035\n",
      "Epoch [97/100], Loss: 0.0035\n",
      "Epoch [98/100], Loss: 0.0034\n",
      "Epoch [99/100], Loss: 0.0034\n",
      "Epoch [100/100], Loss: 0.0034\n"
     ]
    }
   ],
   "source": [
    "\n",
    "\n",
    "losses = []  # List to store losses\n",
    "\n",
    "for epoch in range(num_epochs):\n",
    "    total_loss = 0\n",
    "    for input_batch, target_batch in dataloader:\n",
    "        optimizer.zero_grad()  # Zero the gradients\n",
    "        output = student(input_batch)  # Forward pass\n",
    "        loss = criterion(output, target_batch)  # Compute the loss\n",
    "        loss.backward()  # Backpropagation\n",
    "        optimizer.step()  # Update the weights\n",
    "        total_loss += loss.item()\n",
    "\n",
    "    # Print the average loss for this epoch\n",
    "    avg_loss = total_loss / len(dataloader)\n",
    "    losses.append(avg_loss)\n",
    "    print(f'Epoch [{epoch+1}/{num_epochs}], Loss: {avg_loss:.4f}')"
   ]
  },
  {
   "cell_type": "code",
   "execution_count": 78,
   "id": "ac518f97",
   "metadata": {
    "scrolled": true
   },
   "outputs": [
    {
     "data": {
      "image/png": "[encoded data removed]",
      "text/plain": [
       "<Figure size 720x360 with 1 Axes>"
      ]
     },
     "metadata": {
      "needs_background": "light"
     },
     "output_type": "display_data"
    }
   ],
   "source": [
    "plot_losses(losses, plot_size=(10, 5))"
   ]
  },
  {
   "cell_type": "code",
   "execution_count": 79,
   "id": "60b02a03",
   "metadata": {},
   "outputs": [],
   "source": [
    "v_batch_size = 10\n",
    "val_data = list(zip(teacher.val_inputs, teacher.val_targets))\n",
    "val_input_tensors = torch.stack([torch.Tensor(x[0]) for x in val_data])\n",
    "val_target_tensors = torch.stack([torch.Tensor(x[1]) for x in val_data])\n",
    "val_dataset = TensorDataset(val_input_tensors, val_target_tensors)\n",
    "val_dataloader = DataLoader(val_dataset, batch_size=v_batch_size, shuffle=True)"
   ]
  },
  {
   "cell_type": "code",
   "execution_count": 80,
   "id": "c4ca7f34",
   "metadata": {},
   "outputs": [],
   "source": [
    "student.eval()\n",
    "\n",
    "differences = []\n",
    "\n",
    "with torch.no_grad():\n",
    "    for val_batch in val_dataloader:\n",
    "        val_inputs, val_targets = val_batch\n",
    "        #val_inputs, val_targets = val_inputs\\, val_targets.to(device)  # If you are using GPU, move data to the GPU\n",
    "        # Forward pass\n",
    "        val_outputs = student(val_inputs)\n",
    "        \n",
    "        # Calculate the absolute differences between predicted and actual values\n",
    "        diff = val_outputs - val_targets\n",
    "        \n",
    "        # Extend the list of differences\n",
    "        differences.extend(diff.cpu().numpy().flatten())  # Convert to NumPy for histogram plotting"
   ]
  },
  {
   "cell_type": "code",
   "execution_count": 81,
   "id": "8131b9cf",
   "metadata": {},
   "outputs": [
    {
     "data": {
      "image/png": "[encoded data removed]",
      "text/plain": [
       "<Figure size 432x288 with 1 Axes>"
      ]
     },
     "metadata": {
      "needs_background": "light"
     },
     "output_type": "display_data"
    }
   ],
   "source": [
    "# Create a histogram of the differences\n",
    "plt.hist(differences, bins=30)  # You can adjust the number of bins as needed\n",
    "plt.xlabel('Absolute Differences')\n",
    "plt.ylabel('Frequency')\n",
    "plt.title('Histogram of Absolute Differences between Predicted and Actual Values')\n",
    "plt.show()"
   ]
  },
  {
   "cell_type": "code",
   "execution_count": 82,
   "id": "adf88852",
   "metadata": {},
   "outputs": [
    {
     "data": {
      "text/plain": [
       "(0.001128878, 0.05593512)"
      ]
     },
     "execution_count": 82,
     "metadata": {},
     "output_type": "execute_result"
    }
   ],
   "source": [
    "mean_difference = np.mean(differences)\n",
    "std_deviation = np.std(differences)\n",
    "mean_difference,std_deviation"
   ]
  },
  {
   "cell_type": "code",
   "execution_count": null,
   "id": "39efcd0e",
   "metadata": {},
   "outputs": [],
   "source": [
    "#what if it never sees the same data? don't need new val data, just new training data.  "
   ]
  }
 ],
 "metadata": {
  "kernelspec": {
   "display_name": "Python 3 (ipykernel)",
   "language": "python",
   "name": "python3"
  },
  "language_info": {
   "codemirror_mode": {
    "name": "ipython",
    "version": 3
   },
   "file_extension": ".py",
   "mimetype": "text/x-python",
   "name": "python",
   "nbconvert_exporter": "python",
   "pygments_lexer": "ipython3",
   "version": "3.9.12"
  }
 },
 "nbformat": 4,
 "nbformat_minor": 5
}
