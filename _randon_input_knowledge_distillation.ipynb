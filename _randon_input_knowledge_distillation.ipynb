{
 "cells": [
  {
   "cell_type": "code",
   "execution_count": 1,
   "id": "cf4701eb",
   "metadata": {},
   "outputs": [],
   "source": [
    "from LABNET import Teacher"
   ]
  },
  {
   "cell_type": "code",
   "execution_count": 2,
   "id": "12e88d64",
   "metadata": {},
   "outputs": [],
   "source": [
    "import random\n",
    "import numpy as np\n",
    "import matplotlib.pyplot as plt\n",
    "import torch.nn as nn\n",
    "import torch.optim as optim\n",
    "import torch\n",
    "from collections import OrderedDict\n",
    "from torch.utils.data import DataLoader, TensorDataset"
   ]
  },
  {
   "cell_type": "code",
   "execution_count": 3,
   "id": "8875cc12",
   "metadata": {},
   "outputs": [],
   "source": [
    "import matplotlib.pyplot as plt\n",
    "\n",
    "def plot_losses(losses, plot_size=(10, 5)):\n",
    "    \"\"\"\n",
    "    Plot a list of losses and adjust the shape of the plot.\n",
    "\n",
    "    Args:\n",
    "        losses (list): List of loss values to be plotted.\n",
    "        plot_size (tuple): Tuple specifying the size of the plot (width, height).\n",
    "\n",
    "    Returns:\n",
    "        None\n",
    "    \"\"\"\n",
    "    # Set the plot size based on the provided tuple\n",
    "    plt.figure(figsize=plot_size)\n",
    "    \n",
    "    # Create a line plot of the losses\n",
    "    plt.plot(losses, label='Loss', color='b')\n",
    "    plt.xlabel('Epoch')\n",
    "    plt.ylabel('Loss')\n",
    "    plt.title('Loss Over Epochs')\n",
    "    plt.legend()\n",
    "    \n",
    "    # Show the plot\n",
    "    plt.show()"
   ]
  },
  {
   "cell_type": "code",
   "execution_count": 4,
   "id": "7aebd5a4",
   "metadata": {},
   "outputs": [],
   "source": [
    "\n",
    "\n",
    "n = 1000 #number of samples to generate\n",
    "layer_sizes = [8, 7,7,4]  # Inputs: 4, Hidden layers: [8, 8], Outputs: 3\n",
    "teacher = Teacher(layer_sizes)\n",
    "\n"
   ]
  },
  {
   "cell_type": "code",
   "execution_count": 5,
   "id": "2eb431b7",
   "metadata": {},
   "outputs": [],
   "source": [
    "teacher.configure()"
   ]
  },
  {
   "cell_type": "code",
   "execution_count": 6,
   "id": "96fc55af",
   "metadata": {},
   "outputs": [],
   "source": [
    "teacher.generate_data(\n",
    "    \"train\"\n",
    "    ,n\n",
    "    ,'normal'\n",
    "    , m =0.0\n",
    "    , std=1.0\n",
    ")"
   ]
  },
  {
   "cell_type": "code",
   "execution_count": 7,
   "id": "5d81bca2",
   "metadata": {},
   "outputs": [
    {
     "data": {
      "text/plain": [
       "torch.Size([1000, 8])"
      ]
     },
     "execution_count": 7,
     "metadata": {},
     "output_type": "execute_result"
    }
   ],
   "source": [
    "teacher.train_inputs.shape"
   ]
  },
  {
   "cell_type": "code",
   "execution_count": 8,
   "id": "5b868471",
   "metadata": {},
   "outputs": [],
   "source": [
    "teacher.generate_data(\n",
    "    \"val\"\n",
    "    ,n\n",
    "    ,'normal'\n",
    "    , m =0.0\n",
    "    , std=1.0\n",
    ")"
   ]
  },
  {
   "cell_type": "code",
   "execution_count": 9,
   "id": "3b42b3df",
   "metadata": {},
   "outputs": [
    {
     "data": {
      "text/plain": [
       "torch.Size([1000, 8])"
      ]
     },
     "execution_count": 9,
     "metadata": {},
     "output_type": "execute_result"
    }
   ],
   "source": [
    "teacher.val_inputs.shape"
   ]
  },
  {
   "cell_type": "code",
   "execution_count": 10,
   "id": "9ae2e479",
   "metadata": {},
   "outputs": [
    {
     "data": {
      "text/plain": [
       "OrderedDict([('input_layer.weight',\n",
       "              tensor([[-0.3459,  0.3488, -0.4044,  0.8872,  0.5031, -0.3991, -0.9424,  0.1973],\n",
       "                      [-0.8594,  0.7108,  0.2989,  0.6772, -0.5673, -0.7875,  0.6877,  0.3789],\n",
       "                      [-0.2973, -0.6816,  0.4478, -0.7044,  0.3486,  0.4611,  0.1654, -0.4953],\n",
       "                      [ 0.3697,  0.5130,  0.7928,  0.8617,  0.4193,  0.6137, -0.6991, -0.2097],\n",
       "                      [-0.3042,  0.5370,  0.3162, -0.9906, -0.5854, -0.4078,  0.8200, -0.5859],\n",
       "                      [-0.8483,  0.9041, -0.2322, -0.6018, -0.8396,  0.5694,  0.4749, -0.6996],\n",
       "                      [-0.0675, -0.5282, -0.8343, -0.5772,  0.4847, -0.7250, -0.7393, -0.4801]])),\n",
       "             ('input_layer.bias',\n",
       "              tensor([-0.3896,  0.7506, -0.5311,  0.8903, -0.8489, -0.4250,  0.7781])),\n",
       "             ('hidden_layer_2.weight',\n",
       "              tensor([[-4.5743e-01, -1.9880e-01, -5.5980e-01,  1.3106e-01, -2.4884e-01,\n",
       "                        3.4692e-01,  2.3721e-01],\n",
       "                      [-9.4234e-02,  8.8541e-02,  2.2905e-01, -8.9097e-01, -9.0679e-01,\n",
       "                        1.9581e-01, -1.1370e-02],\n",
       "                      [ 3.7233e-01, -9.3735e-02,  1.7626e-01, -6.3447e-02, -3.9158e-01,\n",
       "                       -1.3640e-01,  6.7016e-02],\n",
       "                      [ 1.0991e-01, -4.3950e-02, -5.2915e-01,  4.2227e-01,  1.3477e-01,\n",
       "                       -7.1024e-04,  1.4615e-01],\n",
       "                      [ 5.2251e-03,  7.6228e-01,  7.1940e-01, -1.7763e-01,  3.1457e-01,\n",
       "                        1.6826e-01,  8.4298e-01],\n",
       "                      [-7.8016e-01, -4.0910e-01, -9.7969e-01,  1.5836e-01, -1.5859e-02,\n",
       "                       -8.5191e-01, -8.1016e-01],\n",
       "                      [-1.8914e-01,  3.6336e-01, -7.6540e-02, -7.9402e-01, -6.2565e-01,\n",
       "                       -6.8828e-01,  5.7424e-01]])),\n",
       "             ('hidden_layer_2.bias',\n",
       "              tensor([ 0.5077, -0.5830, -0.3024, -0.7549,  0.7034, -0.3113, -0.0174])),\n",
       "             ('output_layer.weight',\n",
       "              tensor([[ 0.0348,  0.9118, -0.7939,  0.5059,  0.1087,  0.8353,  0.0766],\n",
       "                      [-0.0570,  0.5382,  0.0192, -0.1776, -0.0714, -0.6775, -0.0407],\n",
       "                      [ 0.0162, -0.9707,  0.0128,  0.0128, -0.0252, -0.0744,  0.0267],\n",
       "                      [ 0.0875,  0.8229,  0.3374, -0.4026, -0.0813, -0.2617, -0.0250]])),\n",
       "             ('output_layer.bias',\n",
       "              tensor([-0.4227,  0.2965,  0.0678,  0.2658]))])"
      ]
     },
     "execution_count": 10,
     "metadata": {},
     "output_type": "execute_result"
    }
   ],
   "source": [
    "teacher.model.state_dict()\n",
    "#torch.save(neural_network.model.state_dict(), 'model_weights.pth')"
   ]
  },
  {
   "cell_type": "code",
   "execution_count": 11,
   "id": "a2b2ec77",
   "metadata": {},
   "outputs": [],
   "source": [
    "# Define the model\n",
    "class MyModel(nn.Module):\n",
    "    def __init__(self):\n",
    "        super(MyModel, self).__init__()\n",
    "        self.hidden_1 = nn.Linear(8, 7) ##make these all variables duh\n",
    "        self.hidden_2 = nn.Linear(7,7)\n",
    "        #self.hidden_3 = nn.Linear(7,7)\n",
    "        #self.hidden_4 = nn.Linear(7,7)\n",
    "        #self.hidden_5 = nn.Linear(7,7)\n",
    "        self.output = nn.Linear(7, 4)\n",
    "        self.relu = nn.ReLU()\n",
    "        \n",
    "    def forward(self, x):\n",
    "        x = self.relu(self.hidden_1(x))\n",
    "        x = self.relu(self.hidden_2(x))\n",
    "        #x = self.relu(self.hidden_3(x))\n",
    "        #x = self.relu(self.hidden_4(x))\n",
    "        #x = self.relu(self.hidden_5(x))\n",
    "        x = self.output(x)\n",
    "        return x"
   ]
  },
  {
   "cell_type": "code",
   "execution_count": 12,
   "id": "8807a787",
   "metadata": {},
   "outputs": [
    {
     "name": "stdout",
     "output_type": "stream",
     "text": [
      "MyModel(\n",
      "  (hidden_1): Linear(in_features=8, out_features=7, bias=True)\n",
      "  (hidden_2): Linear(in_features=7, out_features=7, bias=True)\n",
      "  (output): Linear(in_features=7, out_features=4, bias=True)\n",
      "  (relu): ReLU()\n",
      ")\n"
     ]
    }
   ],
   "source": [
    "student = MyModel()\n",
    "print(student)"
   ]
  },
  {
   "cell_type": "code",
   "execution_count": 13,
   "id": "1e4372c3",
   "metadata": {},
   "outputs": [
    {
     "data": {
      "text/plain": [
       "OrderedDict([('hidden_1.weight',\n",
       "              tensor([[-0.3124, -0.3409,  0.2458, -0.0770,  0.2465,  0.3404, -0.2171, -0.2955],\n",
       "                      [ 0.0675,  0.1391,  0.1650, -0.3087,  0.3149, -0.1683,  0.3154,  0.1694],\n",
       "                      [ 0.0280,  0.0549,  0.0255,  0.1891, -0.1767, -0.2493,  0.0607, -0.0273],\n",
       "                      [-0.1354,  0.1246,  0.0194, -0.0431, -0.0915, -0.3314, -0.1760, -0.1802],\n",
       "                      [-0.3093,  0.2692,  0.1919,  0.0337,  0.1938,  0.1913, -0.0568,  0.0771],\n",
       "                      [-0.2785,  0.3386, -0.2901, -0.0793, -0.3496, -0.0974,  0.2397, -0.0063],\n",
       "                      [-0.0645, -0.1873, -0.3269,  0.3475, -0.1585, -0.1017, -0.2766, -0.0819]])),\n",
       "             ('hidden_1.bias',\n",
       "              tensor([-1.8766e-01,  1.0168e-01, -4.3331e-02,  1.0560e-01, -6.7875e-02,\n",
       "                       5.5730e-06, -6.5335e-02])),\n",
       "             ('hidden_2.weight',\n",
       "              tensor([[-0.2324,  0.3026, -0.2314,  0.2150, -0.0851, -0.1486,  0.3571],\n",
       "                      [-0.2398,  0.0116, -0.0652, -0.1869, -0.3668,  0.3628,  0.2894],\n",
       "                      [-0.2159, -0.1147, -0.2381,  0.2997,  0.1185, -0.0653, -0.0879],\n",
       "                      [ 0.3489, -0.3481,  0.0343, -0.1572, -0.2769,  0.1008,  0.1516],\n",
       "                      [ 0.2982, -0.3631,  0.2506, -0.3724, -0.2814,  0.1748, -0.0393],\n",
       "                      [-0.1367, -0.1120, -0.0189, -0.2613,  0.3094,  0.0685, -0.2012],\n",
       "                      [-0.3305, -0.2396,  0.3277, -0.1119, -0.3508, -0.1330,  0.1033]])),\n",
       "             ('hidden_2.bias',\n",
       "              tensor([ 0.0348,  0.1303, -0.1391, -0.2071, -0.0908,  0.1443,  0.2241])),\n",
       "             ('output.weight',\n",
       "              tensor([[ 0.3640, -0.1490, -0.2169,  0.2526, -0.2513,  0.0603, -0.0466],\n",
       "                      [-0.0871,  0.3516, -0.0704,  0.3013,  0.1726,  0.0399,  0.3056],\n",
       "                      [-0.1235,  0.0710,  0.0487, -0.1786, -0.2795, -0.1296,  0.2589],\n",
       "                      [-0.2022, -0.0882,  0.0070, -0.2881,  0.3630,  0.2831, -0.2690]])),\n",
       "             ('output.bias', tensor([ 0.3521, -0.2212,  0.1649,  0.2428]))])"
      ]
     },
     "execution_count": 13,
     "metadata": {},
     "output_type": "execute_result"
    }
   ],
   "source": [
    "##STARTING with the right answuers gives some close to zero row_comp:3.5974587e-08,0.0,0.0; 0.0,2.9802322e-08,1.4901161e-08\n",
    "#interesting that you get a zero, and then a close to zero.  \n",
    "#perturb_weights(mymodel, std_dev = 0.005) # converges\n",
    "#perturb_weights(mymodel, std_dev = 0.009) # converges\n",
    "#perturb_weights(mymodel, std_dev = 0.05) doesn't converge\n",
    "#perturb_weights(mymodel, std_dev = 0.01) #converges\n",
    "#perturb_weights(mymodel, std_dev = 0.01) #not converging well, even with lower lr, 0.003. 1t 0.001\n",
    "\n",
    "\n",
    "# scale_weights(mymodel, scaling_factor = 1.1) ## converges, weights cross.  \n",
    "#scale_weights(mymodel, scaling_factor = 1.5) ## good validation, non zero row comapre still..\n",
    "\n",
    "#scale_weights(mymodel, scaling_factor = 2) ## good validation, row compare stays pretty close to the same...\n",
    "## scale_weights(mymodel, scaling_factor = 1.05) row compare barely improves!!\n",
    "student.state_dict()"
   ]
  },
  {
   "cell_type": "code",
   "execution_count": 14,
   "id": "35f42444",
   "metadata": {},
   "outputs": [],
   "source": [
    "# Training loop\n",
    "num_epochs = 100\n",
    "batch_size = 32\n",
    "learning_rate = 0.001\n",
    "\n",
    "criterion = nn.MSELoss()\n",
    "optimizer = optim.Adam(student.parameters(), lr=learning_rate)"
   ]
  },
  {
   "cell_type": "code",
   "execution_count": 16,
   "id": "5377e988",
   "metadata": {},
   "outputs": [],
   "source": [
    "data = list(zip(teacher.train_inputs, teacher.train_targets))\n",
    "input_tensors = torch.stack([torch.Tensor(x[0]) for x in data])\n",
    "target_tensors = torch.stack([torch.Tensor(x[1]) for x in data])\n",
    "dataset = TensorDataset(input_tensors, target_tensors)\n",
    "dataloader = DataLoader(dataset, batch_size=batch_size, shuffle=True)"
   ]
  },
  {
   "cell_type": "code",
   "execution_count": 17,
   "id": "19fcd259",
   "metadata": {},
   "outputs": [
    {
     "name": "stdout",
     "output_type": "stream",
     "text": [
      "Epoch [1/100], Loss: 0.0705\n",
      "Epoch [2/100], Loss: 0.0489\n",
      "Epoch [3/100], Loss: 0.0341\n",
      "Epoch [4/100], Loss: 0.0252\n",
      "Epoch [5/100], Loss: 0.0190\n",
      "Epoch [6/100], Loss: 0.0158\n",
      "Epoch [7/100], Loss: 0.0140\n",
      "Epoch [8/100], Loss: 0.0132\n",
      "Epoch [9/100], Loss: 0.0125\n",
      "Epoch [10/100], Loss: 0.0120\n",
      "Epoch [11/100], Loss: 0.0116\n",
      "Epoch [12/100], Loss: 0.0113\n",
      "Epoch [13/100], Loss: 0.0110\n",
      "Epoch [14/100], Loss: 0.0105\n",
      "Epoch [15/100], Loss: 0.0101\n",
      "Epoch [16/100], Loss: 0.0097\n",
      "Epoch [17/100], Loss: 0.0092\n",
      "Epoch [18/100], Loss: 0.0088\n",
      "Epoch [19/100], Loss: 0.0083\n",
      "Epoch [20/100], Loss: 0.0080\n",
      "Epoch [21/100], Loss: 0.0075\n",
      "Epoch [22/100], Loss: 0.0071\n",
      "Epoch [23/100], Loss: 0.0069\n",
      "Epoch [24/100], Loss: 0.0068\n",
      "Epoch [25/100], Loss: 0.0063\n",
      "Epoch [26/100], Loss: 0.0062\n",
      "Epoch [27/100], Loss: 0.0059\n",
      "Epoch [28/100], Loss: 0.0057\n",
      "Epoch [29/100], Loss: 0.0055\n",
      "Epoch [30/100], Loss: 0.0053\n",
      "Epoch [31/100], Loss: 0.0052\n",
      "Epoch [32/100], Loss: 0.0048\n",
      "Epoch [33/100], Loss: 0.0046\n",
      "Epoch [34/100], Loss: 0.0043\n",
      "Epoch [35/100], Loss: 0.0041\n",
      "Epoch [36/100], Loss: 0.0039\n",
      "Epoch [37/100], Loss: 0.0037\n",
      "Epoch [38/100], Loss: 0.0035\n",
      "Epoch [39/100], Loss: 0.0034\n",
      "Epoch [40/100], Loss: 0.0032\n",
      "Epoch [41/100], Loss: 0.0031\n",
      "Epoch [42/100], Loss: 0.0030\n",
      "Epoch [43/100], Loss: 0.0030\n",
      "Epoch [44/100], Loss: 0.0029\n",
      "Epoch [45/100], Loss: 0.0028\n",
      "Epoch [46/100], Loss: 0.0027\n",
      "Epoch [47/100], Loss: 0.0027\n",
      "Epoch [48/100], Loss: 0.0026\n",
      "Epoch [49/100], Loss: 0.0025\n",
      "Epoch [50/100], Loss: 0.0025\n",
      "Epoch [51/100], Loss: 0.0024\n",
      "Epoch [52/100], Loss: 0.0023\n",
      "Epoch [53/100], Loss: 0.0022\n",
      "Epoch [54/100], Loss: 0.0022\n",
      "Epoch [55/100], Loss: 0.0022\n",
      "Epoch [56/100], Loss: 0.0021\n",
      "Epoch [57/100], Loss: 0.0020\n",
      "Epoch [58/100], Loss: 0.0020\n",
      "Epoch [59/100], Loss: 0.0020\n",
      "Epoch [60/100], Loss: 0.0020\n",
      "Epoch [61/100], Loss: 0.0019\n",
      "Epoch [62/100], Loss: 0.0019\n",
      "Epoch [63/100], Loss: 0.0019\n",
      "Epoch [64/100], Loss: 0.0018\n",
      "Epoch [65/100], Loss: 0.0018\n",
      "Epoch [66/100], Loss: 0.0018\n",
      "Epoch [67/100], Loss: 0.0018\n",
      "Epoch [68/100], Loss: 0.0017\n",
      "Epoch [69/100], Loss: 0.0017\n",
      "Epoch [70/100], Loss: 0.0017\n",
      "Epoch [71/100], Loss: 0.0017\n",
      "Epoch [72/100], Loss: 0.0016\n",
      "Epoch [73/100], Loss: 0.0016\n",
      "Epoch [74/100], Loss: 0.0016\n",
      "Epoch [75/100], Loss: 0.0016\n",
      "Epoch [76/100], Loss: 0.0015\n",
      "Epoch [77/100], Loss: 0.0015\n",
      "Epoch [78/100], Loss: 0.0015\n",
      "Epoch [79/100], Loss: 0.0015\n",
      "Epoch [80/100], Loss: 0.0015\n",
      "Epoch [81/100], Loss: 0.0014\n",
      "Epoch [82/100], Loss: 0.0014\n",
      "Epoch [83/100], Loss: 0.0015\n",
      "Epoch [84/100], Loss: 0.0014\n",
      "Epoch [85/100], Loss: 0.0014\n",
      "Epoch [86/100], Loss: 0.0014\n",
      "Epoch [87/100], Loss: 0.0014\n",
      "Epoch [88/100], Loss: 0.0013\n",
      "Epoch [89/100], Loss: 0.0014\n",
      "Epoch [90/100], Loss: 0.0013\n",
      "Epoch [91/100], Loss: 0.0013\n",
      "Epoch [92/100], Loss: 0.0013\n",
      "Epoch [93/100], Loss: 0.0013\n",
      "Epoch [94/100], Loss: 0.0013\n",
      "Epoch [95/100], Loss: 0.0013\n",
      "Epoch [96/100], Loss: 0.0015\n",
      "Epoch [97/100], Loss: 0.0013\n",
      "Epoch [98/100], Loss: 0.0013\n",
      "Epoch [99/100], Loss: 0.0012\n",
      "Epoch [100/100], Loss: 0.0012\n"
     ]
    }
   ],
   "source": [
    "\n",
    "\n",
    "losses = []  # List to store losses\n",
    "\n",
    "for epoch in range(num_epochs):\n",
    "    total_loss = 0\n",
    "    for input_batch, target_batch in dataloader:\n",
    "        optimizer.zero_grad()  # Zero the gradients\n",
    "        output = student(input_batch)  # Forward pass\n",
    "        loss = criterion(output, target_batch)  # Compute the loss\n",
    "        loss.backward()  # Backpropagation\n",
    "        optimizer.step()  # Update the weights\n",
    "        total_loss += loss.item()\n",
    "\n",
    "    # Print the average loss for this epoch\n",
    "    avg_loss = total_loss / len(dataloader)\n",
    "    losses.append(avg_loss)\n",
    "    print(f'Epoch [{epoch+1}/{num_epochs}], Loss: {avg_loss:.4f}')"
   ]
  },
  {
   "cell_type": "code",
   "execution_count": 18,
   "id": "ac518f97",
   "metadata": {
    "scrolled": true
   },
   "outputs": [
    {
     "data": {
      "image/png": "[encoded data removed]",
      "text/plain": [
       "<Figure size 720x360 with 1 Axes>"
      ]
     },
     "metadata": {
      "needs_background": "light"
     },
     "output_type": "display_data"
    }
   ],
   "source": [
    "plot_losses(losses, plot_size=(10, 5))"
   ]
  },
  {
   "cell_type": "code",
   "execution_count": null,
   "id": "60b02a03",
   "metadata": {},
   "outputs": [],
   "source": []
  },
  {
   "cell_type": "code",
   "execution_count": null,
   "id": "8131b9cf",
   "metadata": {},
   "outputs": [],
   "source": []
  }
 ],
 "metadata": {
  "kernelspec": {
   "display_name": "Python 3 (ipykernel)",
   "language": "python",
   "name": "python3"
  },
  "language_info": {
   "codemirror_mode": {
    "name": "ipython",
    "version": 3
   },
   "file_extension": ".py",
   "mimetype": "text/x-python",
   "name": "python",
   "nbconvert_exporter": "python",
   "pygments_lexer": "ipython3",
   "version": "3.9.12"
  }
 },
 "nbformat": 4,
 "nbformat_minor": 5
}
