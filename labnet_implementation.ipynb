{
 "cells": [
  {
   "cell_type": "code",
   "execution_count": 1,
   "id": "cf4701eb",
   "metadata": {},
   "outputs": [],
   "source": [
    "from LABNET import Neuron, Net, Lab"
   ]
  },
  {
   "cell_type": "code",
   "execution_count": 2,
   "id": "12e88d64",
   "metadata": {},
   "outputs": [],
   "source": [
    "import random\n",
    "import numpy as np\n",
    "import matplotlib.pyplot as plt\n"
   ]
  },
  {
   "cell_type": "code",
   "execution_count": 3,
   "id": "bbfe8511",
   "metadata": {},
   "outputs": [],
   "source": [
    "dl_big = [\n",
    "    ['i']\n",
    "    ,['i']\n",
    "    ,['i']\n",
    "    ,['i']\n",
    "    ,['i']\n",
    "    ,['i']\n",
    "    ,['i']\n",
    "    ,['i'] #0-7 for inputs\n",
    "    \n",
    "    ,['fc',[0,1,2]]\n",
    "    ,['fc',[-2,3,-4]]\n",
    "    ,['fc',[3,4,5]]\n",
    "    ,['fc',[3,5,7]]\n",
    "    ,['fc',[0,7]] #8 - 12 for this layer\n",
    "    \n",
    "    ,['fc',[8,10]]\n",
    "    ,['fc',[9,-11]]\n",
    "    ,['fc',[12]]\n",
    "    ,['fc',[-8,-9]] #13 - 16\n",
    "    \n",
    "    \n",
    "    \n",
    "    ,['o',[-13,14]]\n",
    "    ,['o',[-14,15,-16]]\n",
    "    ,['o',[-15,-16]]\n",
    "    ,['o',[-13,16]]\n",
    "    \n",
    "]"
   ]
  },
  {
   "cell_type": "code",
   "execution_count": 4,
   "id": "6d9564a8",
   "metadata": {},
   "outputs": [
    {
     "name": "stdout",
     "output_type": "stream",
     "text": [
      "self.inputs and self.outputs are now tensors of shape torch.Size([256, 8]) and torch.Size([256, 4]) respectively!\n"
     ]
    }
   ],
   "source": [
    "nn_big = Net(dl_big)\n",
    "nn_big.generate_inputs()\n",
    "nn_big.generate_outputs()\n",
    "nn_big.tensorize()"
   ]
  },
  {
   "cell_type": "code",
   "execution_count": 5,
   "id": "82161f21",
   "metadata": {},
   "outputs": [
    {
     "data": {
      "text/plain": [
       "tensor([[False,  True, False, False],\n",
       "        [False, False,  True, False],\n",
       "        [False,  True, False, False],\n",
       "        ...,\n",
       "        [False, False, False,  True],\n",
       "        [False, False, False,  True],\n",
       "        [False, False, False,  True]])"
      ]
     },
     "execution_count": 5,
     "metadata": {},
     "output_type": "execute_result"
    }
   ],
   "source": [
    "nn_big.outputs"
   ]
  },
  {
   "cell_type": "code",
   "execution_count": 6,
   "id": "636b3345",
   "metadata": {},
   "outputs": [
    {
     "data": {
      "text/plain": [
       "[tensor(0.0938), tensor(0.0781), tensor(0.1562), tensor(0.7500)]"
      ]
     },
     "execution_count": 6,
     "metadata": {},
     "output_type": "execute_result"
    }
   ],
   "source": [
    "nn_big.percent_true()"
   ]
  },
  {
   "cell_type": "code",
   "execution_count": 16,
   "id": "bfb5c733",
   "metadata": {},
   "outputs": [
    {
     "data": {
      "text/plain": [
       "['__class__',\n",
       " '__delattr__',\n",
       " '__dict__',\n",
       " '__dir__',\n",
       " '__doc__',\n",
       " '__eq__',\n",
       " '__format__',\n",
       " '__ge__',\n",
       " '__getattribute__',\n",
       " '__gt__',\n",
       " '__hash__',\n",
       " '__init__',\n",
       " '__init_subclass__',\n",
       " '__le__',\n",
       " '__lt__',\n",
       " '__module__',\n",
       " '__ne__',\n",
       " '__new__',\n",
       " '__reduce__',\n",
       " '__reduce_ex__',\n",
       " '__repr__',\n",
       " '__setattr__',\n",
       " '__sizeof__',\n",
       " '__str__',\n",
       " '__subclasshook__',\n",
       " '__weakref__',\n",
       " 'generate_inputs',\n",
       " 'generate_outputs',\n",
       " 'get_neuron_at',\n",
       " 'get_neurons',\n",
       " 'get_output',\n",
       " 'get_output_at',\n",
       " 'input_size',\n",
       " 'inputs',\n",
       " 'neurons',\n",
       " 'output_size',\n",
       " 'outputs',\n",
       " 'percent_true',\n",
       " 'size',\n",
       " 'tensorize']"
      ]
     },
     "execution_count": 16,
     "metadata": {},
     "output_type": "execute_result"
    }
   ],
   "source": []
  },
  {
   "cell_type": "code",
   "execution_count": 135,
   "id": "4a4956eb",
   "metadata": {},
   "outputs": [],
   "source": [
    "def create_neural_network(layer_sizes):\n",
    "    # Extract the number of inputs and outputs from the layer_sizes list\n",
    "    num_inputs = layer_sizes[0]\n",
    "    num_outputs = layer_sizes[-1]\n",
    "    \n",
    "    # Create a sequential model\n",
    "    model = nn.Sequential()\n",
    "    \n",
    "    # Add input layer\n",
    "    model.add_module(\"input_layer\", nn.Linear(num_inputs, layer_sizes[1]))\n",
    "    model.add_module(\"input_layer_activation\", nn.ReLU())\n",
    "    \n",
    "    # Add hidden layers\n",
    "    for i in range(2, len(layer_sizes)-1):\n",
    "        model.add_module(f\"hidden_layer_{i}\", nn.Linear(layer_sizes[i-1], layer_sizes[i]))\n",
    "        model.add_module(f\"hidden_layer_{i}_activation\", nn.ReLU())\n",
    "    \n",
    "    # Add output layer\n",
    "    model.add_module(\"output_layer\", nn.Linear(layer_sizes[-2], num_outputs))\n",
    "    #model.add_module(\"output_layer_activation\", nn.ReLU())\n",
    "    #model = model.to(dtype=torch.float)\n",
    "    return model\n",
    "\n",
    "def initialize_weights_uniform(neural_network, low=-10, high=10):\n",
    "    for module in neural_network.modules():\n",
    "        if isinstance(module, nn.Linear):\n",
    "            init.uniform_(module.weight, low, high)\n",
    "            if module.bias is not None:\n",
    "                init.uniform_(module.bias, low, high)\n",
    "\n",
    "import torch\n",
    "from torch.distributions import uniform, normal\n",
    "\n",
    "def generate_random_data(nn,n, dist_type = 'normal', m =0, std=1):\n",
    "    \n",
    "    input_size = nn.input_layer.in_features ##this only works with create_neural_network func above\n",
    "\n",
    "    samples = np.random.normal(m, std, (n,input_size))\n",
    "    samples = torch.from_numpy(samples).float()\n",
    "    outputs = nn(samples)\n",
    "    \n",
    "    return samples,outputs"
   ]
  },
  {
   "cell_type": "code",
   "execution_count": 136,
   "id": "02d76df9",
   "metadata": {},
   "outputs": [],
   "source": [
    "import torch\n",
    "import torch.nn as nn\n",
    "import torch.optim as optim"
   ]
  },
  {
   "cell_type": "code",
   "execution_count": 159,
   "id": "a871fcd3",
   "metadata": {},
   "outputs": [
    {
     "data": {
      "text/plain": [
       "(torch.Size([1000, 8]), torch.Size([1000, 4]))"
      ]
     },
     "execution_count": 159,
     "metadata": {},
     "output_type": "execute_result"
    }
   ],
   "source": [
    "import torch.nn.init as init\n",
    "\n",
    "n = 1000 #number of samples to generate\n",
    "layer_sizes = [8, 20, 20, 4]  # Inputs: 4, Hidden layers: [8, 8], Outputs: 3\n",
    "neural_network = create_neural_network(layer_sizes)\n",
    "initialize_weights_uniform(neural_network,0,1)\n",
    "\n",
    "inputs, outputs = generate_random_data(neural_network,n,'normal',-1,1)\n",
    "\n",
    "inputs.shape,outputs.shape"
   ]
  },
  {
   "cell_type": "code",
   "execution_count": 160,
   "id": "a2b2ec77",
   "metadata": {},
   "outputs": [],
   "source": [
    "# Define the model\n",
    "class MyModel(nn.Module):\n",
    "    def __init__(self):\n",
    "        super(MyModel, self).__init__()\n",
    "        self.hidden_1 = nn.Linear(8, 7) ##make these all variables duh\n",
    "        self.hidden_2 = nn.Linear(7,7)\n",
    "        self.output = nn.Linear(7, 4)\n",
    "        self.relu = nn.ReLU()\n",
    "        \n",
    "    def forward(self, x):\n",
    "        x = self.relu(self.hidden_1(x))\n",
    "        x = self.relu(self.hidden_2(x))\n",
    "        x = self.output(x)\n",
    "        return x"
   ]
  },
  {
   "cell_type": "code",
   "execution_count": 161,
   "id": "8807a787",
   "metadata": {},
   "outputs": [],
   "source": [
    "model = MyModel()\n"
   ]
  },
  {
   "cell_type": "code",
   "execution_count": 162,
   "id": "1ba85702",
   "metadata": {},
   "outputs": [],
   "source": [
    "criterion = nn.MSELoss()\n",
    "optimizer = optim.SGD(model.parameters(), lr=0.01)"
   ]
  },
  {
   "cell_type": "code",
   "execution_count": 172,
   "id": "975f3acb",
   "metadata": {},
   "outputs": [],
   "source": [
    "input_data = nn_big.inputs.float()\n",
    "output_data = nn_big.outputs.float()\n",
    "\n",
    "input_data = inputs\n",
    "#output_data = outputs"
   ]
  },
  {
   "cell_type": "code",
   "execution_count": 173,
   "id": "19fcd259",
   "metadata": {},
   "outputs": [],
   "source": [
    "# Training loop\n",
    "#samples = n\n",
    "samples = nn_big.inputs.shape[0]\n",
    "\n",
    "num_epochs = 10\n",
    "\n",
    "lab = Lab(model,num_epochs,samples)\n",
    "data = list(zip(input_data, output_data))\n",
    "\n",
    "for epoch in range(num_epochs):\n",
    "    \n",
    "    sample = 0\n",
    "    \n",
    "    random.shuffle(data)\n",
    "    shuffled_inputs, shuffled_outputs = zip(*data)\n",
    "    \n",
    "    for inputs, targets in zip(shuffled_inputs, shuffled_outputs):\n",
    "        inputs = inputs.unsqueeze(0)  \n",
    "        targets = targets.unsqueeze(0)\n",
    "    \n",
    "        output = model(inputs)\n",
    "    \n",
    "        loss = criterion(output, targets)\n",
    "\n",
    "    \n",
    "        # Backward pass and optimization\n",
    "        optimizer.zero_grad()\n",
    "        loss.backward()\n",
    "        \n",
    "        optimizer.step()\n",
    "        lab.record(model,epoch,samples,sample)\n",
    "        #print or store loss if you wanna\n",
    "        #loss.item()\n",
    "\n",
    "        \n",
    "        sample += 1\n",
    " \n"
   ]
  },
  {
   "cell_type": "code",
   "execution_count": 174,
   "id": "5f3c017f",
   "metadata": {},
   "outputs": [
    {
     "data": {
      "image/png": "[encoded data removed]",
      "text/plain": [
       "<Figure size 432x288 with 1 Axes>"
      ]
     },
     "metadata": {
      "needs_background": "light"
     },
     "output_type": "display_data"
    },
    {
     "data": {
      "image/png": "[encoded data removed]",
      "text/plain": [
       "<Figure size 432x288 with 1 Axes>"
      ]
     },
     "metadata": {
      "needs_background": "light"
     },
     "output_type": "display_data"
    },
    {
     "data": {
      "image/png": "[encoded data removed]",
      "text/plain": [
       "<Figure size 432x288 with 1 Axes>"
      ]
     },
     "metadata": {
      "needs_background": "light"
     },
     "output_type": "display_data"
    },
    {
     "data": {
      "image/png": "[encoded data removed]",
      "text/plain": [
       "<Figure size 432x288 with 1 Axes>"
      ]
     },
     "metadata": {
      "needs_background": "light"
     },
     "output_type": "display_data"
    },
    {
     "data": {
      "image/png": "[encoded data removed]",
      "text/plain": [
       "<Figure size 432x288 with 1 Axes>"
      ]
     },
     "metadata": {
      "needs_background": "light"
     },
     "output_type": "display_data"
    },
    {
     "data": {
      "image/png": "[encoded data removed]",
      "text/plain": [
       "<Figure size 432x288 with 1 Axes>"
      ]
     },
     "metadata": {
      "needs_background": "light"
     },
     "output_type": "display_data"
    }
   ],
   "source": [
    "lab.graph(diff=0)"
   ]
  },
  {
   "cell_type": "code",
   "execution_count": null,
   "id": "ac518f97",
   "metadata": {},
   "outputs": [],
   "source": []
  }
 ],
 "metadata": {
  "kernelspec": {
   "display_name": "Python 3 (ipykernel)",
   "language": "python",
   "name": "python3"
  },
  "language_info": {
   "codemirror_mode": {
    "name": "ipython",
    "version": 3
   },
   "file_extension": ".py",
   "mimetype": "text/x-python",
   "name": "python",
   "nbconvert_exporter": "python",
   "pygments_lexer": "ipython3",
   "version": "3.9.12"
  }
 },
 "nbformat": 4,
 "nbformat_minor": 5
}
