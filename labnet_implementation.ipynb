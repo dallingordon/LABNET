{
 "cells": [
  {
   "cell_type": "code",
   "execution_count": 1,
   "id": "cf4701eb",
   "metadata": {},
   "outputs": [],
   "source": [
    "from LABNET import Neuron, Net"
   ]
  },
  {
   "cell_type": "code",
   "execution_count": 2,
   "id": "bbfe8511",
   "metadata": {},
   "outputs": [],
   "source": [
    "dl_big = [\n",
    "    ['i']\n",
    "    ,['i']\n",
    "    ,['i']\n",
    "    ,['i']\n",
    "    ,['i']\n",
    "    ,['i']\n",
    "    ,['i']\n",
    "    ,['i'] #0-7 for inputs\n",
    "    \n",
    "    ,['fc',[0,1,2]]\n",
    "    ,['fc',[-2,3,-4]]\n",
    "    ,['fc',[3,4,5]]\n",
    "    ,['fc',[3,5,7]]\n",
    "    ,['fc',[0,7]] #8 - 12 for this layer\n",
    "    \n",
    "    ,['fc',[8,10]]\n",
    "    ,['fc',[9,-11]]\n",
    "    ,['fc',[12]]\n",
    "    ,['fc',[-8,-9]] #13 - 16\n",
    "    \n",
    "    \n",
    "    \n",
    "    ,['o',[-13,14]]\n",
    "    ,['o',[-14,15,-16]]\n",
    "    ,['o',[-15,-16]]\n",
    "    ,['o',[-13,16]]\n",
    "    \n",
    "]"
   ]
  },
  {
   "cell_type": "code",
   "execution_count": 3,
   "id": "6d9564a8",
   "metadata": {},
   "outputs": [
    {
     "name": "stdout",
     "output_type": "stream",
     "text": [
      "self.inputs and self.outputs are now tensors of shape torch.Size([256, 8]) and torch.Size([256, 4]) respectively!\n"
     ]
    }
   ],
   "source": [
    "nn_big = Net(dl_big)\n",
    "nn_big.generate_inputs()\n",
    "nn_big.generate_outputs()\n",
    "nn_big.tensorize()"
   ]
  },
  {
   "cell_type": "code",
   "execution_count": 4,
   "id": "82161f21",
   "metadata": {},
   "outputs": [
    {
     "data": {
      "text/plain": [
       "tensor([[False,  True, False, False],\n",
       "        [False, False,  True, False],\n",
       "        [False,  True, False, False],\n",
       "        ...,\n",
       "        [False, False, False,  True],\n",
       "        [False, False, False,  True],\n",
       "        [False, False, False,  True]])"
      ]
     },
     "execution_count": 4,
     "metadata": {},
     "output_type": "execute_result"
    }
   ],
   "source": [
    "nn_big.outputs"
   ]
  },
  {
   "cell_type": "code",
   "execution_count": 5,
   "id": "636b3345",
   "metadata": {},
   "outputs": [
    {
     "data": {
      "text/plain": [
       "[tensor(0.0938), tensor(0.0781), tensor(0.1562), tensor(0.7500)]"
      ]
     },
     "execution_count": 5,
     "metadata": {},
     "output_type": "execute_result"
    }
   ],
   "source": [
    "nn_big.percent_true()"
   ]
  },
  {
   "cell_type": "code",
   "execution_count": 6,
   "id": "bfb5c733",
   "metadata": {},
   "outputs": [
    {
     "data": {
      "text/plain": [
       "8"
      ]
     },
     "execution_count": 6,
     "metadata": {},
     "output_type": "execute_result"
    }
   ],
   "source": [
    "nn_big.input_size"
   ]
  },
  {
   "cell_type": "code",
   "execution_count": 7,
   "id": "02d76df9",
   "metadata": {},
   "outputs": [],
   "source": [
    "import torch\n",
    "import torch.nn as nn\n",
    "import torch.optim as optim"
   ]
  },
  {
   "cell_type": "code",
   "execution_count": 8,
   "id": "a2b2ec77",
   "metadata": {},
   "outputs": [],
   "source": [
    "# Define the model\n",
    "class MyModel(nn.Module):\n",
    "    def __init__(self):\n",
    "        super(MyModel, self).__init__()\n",
    "        self.hidden_1 = nn.Linear(nn_big.input_size, 5) ##make these all variables duh\n",
    "        self.hidden_2 = nn.Linear(5,4)\n",
    "        self.output = nn.Linear(4, nn_big.output_size)\n",
    "        self.relu = nn.ReLU()\n",
    "\n",
    "    def forward(self, x):\n",
    "        x = self.relu(self.hidden_1(x))\n",
    "        x = self.relu(self.hidden_2(x))\n",
    "        x = self.output(x)\n",
    "        return x"
   ]
  },
  {
   "cell_type": "code",
   "execution_count": 9,
   "id": "8807a787",
   "metadata": {},
   "outputs": [],
   "source": [
    "model = MyModel()"
   ]
  },
  {
   "cell_type": "code",
   "execution_count": 10,
   "id": "1ba85702",
   "metadata": {},
   "outputs": [],
   "source": [
    "criterion = nn.MSELoss()\n",
    "optimizer = optim.SGD(model.parameters(), lr=0.01)"
   ]
  },
  {
   "cell_type": "code",
   "execution_count": 11,
   "id": "975f3acb",
   "metadata": {},
   "outputs": [],
   "source": [
    "input_data = nn_big.inputs.float()\n",
    "output_data = nn_big.outputs.float()"
   ]
  },
  {
   "cell_type": "code",
   "execution_count": 12,
   "id": "733d8790",
   "metadata": {},
   "outputs": [
    {
     "data": {
      "text/plain": [
       "torch.float32"
      ]
     },
     "execution_count": 12,
     "metadata": {},
     "output_type": "execute_result"
    }
   ],
   "source": [
    "input_data.dtype"
   ]
  },
  {
   "cell_type": "code",
   "execution_count": 13,
   "id": "19fcd259",
   "metadata": {},
   "outputs": [
    {
     "name": "stdout",
     "output_type": "stream",
     "text": [
      "torch.Size([5, 8])\n",
      "Parameter containing:\n",
      "tensor([[ 0.1141, -0.1947,  0.1246,  0.0684,  0.0087],\n",
      "        [-0.2305, -0.3241, -0.1818,  0.1559, -0.3062],\n",
      "        [-0.1672, -0.2360,  0.3415,  0.3244, -0.3826],\n",
      "        [-0.2297,  0.1663,  0.0406, -0.0950,  0.2558]], requires_grad=True)\n",
      "Parameter containing:\n",
      "tensor([[-0.1207,  0.4859,  0.0225, -0.1851],\n",
      "        [ 0.1705,  0.4376,  0.2679, -0.1683],\n",
      "        [-0.0598, -0.0629,  0.2283, -0.0211],\n",
      "        [-0.2943,  0.0407, -0.3368,  0.0728]], requires_grad=True)\n",
      "torch.Size([5, 8])\n",
      "Parameter containing:\n",
      "tensor([[ 0.1141, -0.1947,  0.1246,  0.0684,  0.0087],\n",
      "        [-0.2305, -0.3241, -0.1818,  0.1559, -0.3062],\n",
      "        [-0.1673, -0.2361,  0.3415,  0.3240, -0.3826],\n",
      "        [-0.2297,  0.1663,  0.0406, -0.0950,  0.2558]], requires_grad=True)\n",
      "Parameter containing:\n",
      "tensor([[-0.1207,  0.4859,  0.0232, -0.1851],\n",
      "        [ 0.1705,  0.4376,  0.2677, -0.1683],\n",
      "        [-0.0598, -0.0629,  0.2276, -0.0211],\n",
      "        [-0.2943,  0.0407, -0.3360,  0.0728]], requires_grad=True)\n",
      "torch.Size([5, 8])\n",
      "Parameter containing:\n",
      "tensor([[ 0.1141, -0.1947,  0.1246,  0.0684,  0.0087],\n",
      "        [-0.2305, -0.3241, -0.1818,  0.1559, -0.3062],\n",
      "        [-0.1673, -0.2361,  0.3415,  0.3236, -0.3826],\n",
      "        [-0.2297,  0.1663,  0.0406, -0.0950,  0.2558]], requires_grad=True)\n",
      "Parameter containing:\n",
      "tensor([[-0.1207,  0.4859,  0.0238, -0.1851],\n",
      "        [ 0.1705,  0.4376,  0.2674, -0.1683],\n",
      "        [-0.0598, -0.0629,  0.2269, -0.0211],\n",
      "        [-0.2943,  0.0407, -0.3352,  0.0728]], requires_grad=True)\n",
      "torch.Size([5, 8])\n",
      "Parameter containing:\n",
      "tensor([[ 0.1141, -0.1947,  0.1246,  0.0684,  0.0087],\n",
      "        [-0.2305, -0.3241, -0.1818,  0.1559, -0.3062],\n",
      "        [-0.1673, -0.2361,  0.3414,  0.3232, -0.3826],\n",
      "        [-0.2297,  0.1663,  0.0406, -0.0950,  0.2558]], requires_grad=True)\n",
      "Parameter containing:\n",
      "tensor([[-0.1207,  0.4859,  0.0244, -0.1851],\n",
      "        [ 0.1705,  0.4376,  0.2671, -0.1683],\n",
      "        [-0.0598, -0.0629,  0.2263, -0.0211],\n",
      "        [-0.2943,  0.0407, -0.3344,  0.0728]], requires_grad=True)\n",
      "torch.Size([5, 8])\n",
      "Parameter containing:\n",
      "tensor([[ 0.1141, -0.1947,  0.1246,  0.0684,  0.0087],\n",
      "        [-0.2305, -0.3241, -0.1818,  0.1559, -0.3062],\n",
      "        [-0.1674, -0.2362,  0.3414,  0.3228, -0.3827],\n",
      "        [-0.2297,  0.1663,  0.0406, -0.0950,  0.2558]], requires_grad=True)\n",
      "Parameter containing:\n",
      "tensor([[-0.1207,  0.4859,  0.0250, -0.1851],\n",
      "        [ 0.1705,  0.4376,  0.2669, -0.1683],\n",
      "        [-0.0598, -0.0629,  0.2256, -0.0211],\n",
      "        [-0.2943,  0.0407, -0.3336,  0.0728]], requires_grad=True)\n",
      "Predicted output: tensor([[-0.2243,  0.1341,  0.4576,  0.3994]], grad_fn=<AddmmBackward0>)\n"
     ]
    }
   ],
   "source": [
    "# Training loop\n",
    "num_epochs = 5\n",
    "hidden_layer_weights = torch.zeros(num_epochs, 5, 8) #this should be num epochs by hidden size.  \n",
    "for epoch in range(num_epochs):\n",
    "    # Forward pass\n",
    "    output = model(input_data)\n",
    "    ###this needs to be stochastic\n",
    "    # Compute the loss\n",
    "    loss = criterion(output, output_data)\n",
    "\n",
    "    # Backward pass and optimization\n",
    "    optimizer.zero_grad()\n",
    "    loss.backward()\n",
    "    optimizer.step()\n",
    "\n",
    "    loss.item()\n",
    "\n",
    "    print(model.hidden_1.weight.shape) ##i also have biases here.  are those interesting??\n",
    "    hidden_layer_weights[epoch] = model.hidden_1.weight\n",
    "    print(model.hidden_2.weight)\n",
    "    print(model.output.weight)\n",
    "\n",
    "# After training, you can use the model to make predictions\n",
    "test_input = torch.randn(1, 8)  # Single test input with 8 values\n",
    "predicted_output = model(test_input)\n",
    "print(\"Predicted output:\", predicted_output)"
   ]
  },
  {
   "cell_type": "code",
   "execution_count": 14,
   "id": "0a94cd8f",
   "metadata": {},
   "outputs": [
    {
     "data": {
      "text/plain": [
       "torch.Size([5, 5, 8])"
      ]
     },
     "execution_count": 14,
     "metadata": {},
     "output_type": "execute_result"
    }
   ],
   "source": [
    "hidden_layer_weights.shape"
   ]
  },
  {
   "cell_type": "code",
   "execution_count": null,
   "id": "7a94aeab",
   "metadata": {},
   "outputs": [],
   "source": []
  },
  {
   "cell_type": "code",
   "execution_count": 16,
   "id": "019a21e0",
   "metadata": {},
   "outputs": [
    {
     "name": "stdout",
     "output_type": "stream",
     "text": [
      "[[-0.2346521  -0.23899454 -0.19367206  0.22560698  0.07546984 -0.29005793\n",
      "   0.19202636 -0.34082767  0.18313816 -0.01186966 -0.26683906 -0.33500332\n",
      "  -0.16575256  0.21614702  0.08472677 -0.1664078   0.25541103  0.26865444\n",
      "  -0.16449672  0.32848072 -0.19881068 -0.23527788  0.01194374 -0.1142915\n",
      "  -0.29871374  0.22852397 -0.18761806  0.3335854   0.2786909   0.33212832\n",
      "   0.20704888  0.10523786 -0.32827404  0.05168547 -0.15760228 -0.28435093\n",
      "  -0.29574457 -0.2238214   0.1824208   0.17712435]\n",
      " [-0.23464306 -0.23898457 -0.193655    0.22563429  0.07550379 -0.2900491\n",
      "   0.19205795 -0.34082416  0.18317112 -0.01184766 -0.26683724 -0.33500466\n",
      "  -0.16573744  0.21618766  0.08475594 -0.16639313  0.2553495   0.26858538\n",
      "  -0.1645222   0.32842183 -0.19887534 -0.2352966   0.01189018 -0.11432575\n",
      "  -0.29879558  0.2283666  -0.18775702  0.3334317   0.2784457   0.33193913\n",
      "   0.20686594  0.10507103 -0.32826826  0.05172531 -0.15757638 -0.28435022\n",
      "  -0.29573852 -0.22380327  0.1824703   0.17717385]\n",
      " [-0.2346341  -0.2389747  -0.19363806  0.22566128  0.07553749 -0.29004037\n",
      "   0.19208924 -0.34082067  0.18320377 -0.01182587 -0.26683545 -0.33500603\n",
      "  -0.16572243  0.21622792  0.08478484 -0.16637859  0.25528914  0.26851758\n",
      "  -0.1645471   0.32836428 -0.19893937 -0.23531482  0.01183753 -0.11435926\n",
      "  -0.29887608  0.2282113  -0.18789436  0.33328015  0.2782029   0.3317522\n",
      "   0.20668514  0.1049062  -0.32826254  0.05176481 -0.15755068 -0.28434956\n",
      "  -0.2957325  -0.22378527  0.18251938  0.17722292]\n",
      " [-0.23462525 -0.23896495 -0.19362125  0.22568797  0.07557094 -0.2900317\n",
      "   0.19212024 -0.34081724  0.18323612 -0.01180428 -0.2668337  -0.33500743\n",
      "  -0.16570753  0.21626782  0.08481348 -0.16636415  0.25522998  0.268451\n",
      "  -0.16457143  0.32830805 -0.19900277 -0.2353325   0.01178578 -0.11439205\n",
      "  -0.29895523  0.22805803 -0.18803012  0.33313075  0.27796248  0.3315675\n",
      "   0.20650646  0.10474334 -0.32825685  0.05180399 -0.15752517 -0.28434896\n",
      "  -0.29572654 -0.2237674   0.18256801  0.17727157]\n",
      " [-0.23461649 -0.23895529 -0.19360456  0.22571434  0.07560416 -0.29002312\n",
      "   0.19215095 -0.34081385  0.18326817 -0.01178289 -0.266832   -0.33500886\n",
      "  -0.16569275  0.21630739  0.08484187 -0.16634981  0.25517198  0.26838565\n",
      "  -0.1645952   0.32825312 -0.19906557 -0.23534967  0.01173492 -0.11442413\n",
      "  -0.2990331   0.22790675 -0.18816432  0.33298346  0.2777244   0.33138496\n",
      "   0.20632985  0.10458241 -0.32825118  0.05184285 -0.15749985 -0.28434843\n",
      "  -0.2957206  -0.22374679  0.18261911  0.17731981]]\n",
      "5 40\n"
     ]
    },
    {
     "data": {
      "image/png": "[encoded data removed]",
      "text/plain": [
       "<Figure size 432x288 with 1 Axes>"
      ]
     },
     "metadata": {
      "needs_background": "light"
     },
     "output_type": "display_data"
    }
   ],
   "source": [
    "import matplotlib.pyplot as plt\n",
    "import numpy as np\n",
    "weights = hidden_layer_weights.detach().numpy()\n",
    "\n",
    "shapes = weights.shape\n",
    "weights = np.reshape(weights,(shapes[0],shapes[1]*shapes[2]))\n",
    "#print(weights)\n",
    "# Get the number of time steps and dimensions\n",
    "num_time_steps, num_dimensions = weights.shape\n",
    "print(num_time_steps,num_dimensions)\n",
    "# Create a figure and axis\n",
    "fig, ax = plt.subplots()\n",
    "\n",
    "# Plot the lines for each dimension\n",
    "for i in range(num_dimensions):\n",
    "    ax.plot(range(num_time_steps), weights[:, i], label=f\"Dimension {i+1}\")\n",
    "\n",
    "# Set the labels and title\n",
    "ax.set_xlabel('Time Step')\n",
    "ax.set_ylabel('Weight Value')\n",
    "ax.set_title('Hidden Layer Weights over Time')\n",
    "\n",
    "# Add a legend how bout not\n",
    "#ax.legend()\n",
    "\n",
    "# Show the plot\n",
    "plt.show()\n",
    "\n",
    "##these look correct, just, it isn't stochastic.  its doing the full batch of all data at every iteration, its probably exactly right after like, 5 -10 samples.  \n"
   ]
  },
  {
   "cell_type": "code",
   "execution_count": null,
   "id": "d53be6d7",
   "metadata": {},
   "outputs": [],
   "source": []
  },
  {
   "cell_type": "code",
   "execution_count": null,
   "id": "46d26605",
   "metadata": {},
   "outputs": [],
   "source": []
  }
 ],
 "metadata": {
  "kernelspec": {
   "display_name": "Python 3 (ipykernel)",
   "language": "python",
   "name": "python3"
  },
  "language_info": {
   "codemirror_mode": {
    "name": "ipython",
    "version": 3
   },
   "file_extension": ".py",
   "mimetype": "text/x-python",
   "name": "python",
   "nbconvert_exporter": "python",
   "pygments_lexer": "ipython3",
   "version": "3.9.12"
  }
 },
 "nbformat": 4,
 "nbformat_minor": 5
}
