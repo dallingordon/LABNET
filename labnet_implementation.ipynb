{
 "cells": [
  {
   "cell_type": "code",
   "execution_count": 9,
   "id": "cf4701eb",
   "metadata": {},
   "outputs": [],
   "source": [
    "from LABNET import Neuron, Net"
   ]
  },
  {
   "cell_type": "code",
   "execution_count": 10,
   "id": "12e88d64",
   "metadata": {},
   "outputs": [],
   "source": [
    "import random"
   ]
  },
  {
   "cell_type": "code",
   "execution_count": 11,
   "id": "bbfe8511",
   "metadata": {},
   "outputs": [],
   "source": [
    "dl_big = [\n",
    "    ['i']\n",
    "    ,['i']\n",
    "    ,['i']\n",
    "    ,['i']\n",
    "    ,['i']\n",
    "    ,['i']\n",
    "    ,['i']\n",
    "    ,['i'] #0-7 for inputs\n",
    "    \n",
    "    ,['fc',[0,1,2]]\n",
    "    ,['fc',[-2,3,-4]]\n",
    "    ,['fc',[3,4,5]]\n",
    "    ,['fc',[3,5,7]]\n",
    "    ,['fc',[0,7]] #8 - 12 for this layer\n",
    "    \n",
    "    ,['fc',[8,10]]\n",
    "    ,['fc',[9,-11]]\n",
    "    ,['fc',[12]]\n",
    "    ,['fc',[-8,-9]] #13 - 16\n",
    "    \n",
    "    \n",
    "    \n",
    "    ,['o',[-13,14]]\n",
    "    ,['o',[-14,15,-16]]\n",
    "    ,['o',[-15,-16]]\n",
    "    ,['o',[-13,16]]\n",
    "    \n",
    "]"
   ]
  },
  {
   "cell_type": "code",
   "execution_count": 12,
   "id": "6d9564a8",
   "metadata": {},
   "outputs": [
    {
     "name": "stdout",
     "output_type": "stream",
     "text": [
      "self.inputs and self.outputs are now tensors of shape torch.Size([256, 8]) and torch.Size([256, 4]) respectively!\n"
     ]
    }
   ],
   "source": [
    "nn_big = Net(dl_big)\n",
    "nn_big.generate_inputs()\n",
    "nn_big.generate_outputs()\n",
    "nn_big.tensorize()"
   ]
  },
  {
   "cell_type": "code",
   "execution_count": 13,
   "id": "82161f21",
   "metadata": {},
   "outputs": [
    {
     "data": {
      "text/plain": [
       "tensor([[False,  True, False, False],\n",
       "        [False, False,  True, False],\n",
       "        [False,  True, False, False],\n",
       "        ...,\n",
       "        [False, False, False,  True],\n",
       "        [False, False, False,  True],\n",
       "        [False, False, False,  True]])"
      ]
     },
     "execution_count": 13,
     "metadata": {},
     "output_type": "execute_result"
    }
   ],
   "source": [
    "nn_big.outputs"
   ]
  },
  {
   "cell_type": "code",
   "execution_count": 14,
   "id": "636b3345",
   "metadata": {},
   "outputs": [
    {
     "data": {
      "text/plain": [
       "[tensor(0.0938), tensor(0.0781), tensor(0.1562), tensor(0.7500)]"
      ]
     },
     "execution_count": 14,
     "metadata": {},
     "output_type": "execute_result"
    }
   ],
   "source": [
    "nn_big.percent_true()"
   ]
  },
  {
   "cell_type": "code",
   "execution_count": 15,
   "id": "bfb5c733",
   "metadata": {},
   "outputs": [
    {
     "data": {
      "text/plain": [
       "8"
      ]
     },
     "execution_count": 15,
     "metadata": {},
     "output_type": "execute_result"
    }
   ],
   "source": [
    "nn_big.input_size"
   ]
  },
  {
   "cell_type": "code",
   "execution_count": 16,
   "id": "02d76df9",
   "metadata": {},
   "outputs": [],
   "source": [
    "import torch\n",
    "import torch.nn as nn\n",
    "import torch.optim as optim"
   ]
  },
  {
   "cell_type": "code",
   "execution_count": 17,
   "id": "a2b2ec77",
   "metadata": {},
   "outputs": [],
   "source": [
    "# Define the model\n",
    "class MyModel(nn.Module):\n",
    "    def __init__(self):\n",
    "        super(MyModel, self).__init__()\n",
    "        self.hidden_1 = nn.Linear(nn_big.input_size, 5) ##make these all variables duh\n",
    "        self.hidden_2 = nn.Linear(5,4)\n",
    "        self.output = nn.Linear(4, nn_big.output_size)\n",
    "        self.relu = nn.ReLU()\n",
    "\n",
    "    def forward(self, x):\n",
    "        x = self.relu(self.hidden_1(x))\n",
    "        x = self.relu(self.hidden_2(x))\n",
    "        x = self.output(x)\n",
    "        return x"
   ]
  },
  {
   "cell_type": "code",
   "execution_count": 18,
   "id": "8807a787",
   "metadata": {},
   "outputs": [],
   "source": [
    "model = MyModel()"
   ]
  },
  {
   "cell_type": "code",
   "execution_count": 19,
   "id": "1ba85702",
   "metadata": {},
   "outputs": [],
   "source": [
    "criterion = nn.MSELoss()\n",
    "optimizer = optim.SGD(model.parameters(), lr=0.1)"
   ]
  },
  {
   "cell_type": "code",
   "execution_count": 20,
   "id": "975f3acb",
   "metadata": {},
   "outputs": [],
   "source": [
    "input_data = nn_big.inputs.float()\n",
    "output_data = nn_big.outputs.float()"
   ]
  },
  {
   "cell_type": "code",
   "execution_count": 21,
   "id": "733d8790",
   "metadata": {},
   "outputs": [
    {
     "data": {
      "text/plain": [
       "torch.float32"
      ]
     },
     "execution_count": 21,
     "metadata": {},
     "output_type": "execute_result"
    }
   ],
   "source": [
    "input_data.dtype"
   ]
  },
  {
   "cell_type": "code",
   "execution_count": 45,
   "id": "19fcd259",
   "metadata": {},
   "outputs": [],
   "source": [
    "# Training loop\n",
    "samples = input_data.shape[0]\n",
    "num_epochs = 20\n",
    "hidden_layer_weights = torch.zeros(num_epochs* samples, 5, 8) #this should be num epochs by hidden size.  \n",
    "lab = Lab(model,num_epochs,samples)\n",
    "data = list(zip(input_data, output_data))\n",
    "\n",
    "for epoch in range(num_epochs):\n",
    "    \n",
    "    sample = 0\n",
    "    \n",
    "    random.shuffle(data)\n",
    "    shuffled_inputs, shuffled_outputs = zip(*data)\n",
    "    \n",
    "    for inputs, targets in zip(shuffled_inputs, shuffled_outputs):\n",
    "        inputs = inputs.unsqueeze(0)  \n",
    "        targets = targets.unsqueeze(0)\n",
    "    \n",
    "        output = model(inputs)\n",
    "    \n",
    "        loss = criterion(output, targets)\n",
    "\n",
    "    \n",
    "        # Backward pass and optimization\n",
    "        optimizer.zero_grad()\n",
    "        loss.backward()\n",
    "        optimizer.step()\n",
    "\n",
    "        #print or store loss if you wanna\n",
    "        #loss.item()\n",
    "\n",
    "        #print(model.hidden_1.weight.shape) ##i also have biases here.  are those interesting??\n",
    "        hidden_layer_weights[epoch * samples + sample] = model.hidden_1.weight\n",
    "        lab.record(model,epoch,samples,sample)\n",
    "        sample += 1\n",
    "        #print(model.hidden_2.weight)\n",
    "        #print(model.output.weight)\n",
    "\n",
    "# After training, you can use the model to make predictions\n",
    "#test_input = torch.randn(1, 8)  # Single test input with 8 values\n",
    "#predicted_output = model(test_input)\n",
    "#print(\"Predicted output:\", predicted_output)"
   ]
  },
  {
   "cell_type": "code",
   "execution_count": 44,
   "id": "2e2c8d38",
   "metadata": {},
   "outputs": [],
   "source": [
    "##this will be a labnet function.  takes model, \n",
    "class Lab:\n",
    "    def __init__(self, model,num_epochs,samples):\n",
    "        \"\"\"\n",
    "        used in the training loop to record all the weights.  this will do differencing and visualizations\n",
    "        \"\"\"\n",
    "        self.LabParams = [] #holds pretty much everything\n",
    "\n",
    "        weight_layers = sum(1 for i in model.named_parameters())\n",
    "        self.LabParams = [0]*weight_layers # a list containing the weight tensors\n",
    "        ep_list = [num_epochs* samples]\n",
    "\n",
    "        for idx,t in enumerate(model.named_parameters()):\n",
    "            name = t[0]\n",
    "            layer_shape = ep_list + list(t[1].shape) #the shape the lab param should have for each weight matrix\n",
    "            self.LabParams[idx] = (name,torch.zeros(layer_shape))\n",
    "\n",
    "    def record(self, model,epoch,data_samples,sample):\n",
    "        #this has to know which weight layer it is.  i think its always the same order?\n",
    "        idx = 0\n",
    "        for i in model.named_parameters():\n",
    "            assert i[0] == self.LabParams[idx][0] \n",
    "            self.LabParams[idx][1][epoch * data_samples + sample] = i[1]\n",
    "            idx +=1\n",
    "\n",
    "\n"
   ]
  },
  {
   "cell_type": "code",
   "execution_count": 54,
   "id": "464b978d",
   "metadata": {},
   "outputs": [
    {
     "data": {
      "text/plain": [
       "torch.Size([5120, 5])"
      ]
     },
     "execution_count": 54,
     "metadata": {},
     "output_type": "execute_result"
    }
   ],
   "source": [
    "lab.LabParams[1][1].shape"
   ]
  },
  {
   "cell_type": "code",
   "execution_count": 27,
   "id": "9e1ef7a3",
   "metadata": {},
   "outputs": [],
   "source": [
    "a = Lab(model,num_epochs,samples)\n"
   ]
  },
  {
   "cell_type": "code",
   "execution_count": 42,
   "id": "17104db3",
   "metadata": {},
   "outputs": [
    {
     "data": {
      "text/plain": [
       "'hidden_1.weight'"
      ]
     },
     "execution_count": 42,
     "metadata": {},
     "output_type": "execute_result"
    }
   ],
   "source": [
    "a.LabParams[0][0]"
   ]
  },
  {
   "cell_type": "code",
   "execution_count": 28,
   "id": "96e73687",
   "metadata": {},
   "outputs": [
    {
     "name": "stdout",
     "output_type": "stream",
     "text": [
      "hidden_1.weight torch.Size([5120, 5, 8])\n",
      "hidden_1.bias torch.Size([5120, 5])\n",
      "hidden_2.weight torch.Size([5120, 4, 5])\n",
      "hidden_2.bias torch.Size([5120, 4])\n",
      "output.weight torch.Size([5120, 4, 4])\n",
      "output.bias torch.Size([5120, 4])\n"
     ]
    }
   ],
   "source": [
    "\n",
    "for i in a.LabParams:\n",
    "    print(i[0],i[1].shape)"
   ]
  },
  {
   "cell_type": "code",
   "execution_count": 43,
   "id": "3679053c",
   "metadata": {},
   "outputs": [
    {
     "name": "stdout",
     "output_type": "stream",
     "text": [
      "Parameter containing:\n",
      "tensor([[ 0.3011,  0.3763, -0.4656,  0.8637, -0.9688,  0.0130,  0.1412, -0.2081],\n",
      "        [-0.0746, -0.3115,  0.1273,  0.3309, -0.1148,  0.1294, -0.2474,  0.1398],\n",
      "        [-0.1924, -0.2326, -0.2008,  0.1553, -0.1245, -0.2670, -0.2226, -0.0411],\n",
      "        [-0.5569, -0.3407, -0.9031,  0.7093, -0.5765, -0.0441,  0.0348, -0.1122],\n",
      "        [ 0.3037,  0.2283, -0.3568,  0.7492, -0.7857, -0.0841, -0.1741, -0.1545]],\n",
      "       requires_grad=True)\n",
      "Parameter containing:\n",
      "tensor([-0.2383, -0.3328,  0.2519,  0.3892, -0.0321], requires_grad=True)\n",
      "Parameter containing:\n",
      "tensor([[ 0.0229,  0.0940,  0.3006, -0.2472,  0.2048],\n",
      "        [-0.3168, -0.2556,  0.3963, -0.2540,  0.2694],\n",
      "        [-0.1307, -0.1965, -0.4322,  0.1143, -0.1946],\n",
      "        [ 0.6975, -0.2423,  0.0753,  1.0646,  0.5398]], requires_grad=True)\n",
      "Parameter containing:\n",
      "tensor([-0.2669, -0.3943, -0.0415, -0.5286], requires_grad=True)\n",
      "Parameter containing:\n",
      "tensor([[-0.3329,  0.2101, -0.2418,  0.7488],\n",
      "        [-0.3377, -0.0150, -0.1680,  0.0346],\n",
      "        [ 0.0097, -0.4838,  0.0982,  0.6566],\n",
      "        [-0.4891, -0.2363, -0.2280, -0.8119]], requires_grad=True)\n",
      "Parameter containing:\n",
      "tensor([0.0173, 0.0943, 0.0623, 0.8082], requires_grad=True)\n"
     ]
    }
   ],
   "source": [
    "for i in model.named_parameters():\n",
    "    print(i[1])"
   ]
  },
  {
   "cell_type": "code",
   "execution_count": 15,
   "id": "0a94cd8f",
   "metadata": {},
   "outputs": [
    {
     "data": {
      "text/plain": [
       "torch.Size([5120, 5, 8])"
      ]
     },
     "execution_count": 15,
     "metadata": {},
     "output_type": "execute_result"
    }
   ],
   "source": [
    "hidden_layer_weights.shape"
   ]
  },
  {
   "cell_type": "code",
   "execution_count": 58,
   "id": "019a21e0",
   "metadata": {},
   "outputs": [
    {
     "name": "stdout",
     "output_type": "stream",
     "text": [
      "(5120, 4, 5)\n",
      "5120 20\n"
     ]
    },
    {
     "data": {
      "image/png": "[encoded data removed]",
      "text/plain": [
       "<Figure size 432x288 with 1 Axes>"
      ]
     },
     "metadata": {
      "needs_background": "light"
     },
     "output_type": "display_data"
    }
   ],
   "source": [
    "import matplotlib.pyplot as plt\n",
    "import numpy as np\n",
    "weights = lab.LabParams[2][1].detach().numpy()\n",
    "\n",
    "shapes = weights.shape\n",
    "print(shapes)\n",
    "weights = np.reshape(weights,(shapes[0],shapes[1]*shapes[2]))\n",
    "#print(weights)\n",
    "# Get the number of time steps and dimensions\n",
    "num_time_steps, num_dimensions = weights.shape\n",
    "print(num_time_steps,num_dimensions)\n",
    "# Create a figure and axis\n",
    "fig, ax = plt.subplots()\n",
    "\n",
    "# Plot the lines for each dimension\n",
    "for i in range(num_dimensions):\n",
    "    ax.plot(range(num_time_steps), weights[:, i], label=f\"Dimension {i+1}\")\n",
    "\n",
    "# Set the labels and title\n",
    "ax.set_xlabel('Time Step')\n",
    "ax.set_ylabel('Weight Value')\n",
    "ax.set_title('Hidden Layer Weights over Time')\n",
    "\n",
    "# Add a legend how bout not\n",
    "#ax.legend()\n",
    "\n",
    "# Show the plot\n",
    "plt.show()\n",
    "\n",
    "##these look correct, just, it isn't stochastic.  its doing the full batch of all data at every iteration, its probably exactly right after like, 5 -10 samples.  \n"
   ]
  },
  {
   "cell_type": "code",
   "execution_count": 17,
   "id": "46d26605",
   "metadata": {},
   "outputs": [],
   "source": [
    "\n",
    "def plot_histogram(tensor, b):\n",
    "    # Convert tensor to NumPy array\n",
    "    tensor_np = tensor.numpy()\n",
    "\n",
    "    # Calculate histogram using NumPy\n",
    "    hist, bins = np.histogram(tensor_np, bins=b)\n",
    "\n",
    "    # Plot histogram\n",
    "    plt.bar(bins[:-1], hist, width=(bins[1]-bins[0]), align='edge')\n",
    "\n",
    "    # Add labels and title\n",
    "    plt.xlabel('Bins')\n",
    "    plt.ylabel('Frequency')\n",
    "    plt.title('Histogram')\n",
    "\n",
    "    # Show the plot\n",
    "    plt.show()"
   ]
  },
  {
   "cell_type": "code",
   "execution_count": 18,
   "id": "d53be6d7",
   "metadata": {},
   "outputs": [],
   "source": [
    "differences = (hidden_layer_weights[-1] - hidden_layer_weights[0]).flatten().detach()"
   ]
  },
  {
   "cell_type": "code",
   "execution_count": 19,
   "id": "caeb5da1",
   "metadata": {},
   "outputs": [
    {
     "data": {
      "image/png": "[encoded data removed]",
      "text/plain": [
       "<Figure size 432x288 with 1 Axes>"
      ]
     },
     "metadata": {
      "needs_background": "light"
     },
     "output_type": "display_data"
    }
   ],
   "source": [
    "plot_histogram(differences, b=10)"
   ]
  },
  {
   "cell_type": "code",
   "execution_count": 20,
   "id": "46146be4",
   "metadata": {},
   "outputs": [
    {
     "data": {
      "image/png": "[encoded data removed]",
      "text/plain": [
       "<Figure size 432x288 with 1 Axes>"
      ]
     },
     "metadata": {
      "needs_background": "light"
     },
     "output_type": "display_data"
    }
   ],
   "source": [
    "plot_histogram(hidden_layer_weights[-1].detach(), b=10)"
   ]
  },
  {
   "cell_type": "code",
   "execution_count": null,
   "id": "93829cb7",
   "metadata": {},
   "outputs": [],
   "source": []
  }
 ],
 "metadata": {
  "kernelspec": {
   "display_name": "Python 3 (ipykernel)",
   "language": "python",
   "name": "python3"
  },
  "language_info": {
   "codemirror_mode": {
    "name": "ipython",
    "version": 3
   },
   "file_extension": ".py",
   "mimetype": "text/x-python",
   "name": "python",
   "nbconvert_exporter": "python",
   "pygments_lexer": "ipython3",
   "version": "3.9.12"
  }
 },
 "nbformat": 4,
 "nbformat_minor": 5
}
