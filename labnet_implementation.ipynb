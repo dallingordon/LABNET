{
 "cells": [
  {
   "cell_type": "code",
   "execution_count": 1,
   "id": "cf4701eb",
   "metadata": {},
   "outputs": [],
   "source": [
    "from LABNET import Neuron, Net, Lab"
   ]
  },
  {
   "cell_type": "code",
   "execution_count": 2,
   "id": "12e88d64",
   "metadata": {},
   "outputs": [],
   "source": [
    "import random\n",
    "import numpy as np\n",
    "import matplotlib.pyplot as plt\n"
   ]
  },
  {
   "cell_type": "code",
   "execution_count": 3,
   "id": "bbfe8511",
   "metadata": {},
   "outputs": [],
   "source": [
    "dl_big = [\n",
    "    ['i']\n",
    "    ,['i']\n",
    "    ,['i']\n",
    "    ,['i']\n",
    "    ,['i']\n",
    "    ,['i']\n",
    "    ,['i']\n",
    "    ,['i'] #0-7 for inputs\n",
    "    \n",
    "    ,['fc',[0,1,2]]\n",
    "    ,['fc',[-2,3,-4]]\n",
    "    ,['fc',[3,4,5]]\n",
    "    ,['fc',[3,5,7]]\n",
    "    ,['fc',[0,7]] #8 - 12 for this layer\n",
    "    \n",
    "    ,['fc',[8,10]]\n",
    "    ,['fc',[9,-11]]\n",
    "    ,['fc',[12]]\n",
    "    ,['fc',[-8,-9]] #13 - 16\n",
    "    \n",
    "    \n",
    "    \n",
    "    ,['o',[-13,14]]\n",
    "    ,['o',[-14,15,-16]]\n",
    "    ,['o',[-15,-16]]\n",
    "    ,['o',[-13,16]]\n",
    "    \n",
    "]"
   ]
  },
  {
   "cell_type": "code",
   "execution_count": 4,
   "id": "6d9564a8",
   "metadata": {},
   "outputs": [
    {
     "name": "stdout",
     "output_type": "stream",
     "text": [
      "self.inputs and self.outputs are now tensors of shape torch.Size([256, 8]) and torch.Size([256, 4]) respectively!\n"
     ]
    }
   ],
   "source": [
    "nn_big = Net(dl_big)\n",
    "nn_big.generate_inputs()\n",
    "nn_big.generate_outputs()\n",
    "nn_big.tensorize()"
   ]
  },
  {
   "cell_type": "code",
   "execution_count": 5,
   "id": "82161f21",
   "metadata": {},
   "outputs": [
    {
     "data": {
      "text/plain": [
       "tensor([[False,  True, False, False],\n",
       "        [False, False,  True, False],\n",
       "        [False,  True, False, False],\n",
       "        ...,\n",
       "        [False, False, False,  True],\n",
       "        [False, False, False,  True],\n",
       "        [False, False, False,  True]])"
      ]
     },
     "execution_count": 5,
     "metadata": {},
     "output_type": "execute_result"
    }
   ],
   "source": [
    "nn_big.outputs"
   ]
  },
  {
   "cell_type": "code",
   "execution_count": null,
   "id": "636b3345",
   "metadata": {},
   "outputs": [],
   "source": [
    "nn_big.percent_true()"
   ]
  },
  {
   "cell_type": "code",
   "execution_count": null,
   "id": "bfb5c733",
   "metadata": {},
   "outputs": [],
   "source": [
    "nn_big.input_size"
   ]
  },
  {
   "cell_type": "code",
   "execution_count": 19,
   "id": "4a4956eb",
   "metadata": {},
   "outputs": [],
   "source": [
    "def create_neural_network(layer_sizes):\n",
    "    # Extract the number of inputs and outputs from the layer_sizes list\n",
    "    num_inputs = layer_sizes[0]\n",
    "    num_outputs = layer_sizes[-1]\n",
    "    \n",
    "    # Create a sequential model\n",
    "    model = nn.Sequential()\n",
    "    \n",
    "    # Add input layer\n",
    "    model.add_module(\"input_layer\", nn.Linear(num_inputs, layer_sizes[1]))\n",
    "    model.add_module(\"input_layer_activation\", nn.ReLU())\n",
    "    \n",
    "    # Add hidden layers\n",
    "    for i in range(2, len(layer_sizes)-1):\n",
    "        model.add_module(f\"hidden_layer_{i}\", nn.Linear(layer_sizes[i-1], layer_sizes[i]))\n",
    "        model.add_module(f\"hidden_layer_{i}_activation\", nn.ReLU())\n",
    "    \n",
    "    # Add output layer\n",
    "    model.add_module(\"output_layer\", nn.Linear(layer_sizes[-2], num_outputs))\n",
    "    #model.add_module(\"output_layer_activation\", nn.ReLU())\n",
    "    #model = model.to(dtype=torch.float)\n",
    "    return model\n",
    "\n",
    "def initialize_weights_uniform(neural_network, low=-10, high=10):\n",
    "    for module in neural_network.modules():\n",
    "        if isinstance(module, nn.Linear):\n",
    "            init.uniform_(module.weight, low, high)\n",
    "            if module.bias is not None:\n",
    "                init.uniform_(module.bias, low, high)\n",
    "\n",
    "import torch\n",
    "from torch.distributions import uniform, normal\n",
    "\n",
    "def generate_random_data(nn,n, dist_type = 'normal', low =0, high=1):\n",
    "    \n",
    "    input_size = nn.input_layer.in_features ##this only works with create_neural_network func above\n",
    "    low = torch.tensor(low,dtype=torch.float32).expand(input_size)\n",
    "    high = torch.tensor(high,dtype=torch.float32).expand(input_size)\n",
    "    \n",
    "    \n",
    "    if dist_type == 'uniform':\n",
    "        dist = uniform.Uniform(low, high)\n",
    "    elif dist_type == 'normal':\n",
    "        dist = normal.Normal(low, high) \n",
    "    \n",
    "    samples = dist.sample((n,))\n",
    "    \n",
    "    outputs = nn(samples)\n",
    "    \n",
    "    return samples,outputs"
   ]
  },
  {
   "cell_type": "code",
   "execution_count": 20,
   "id": "02d76df9",
   "metadata": {},
   "outputs": [],
   "source": [
    "import torch\n",
    "import torch.nn as nn\n",
    "import torch.optim as optim"
   ]
  },
  {
   "cell_type": "code",
   "execution_count": 53,
   "id": "a871fcd3",
   "metadata": {},
   "outputs": [
    {
     "data": {
      "text/plain": [
       "(torch.Size([1000, 7]), torch.Size([1000, 10]))"
      ]
     },
     "execution_count": 53,
     "metadata": {},
     "output_type": "execute_result"
    }
   ],
   "source": [
    "import torch.nn.init as init\n",
    "\n",
    "n = 1000 #number of samples to generate\n",
    "layer_sizes = [7, 20, 20, 10]  # Inputs: 4, Hidden layers: [8, 8], Outputs: 3\n",
    "neural_network = create_neural_network(layer_sizes)\n",
    "initialize_weights_uniform(neural_network,0,1)\n",
    "\n",
    "inputs, outputs = generate_random_data(neural_network,n,'uniform',-10,10)\n",
    "\n",
    "inputs.shape,outputs.shape"
   ]
  },
  {
   "cell_type": "code",
   "execution_count": 54,
   "id": "ec67ee9f",
   "metadata": {},
   "outputs": [
    {
     "data": {
      "text/plain": [
       "(tensor([[-6.7347,  5.2124, -2.1061,  ..., -9.0121,  1.4282, -0.0900],\n",
       "         [ 5.1785,  2.6858, -9.2745,  ..., -2.3733, -7.0407, -0.0921],\n",
       "         [ 7.7462,  0.4597,  2.2673,  ...,  6.0695, -7.5233, -0.5756],\n",
       "         ...,\n",
       "         [-5.1099,  6.2657, -4.3260,  ...,  5.2882,  8.8169,  7.2690],\n",
       "         [ 0.2673,  4.2207,  4.3431,  ...,  6.7522, -9.2167,  3.4641],\n",
       "         [ 3.9436,  6.5536,  9.6787,  ..., -5.9416, -5.9540,  6.1499]]),\n",
       " tensor([[   6.8223,    7.0249,    7.3090,  ...,    5.6740,    5.6279,\n",
       "             5.7510],\n",
       "         [   6.8223,    7.0249,    7.3090,  ...,    5.6740,    5.6279,\n",
       "             5.7510],\n",
       "         [ 448.3922,  533.2187,  480.3141,  ...,  439.9229,  481.6610,\n",
       "           429.1965],\n",
       "         ...,\n",
       "         [1273.2421, 1467.2266, 1342.4529,  ..., 1254.9010, 1276.4611,\n",
       "          1197.1962],\n",
       "         [ 810.2016,  944.5040,  861.1984,  ...,  794.2094,  832.5211,\n",
       "           765.5400],\n",
       "         [1065.9453, 1261.5269, 1143.8605,  ..., 1056.7197, 1111.5150,\n",
       "          1011.2875]], grad_fn=<AddmmBackward0>))"
      ]
     },
     "execution_count": 54,
     "metadata": {},
     "output_type": "execute_result"
    }
   ],
   "source": [
    "inputs,outputs"
   ]
  },
  {
   "cell_type": "code",
   "execution_count": 55,
   "id": "a2b2ec77",
   "metadata": {},
   "outputs": [],
   "source": [
    "# Define the model\n",
    "class MyModel(nn.Module):\n",
    "    def __init__(self):\n",
    "        super(MyModel, self).__init__()\n",
    "        self.hidden_1 = nn.Linear(7, 7) ##make these all variables duh\n",
    "        self.hidden_2 = nn.Linear(7,7)\n",
    "        self.output = nn.Linear(7, 10)\n",
    "        self.relu = nn.ReLU()\n",
    "\n",
    "    def forward(self, x):\n",
    "        x = self.relu(self.hidden_1(x))\n",
    "        x = self.relu(self.hidden_2(x))\n",
    "        x = self.output(x)\n",
    "        return x"
   ]
  },
  {
   "cell_type": "code",
   "execution_count": 71,
   "id": "8807a787",
   "metadata": {},
   "outputs": [],
   "source": [
    "model = MyModel()\n"
   ]
  },
  {
   "cell_type": "code",
   "execution_count": 64,
   "id": "1ba85702",
   "metadata": {},
   "outputs": [],
   "source": [
    "criterion = nn.MSELoss()\n",
    "optimizer = optim.SGD(model.parameters(), lr=0.01)"
   ]
  },
  {
   "cell_type": "code",
   "execution_count": 65,
   "id": "975f3acb",
   "metadata": {},
   "outputs": [],
   "source": [
    "input_data = inputs\n",
    "output_data = outputs"
   ]
  },
  {
   "cell_type": "code",
   "execution_count": 66,
   "id": "20f5938a",
   "metadata": {},
   "outputs": [
    {
     "data": {
      "text/plain": [
       "tensor([[ 4.9361e+00, -9.1739e+00,  5.8011e+00, -5.4264e-03, -2.6733e+00,\n",
       "          4.4707e+00,  8.4909e+00]])"
      ]
     },
     "execution_count": 66,
     "metadata": {},
     "output_type": "execute_result"
    }
   ],
   "source": [
    "input_data"
   ]
  },
  {
   "cell_type": "code",
   "execution_count": 69,
   "id": "19fcd259",
   "metadata": {},
   "outputs": [],
   "source": [
    "# Training loop\n",
    "samples = n\n",
    "\n",
    "num_epochs = 10\n",
    "\n",
    "lab = Lab(model,num_epochs,samples)\n",
    "data = list(zip(input_data, output_data))\n",
    "\n",
    "for epoch in range(num_epochs):\n",
    "    \n",
    "    sample = 0\n",
    "    \n",
    "    random.shuffle(data)\n",
    "    shuffled_inputs, shuffled_outputs = zip(*data)\n",
    "    \n",
    "    for inputs, targets in zip(shuffled_inputs, shuffled_outputs):\n",
    "        inputs = inputs.unsqueeze(0)  \n",
    "        targets = targets.unsqueeze(0)\n",
    "    \n",
    "        output = model(inputs)\n",
    "    \n",
    "        loss = criterion(output, targets)\n",
    "\n",
    "    \n",
    "        # Backward pass and optimization\n",
    "        optimizer.zero_grad()\n",
    "        loss.backward(retain_graph=True)\n",
    "        \n",
    "        optimizer.step()\n",
    "        lab.record(model,epoch,samples,sample)\n",
    "        #print or store loss if you wanna\n",
    "        #loss.item()\n",
    "\n",
    "        \n",
    "        sample += 1\n",
    " \n"
   ]
  },
  {
   "cell_type": "code",
   "execution_count": 70,
   "id": "a6906e2c",
   "metadata": {},
   "outputs": [
    {
     "data": {
      "text/plain": [
       "tensor([[[-27.1816,  52.2659, -32.3684,  ...,  16.0235, -24.7652, -47.6180],\n",
       "         [-24.4977,  46.9352, -28.3834,  ...,  14.3505, -21.5028, -41.9923],\n",
       "         [-13.3302,  26.1592, -15.2522,  ...,   7.9225, -11.7011, -23.6564],\n",
       "         ...,\n",
       "         [-24.7558,  47.5744, -29.9963,  ...,  14.3839, -22.7181, -43.5864],\n",
       "         [-23.8836,  45.8909, -27.7176,  ...,  14.0695, -21.7098, -41.0639],\n",
       "         [-26.0273,  50.1643, -30.7436,  ...,  15.3332, -24.0575, -45.2219]],\n",
       "\n",
       "        [[  0.0000,   0.0000,   0.0000,  ...,   0.0000,   0.0000,   0.0000],\n",
       "         [  0.0000,   0.0000,   0.0000,  ...,   0.0000,   0.0000,   0.0000],\n",
       "         [  0.0000,   0.0000,   0.0000,  ...,   0.0000,   0.0000,   0.0000],\n",
       "         ...,\n",
       "         [  0.0000,   0.0000,   0.0000,  ...,   0.0000,   0.0000,   0.0000],\n",
       "         [  0.0000,   0.0000,   0.0000,  ...,   0.0000,   0.0000,   0.0000],\n",
       "         [  0.0000,   0.0000,   0.0000,  ...,   0.0000,   0.0000,   0.0000]],\n",
       "\n",
       "        [[  0.0000,   0.0000,   0.0000,  ...,   0.0000,   0.0000,   0.0000],\n",
       "         [  0.0000,   0.0000,   0.0000,  ...,   0.0000,   0.0000,   0.0000],\n",
       "         [  0.0000,   0.0000,   0.0000,  ...,   0.0000,   0.0000,   0.0000],\n",
       "         ...,\n",
       "         [  0.0000,   0.0000,   0.0000,  ...,   0.0000,   0.0000,   0.0000],\n",
       "         [  0.0000,   0.0000,   0.0000,  ...,   0.0000,   0.0000,   0.0000],\n",
       "         [  0.0000,   0.0000,   0.0000,  ...,   0.0000,   0.0000,   0.0000]],\n",
       "\n",
       "        ...,\n",
       "\n",
       "        [[  0.0000,   0.0000,   0.0000,  ...,   0.0000,   0.0000,   0.0000],\n",
       "         [  0.0000,   0.0000,   0.0000,  ...,   0.0000,   0.0000,   0.0000],\n",
       "         [  0.0000,   0.0000,   0.0000,  ...,   0.0000,   0.0000,   0.0000],\n",
       "         ...,\n",
       "         [  0.0000,   0.0000,   0.0000,  ...,   0.0000,   0.0000,   0.0000],\n",
       "         [  0.0000,   0.0000,   0.0000,  ...,   0.0000,   0.0000,   0.0000],\n",
       "         [  0.0000,   0.0000,   0.0000,  ...,   0.0000,   0.0000,   0.0000]],\n",
       "\n",
       "        [[  0.0000,   0.0000,   0.0000,  ...,   0.0000,   0.0000,   0.0000],\n",
       "         [  0.0000,   0.0000,   0.0000,  ...,   0.0000,   0.0000,   0.0000],\n",
       "         [  0.0000,   0.0000,   0.0000,  ...,   0.0000,   0.0000,   0.0000],\n",
       "         ...,\n",
       "         [  0.0000,   0.0000,   0.0000,  ...,   0.0000,   0.0000,   0.0000],\n",
       "         [  0.0000,   0.0000,   0.0000,  ...,   0.0000,   0.0000,   0.0000],\n",
       "         [  0.0000,   0.0000,   0.0000,  ...,   0.0000,   0.0000,   0.0000]],\n",
       "\n",
       "        [[  0.0000,   0.0000,   0.0000,  ...,   0.0000,   0.0000,   0.0000],\n",
       "         [  0.0000,   0.0000,   0.0000,  ...,   0.0000,   0.0000,   0.0000],\n",
       "         [  0.0000,   0.0000,   0.0000,  ...,   0.0000,   0.0000,   0.0000],\n",
       "         ...,\n",
       "         [  0.0000,   0.0000,   0.0000,  ...,   0.0000,   0.0000,   0.0000],\n",
       "         [  0.0000,   0.0000,   0.0000,  ...,   0.0000,   0.0000,   0.0000],\n",
       "         [  0.0000,   0.0000,   0.0000,  ...,   0.0000,   0.0000,   0.0000]]],\n",
       "       grad_fn=<CopySlices>)"
      ]
     },
     "execution_count": 70,
     "metadata": {},
     "output_type": "execute_result"
    }
   ],
   "source": [
    "lab.LabParams['hidden_1.weight']"
   ]
  },
  {
   "cell_type": "code",
   "execution_count": 74,
   "id": "5f3c017f",
   "metadata": {},
   "outputs": [
    {
     "data": {
      "image/png": "[encoded data removed]",
      "text/plain": [
       "<Figure size 432x288 with 1 Axes>"
      ]
     },
     "metadata": {
      "needs_background": "light"
     },
     "output_type": "display_data"
    },
    {
     "data": {
      "image/png": "[encoded data removed]",
      "text/plain": [
       "<Figure size 432x288 with 1 Axes>"
      ]
     },
     "metadata": {
      "needs_background": "light"
     },
     "output_type": "display_data"
    },
    {
     "data": {
      "image/png": "[encoded data removed]",
      "text/plain": [
       "<Figure size 432x288 with 1 Axes>"
      ]
     },
     "metadata": {
      "needs_background": "light"
     },
     "output_type": "display_data"
    },
    {
     "data": {
      "image/png": "[encoded data removed]",
      "text/plain": [
       "<Figure size 432x288 with 1 Axes>"
      ]
     },
     "metadata": {
      "needs_background": "light"
     },
     "output_type": "display_data"
    },
    {
     "data": {
      "image/png": "[encoded data removed]",
      "text/plain": [
       "<Figure size 432x288 with 1 Axes>"
      ]
     },
     "metadata": {
      "needs_background": "light"
     },
     "output_type": "display_data"
    },
    {
     "data": {
      "image/png": "[encoded data removed]",
      "text/plain": [
       "<Figure size 432x288 with 1 Axes>"
      ]
     },
     "metadata": {
      "needs_background": "light"
     },
     "output_type": "display_data"
    }
   ],
   "source": [
    "lab.graph(diff=0)"
   ]
  },
  {
   "cell_type": "code",
   "execution_count": null,
   "id": "ac518f97",
   "metadata": {},
   "outputs": [],
   "source": []
  }
 ],
 "metadata": {
  "kernelspec": {
   "display_name": "Python 3 (ipykernel)",
   "language": "python",
   "name": "python3"
  },
  "language_info": {
   "codemirror_mode": {
    "name": "ipython",
    "version": 3
   },
   "file_extension": ".py",
   "mimetype": "text/x-python",
   "name": "python",
   "nbconvert_exporter": "python",
   "pygments_lexer": "ipython3",
   "version": "3.9.12"
  }
 },
 "nbformat": 4,
 "nbformat_minor": 5
}
