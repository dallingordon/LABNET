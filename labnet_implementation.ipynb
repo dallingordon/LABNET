{
 "cells": [
  {
   "cell_type": "code",
   "execution_count": 1,
   "id": "cf4701eb",
   "metadata": {},
   "outputs": [],
   "source": [
    "from LABNET import Neuron, Net"
   ]
  },
  {
   "cell_type": "code",
   "execution_count": 2,
   "id": "bbfe8511",
   "metadata": {},
   "outputs": [],
   "source": [
    "dl_big = [\n",
    "    ['i']\n",
    "    ,['i']\n",
    "    ,['i']\n",
    "    ,['i']\n",
    "    ,['i']\n",
    "    ,['i']\n",
    "    ,['i']\n",
    "    ,['i'] #0-7 for inputs\n",
    "    \n",
    "    ,['fc',[0,1,2]]\n",
    "    ,['fc',[-2,3,-4]]\n",
    "    ,['fc',[3,4,5]]\n",
    "    ,['fc',[3,5,7]]\n",
    "    ,['fc',[0,7]] #8 - 12 for this layer\n",
    "    \n",
    "    ,['fc',[8,10]]\n",
    "    ,['fc',[9,-11]]\n",
    "    ,['fc',[12]]\n",
    "    ,['fc',[-8,-9]] #13 - 16\n",
    "    \n",
    "    \n",
    "    \n",
    "    ,['o',[-13,14]]\n",
    "    ,['o',[-14,15,-16]]\n",
    "    ,['o',[-15,-16]]\n",
    "    ,['o',[-13,16]]\n",
    "    \n",
    "]"
   ]
  },
  {
   "cell_type": "code",
   "execution_count": 3,
   "id": "6d9564a8",
   "metadata": {},
   "outputs": [
    {
     "name": "stdout",
     "output_type": "stream",
     "text": [
      "self.inputs and self.outputs are now tensors of shape torch.Size([256, 8]) and torch.Size([256, 4]) respectively!\n"
     ]
    }
   ],
   "source": [
    "nn_big = Net(dl_big)\n",
    "nn_big.generate_inputs()\n",
    "nn_big.generate_outputs()\n",
    "nn_big.tensorize()"
   ]
  },
  {
   "cell_type": "code",
   "execution_count": 4,
   "id": "82161f21",
   "metadata": {},
   "outputs": [
    {
     "data": {
      "text/plain": [
       "tensor([[False,  True, False, False],\n",
       "        [False, False,  True, False],\n",
       "        [False,  True, False, False],\n",
       "        ...,\n",
       "        [False, False, False,  True],\n",
       "        [False, False, False,  True],\n",
       "        [False, False, False,  True]])"
      ]
     },
     "execution_count": 4,
     "metadata": {},
     "output_type": "execute_result"
    }
   ],
   "source": [
    "nn_big.outputs"
   ]
  },
  {
   "cell_type": "code",
   "execution_count": 5,
   "id": "636b3345",
   "metadata": {},
   "outputs": [
    {
     "data": {
      "text/plain": [
       "[tensor(0.0938), tensor(0.0781), tensor(0.1562), tensor(0.7500)]"
      ]
     },
     "execution_count": 5,
     "metadata": {},
     "output_type": "execute_result"
    }
   ],
   "source": [
    "nn_big.percent_true()"
   ]
  },
  {
   "cell_type": "code",
   "execution_count": 6,
   "id": "bfb5c733",
   "metadata": {},
   "outputs": [
    {
     "data": {
      "text/plain": [
       "8"
      ]
     },
     "execution_count": 6,
     "metadata": {},
     "output_type": "execute_result"
    }
   ],
   "source": [
    "nn_big.input_size"
   ]
  },
  {
   "cell_type": "code",
   "execution_count": 7,
   "id": "02d76df9",
   "metadata": {},
   "outputs": [],
   "source": [
    "import torch\n",
    "import torch.nn as nn\n",
    "import torch.optim as optim"
   ]
  },
  {
   "cell_type": "code",
   "execution_count": 8,
   "id": "a2b2ec77",
   "metadata": {},
   "outputs": [],
   "source": [
    "# Define the model\n",
    "class MyModel(nn.Module):\n",
    "    def __init__(self):\n",
    "        super(MyModel, self).__init__()\n",
    "        self.hidden_1 = nn.Linear(nn_big.input_size, 5) ##make these all variables duh\n",
    "        self.hidden_2 = nn.Linear(5,4)\n",
    "        self.output = nn.Linear(4, nn_big.output_size)\n",
    "        self.relu = nn.ReLU()\n",
    "\n",
    "    def forward(self, x):\n",
    "        x = self.relu(self.hidden_1(x))\n",
    "        x = self.relu(self.hidden_2(x))\n",
    "        x = self.output(x)\n",
    "        return x"
   ]
  },
  {
   "cell_type": "code",
   "execution_count": 9,
   "id": "8807a787",
   "metadata": {},
   "outputs": [],
   "source": [
    "model = MyModel()"
   ]
  },
  {
   "cell_type": "code",
   "execution_count": 10,
   "id": "1ba85702",
   "metadata": {},
   "outputs": [],
   "source": [
    "criterion = nn.MSELoss()\n",
    "optimizer = optim.SGD(model.parameters(), lr=0.01)"
   ]
  },
  {
   "cell_type": "code",
   "execution_count": 11,
   "id": "975f3acb",
   "metadata": {},
   "outputs": [],
   "source": [
    "input_data = nn_big.inputs.float()\n",
    "output_data = nn_big.outputs.float()"
   ]
  },
  {
   "cell_type": "code",
   "execution_count": 12,
   "id": "733d8790",
   "metadata": {},
   "outputs": [
    {
     "data": {
      "text/plain": [
       "torch.float32"
      ]
     },
     "execution_count": 12,
     "metadata": {},
     "output_type": "execute_result"
    }
   ],
   "source": [
    "input_data.dtype"
   ]
  },
  {
   "cell_type": "code",
   "execution_count": 41,
   "id": "19fcd259",
   "metadata": {},
   "outputs": [
    {
     "name": "stdout",
     "output_type": "stream",
     "text": [
      "torch.Size([5, 8])\n",
      "Parameter containing:\n",
      "tensor([[ 0.3946, -0.1893,  0.0206,  0.1015, -0.3951],\n",
      "        [-0.3002, -0.1381,  0.0515,  0.0702, -0.0453],\n",
      "        [ 0.4303,  0.4424, -0.1680, -0.2123,  0.0857],\n",
      "        [-0.2787, -0.2555,  0.3016,  0.3647, -0.2665]], requires_grad=True)\n",
      "Parameter containing:\n",
      "tensor([[-0.3817,  0.0837, -0.3262,  0.4773],\n",
      "        [-0.1825, -0.1167, -0.3814, -0.0823],\n",
      "        [-0.3754,  0.1148, -0.3220,  0.1330],\n",
      "        [-0.4102, -0.1181,  0.1509,  0.2353]], requires_grad=True)\n",
      "torch.Size([5, 8])\n",
      "Parameter containing:\n",
      "tensor([[ 0.3946, -0.1894,  0.0206,  0.1015, -0.3951],\n",
      "        [-0.3002, -0.1381,  0.0515,  0.0702, -0.0453],\n",
      "        [ 0.4303,  0.4423, -0.1680, -0.2122,  0.0857],\n",
      "        [-0.2787, -0.2555,  0.3016,  0.3647, -0.2665]], requires_grad=True)\n",
      "Parameter containing:\n",
      "tensor([[-0.3818,  0.0837, -0.3263,  0.4773],\n",
      "        [-0.1825, -0.1167, -0.3814, -0.0823],\n",
      "        [-0.3755,  0.1148, -0.3220,  0.1330],\n",
      "        [-0.4099, -0.1181,  0.1511,  0.2353]], requires_grad=True)\n",
      "torch.Size([5, 8])\n",
      "Parameter containing:\n",
      "tensor([[ 0.3946, -0.1894,  0.0206,  0.1015, -0.3951],\n",
      "        [-0.3002, -0.1381,  0.0515,  0.0702, -0.0453],\n",
      "        [ 0.4303,  0.4423, -0.1680, -0.2121,  0.0857],\n",
      "        [-0.2787, -0.2555,  0.3016,  0.3647, -0.2665]], requires_grad=True)\n",
      "Parameter containing:\n",
      "tensor([[-0.3820,  0.0837, -0.3263,  0.4773],\n",
      "        [-0.1826, -0.1167, -0.3814, -0.0823],\n",
      "        [-0.3755,  0.1148, -0.3219,  0.1330],\n",
      "        [-0.4096, -0.1181,  0.1513,  0.2354]], requires_grad=True)\n",
      "torch.Size([5, 8])\n",
      "Parameter containing:\n",
      "tensor([[ 0.3945, -0.1895,  0.0206,  0.1015, -0.3951],\n",
      "        [-0.3002, -0.1381,  0.0515,  0.0702, -0.0453],\n",
      "        [ 0.4303,  0.4422, -0.1680, -0.2120,  0.0858],\n",
      "        [-0.2787, -0.2555,  0.3016,  0.3647, -0.2665]], requires_grad=True)\n",
      "Parameter containing:\n",
      "tensor([[-0.3822,  0.0837, -0.3264,  0.4773],\n",
      "        [-0.1826, -0.1167, -0.3814, -0.0823],\n",
      "        [-0.3756,  0.1148, -0.3219,  0.1330],\n",
      "        [-0.4094, -0.1181,  0.1515,  0.2354]], requires_grad=True)\n",
      "torch.Size([5, 8])\n",
      "Parameter containing:\n",
      "tensor([[ 0.3945, -0.1895,  0.0206,  0.1015, -0.3951],\n",
      "        [-0.3002, -0.1381,  0.0515,  0.0702, -0.0453],\n",
      "        [ 0.4303,  0.4422, -0.1680, -0.2119,  0.0858],\n",
      "        [-0.2787, -0.2555,  0.3016,  0.3647, -0.2665]], requires_grad=True)\n",
      "Parameter containing:\n",
      "tensor([[-0.3823,  0.0837, -0.3265,  0.4773],\n",
      "        [-0.1826, -0.1167, -0.3814, -0.0823],\n",
      "        [-0.3756,  0.1148, -0.3218,  0.1330],\n",
      "        [-0.4091, -0.1181,  0.1517,  0.2354]], requires_grad=True)\n",
      "Predicted output: tensor([[ 0.1368, -0.0930,  0.0901,  0.6717]], grad_fn=<AddmmBackward0>)\n"
     ]
    }
   ],
   "source": [
    "# Training loop\n",
    "num_epochs = 5\n",
    "hidden_layer_weights = torch.zeros(num_epochs, 5, 8) #this should be num epochs by hidden size.  \n",
    "for epoch in range(num_epochs):\n",
    "    # Forward pass\n",
    "    output = model(input_data)\n",
    "    ###this needs to be stochastic\n",
    "    # Compute the loss\n",
    "    loss = criterion(output, output_data)\n",
    "\n",
    "    # Backward pass and optimization\n",
    "    optimizer.zero_grad()\n",
    "    loss.backward()\n",
    "    optimizer.step()\n",
    "\n",
    "    loss.item()\n",
    "\n",
    "    print(model.hidden_1.weight.shape) ##i also have biases here.  are those interesting??\n",
    "    hidden_layer_weights[epoch] = model.hidden_1.weight\n",
    "    print(model.hidden_2.weight)\n",
    "    print(model.output.weight)\n",
    "\n",
    "# After training, you can use the model to make predictions\n",
    "test_input = torch.randn(1, 8)  # Single test input with 8 values\n",
    "predicted_output = model(test_input)\n",
    "print(\"Predicted output:\", predicted_output)"
   ]
  },
  {
   "cell_type": "code",
   "execution_count": 43,
   "id": "0a94cd8f",
   "metadata": {},
   "outputs": [
    {
     "data": {
      "text/plain": [
       "torch.Size([5, 5, 8])"
      ]
     },
     "execution_count": 43,
     "metadata": {},
     "output_type": "execute_result"
    }
   ],
   "source": [
    "hidden_layer_weights.shape"
   ]
  },
  {
   "cell_type": "code",
   "execution_count": null,
   "id": "7a94aeab",
   "metadata": {},
   "outputs": [],
   "source": []
  },
  {
   "cell_type": "code",
   "execution_count": 61,
   "id": "019a21e0",
   "metadata": {},
   "outputs": [
    {
     "name": "stdout",
     "output_type": "stream",
     "text": [
      "[[-0.3469815  -0.07292336 -0.02228806  0.191466   -0.32438868  0.20894802\n",
      "   0.13477889  0.04567388  0.15456189  0.3543305  -0.32375628  0.2706515\n",
      "  -0.14525518 -0.2929066  -0.30148655 -0.31950286  0.1159891  -0.30396482\n",
      "  -0.01757064 -0.1349488  -0.18273373 -0.05090491 -0.12745696  0.05740287\n",
      "   0.25836584 -0.11272006 -0.17629027 -0.34156716  0.16930735  0.18105668\n",
      "  -0.19269498 -0.27565905 -0.2860846   0.22715165  0.12871066 -0.10191232\n",
      "  -0.26817885  0.26160175  0.15045121 -0.25639096]\n",
      " [-0.34700385 -0.07295312 -0.02223665  0.19136718 -0.32436424  0.20893222\n",
      "   0.13475043  0.04566606  0.15455231  0.35433528 -0.32376403  0.27060962\n",
      "  -0.14519884 -0.29291072 -0.30149418 -0.31950903  0.1159822  -0.30396482\n",
      "  -0.01757347 -0.1349488  -0.18273373 -0.0509081  -0.12745696  0.05739906\n",
      "   0.25832123 -0.11274029 -0.17630894 -0.34157637  0.1692496   0.18100667\n",
      "  -0.19272643 -0.27568305 -0.28608537  0.22716624  0.1287199  -0.10190281\n",
      "  -0.26817703  0.26161805  0.15046334 -0.25638735]\n",
      " [-0.34702626 -0.07298301 -0.02218534  0.19126812 -0.32433984  0.20891622\n",
      "   0.13472179  0.04565809  0.15454239  0.3543396  -0.32377195  0.2705674\n",
      "  -0.14514275 -0.29291502 -0.301502   -0.31951535  0.11597531 -0.30396482\n",
      "  -0.0175763  -0.1349488  -0.18273373 -0.05091127 -0.12745696  0.05739527\n",
      "   0.25827688 -0.11276037 -0.1763275  -0.34158552  0.16919206  0.18095689\n",
      "  -0.19275776 -0.27570695 -0.28608614  0.22718075  0.12872908 -0.10189333\n",
      "  -0.2681752   0.26163426  0.15047541 -0.25638375]\n",
      " [-0.34704873 -0.07301304 -0.02213415  0.19116881 -0.3243155   0.2089\n",
      "   0.13469297  0.04564996  0.15453531  0.35434666 -0.32378003  0.27052796\n",
      "  -0.14508688 -0.2929163  -0.3015068  -0.31951866  0.11596844 -0.30396482\n",
      "  -0.01757911 -0.1349488  -0.18273373 -0.05091444 -0.12745696  0.05739149\n",
      "   0.25823277 -0.1127803  -0.17634591 -0.3415946   0.16913477  0.18090732\n",
      "  -0.19278896 -0.27573076 -0.28608692  0.2271952   0.12873821 -0.10188387\n",
      "  -0.26817343  0.2616504   0.15048742 -0.25638017]\n",
      " [-0.34707126 -0.07304321 -0.02208306  0.19106928 -0.32429117  0.20888358\n",
      "   0.13466397  0.04564168  0.1545279   0.3543533  -0.32378826  0.27048817\n",
      "  -0.14503126 -0.29291776 -0.30151173 -0.31952214  0.11596159 -0.30396482\n",
      "  -0.01758192 -0.1349488  -0.18273373 -0.0509176  -0.12745696  0.05738771\n",
      "   0.25818753 -0.11280009 -0.17636421 -0.3416036   0.16907632  0.18085662\n",
      "  -0.19282004 -0.27575445 -0.2860877   0.22720958  0.12874728 -0.10187443\n",
      "  -0.26817164  0.2616665   0.15049937 -0.2563766 ]]\n",
      "5 40\n"
     ]
    },
    {
     "data": {
      "image/png": "[encoded data removed]",
      "text/plain": [
       "<Figure size 432x288 with 1 Axes>"
      ]
     },
     "metadata": {
      "needs_background": "light"
     },
     "output_type": "display_data"
    }
   ],
   "source": [
    "import matplotlib.pyplot as plt\n",
    "import numpy as np\n",
    "weights = hidden_layer_weights.detach().numpy()\n",
    "\n",
    "shapes = weights.shape\n",
    "weights = np.reshape(weights,(shapes[0],shapes[1]*shapes[2]))\n",
    "print(weights)\n",
    "# Get the number of time steps and dimensions\n",
    "num_time_steps, num_dimensions = weights.shape\n",
    "print(num_time_steps,num_dimensions)\n",
    "# Create a figure and axis\n",
    "fig, ax = plt.subplots()\n",
    "\n",
    "# Plot the lines for each dimension\n",
    "for i in range(num_dimensions):\n",
    "    ax.plot(range(num_time_steps), weights[:, i], label=f\"Dimension {i+1}\")\n",
    "\n",
    "# Set the labels and title\n",
    "ax.set_xlabel('Time Step')\n",
    "ax.set_ylabel('Weight Value')\n",
    "ax.set_title('Hidden Layer Weights over Time')\n",
    "\n",
    "# Add a legend\n",
    "ax.legend()\n",
    "\n",
    "# Show the plot\n",
    "plt.show()"
   ]
  },
  {
   "cell_type": "code",
   "execution_count": null,
   "id": "d53be6d7",
   "metadata": {},
   "outputs": [],
   "source": []
  }
 ],
 "metadata": {
  "kernelspec": {
   "display_name": "Python 3 (ipykernel)",
   "language": "python",
   "name": "python3"
  },
  "language_info": {
   "codemirror_mode": {
    "name": "ipython",
    "version": 3
   },
   "file_extension": ".py",
   "mimetype": "text/x-python",
   "name": "python",
   "nbconvert_exporter": "python",
   "pygments_lexer": "ipython3",
   "version": "3.9.12"
  }
 },
 "nbformat": 4,
 "nbformat_minor": 5
}
