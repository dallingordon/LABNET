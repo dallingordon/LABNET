{
 "cells": [
  {
   "cell_type": "code",
   "execution_count": 1,
   "id": "cf4701eb",
   "metadata": {},
   "outputs": [],
   "source": [
    "from LABNET import Neuron, Net"
   ]
  },
  {
   "cell_type": "code",
   "execution_count": 2,
   "id": "bbfe8511",
   "metadata": {},
   "outputs": [],
   "source": [
    "dl_big = [\n",
    "    ['i']\n",
    "    ,['i']\n",
    "    ,['i']\n",
    "    ,['i']\n",
    "    ,['i']\n",
    "    ,['i']\n",
    "    ,['i']\n",
    "    ,['i'] #0-7 for inputs\n",
    "    \n",
    "    ,['fc',[0,1,2]]\n",
    "    ,['fc',[-2,3,-4]]\n",
    "    ,['fc',[3,4,5]]\n",
    "    ,['fc',[3,5,7]]\n",
    "    ,['fc',[0,7]] #8 - 12 for this layer\n",
    "    \n",
    "    ,['fc',[8,10]]\n",
    "    ,['fc',[9,-11]]\n",
    "    ,['fc',[12]]\n",
    "    ,['fc',[-8,-9]] #13 - 16\n",
    "    \n",
    "    \n",
    "    \n",
    "    ,['o',[-13,14]]\n",
    "    ,['o',[-14,15,-16]]\n",
    "    ,['o',[-15,-16]]\n",
    "    ,['o',[-13,16]]\n",
    "    \n",
    "]"
   ]
  },
  {
   "cell_type": "code",
   "execution_count": 5,
   "id": "6d9564a8",
   "metadata": {},
   "outputs": [
    {
     "name": "stdout",
     "output_type": "stream",
     "text": [
      "self.inputs and self.outputs are now tensors of shape torch.Size([256, 8]) and torch.Size([256, 4]) respectively!\n"
     ]
    }
   ],
   "source": [
    "nn_big = Net(dl_big)\n",
    "nn_big.generate_inputs()\n",
    "nn_big.generate_outputs()\n",
    "nn_big.tensorize()"
   ]
  },
  {
   "cell_type": "code",
   "execution_count": 6,
   "id": "82161f21",
   "metadata": {},
   "outputs": [
    {
     "data": {
      "text/plain": [
       "tensor([[False,  True, False, False],\n",
       "        [False, False,  True, False],\n",
       "        [False,  True, False, False],\n",
       "        ...,\n",
       "        [False, False, False,  True],\n",
       "        [False, False, False,  True],\n",
       "        [False, False, False,  True]])"
      ]
     },
     "execution_count": 6,
     "metadata": {},
     "output_type": "execute_result"
    }
   ],
   "source": [
    "nn_big.outputs"
   ]
  },
  {
   "cell_type": "code",
   "execution_count": 8,
   "id": "636b3345",
   "metadata": {},
   "outputs": [
    {
     "data": {
      "text/plain": [
       "[tensor(0.0938), tensor(0.0781), tensor(0.1562), tensor(0.7500)]"
      ]
     },
     "execution_count": 8,
     "metadata": {},
     "output_type": "execute_result"
    }
   ],
   "source": [
    "nn_big.percent_true()"
   ]
  },
  {
   "cell_type": "code",
   "execution_count": 9,
   "id": "bfb5c733",
   "metadata": {},
   "outputs": [
    {
     "data": {
      "text/plain": [
       "8"
      ]
     },
     "execution_count": 9,
     "metadata": {},
     "output_type": "execute_result"
    }
   ],
   "source": [
    "nn_big.input_size"
   ]
  },
  {
   "cell_type": "code",
   "execution_count": 10,
   "id": "02d76df9",
   "metadata": {},
   "outputs": [],
   "source": [
    "import torch\n",
    "import torch.nn as nn\n",
    "import torch.optim as optim"
   ]
  },
  {
   "cell_type": "code",
   "execution_count": 25,
   "id": "a2b2ec77",
   "metadata": {},
   "outputs": [],
   "source": [
    "# Define the model\n",
    "class MyModel(nn.Module):\n",
    "    def __init__(self):\n",
    "        super(MyModel, self).__init__()\n",
    "        self.hidden_1 = nn.Linear(nn_big.input_size, 5) ##make these all variables duh\n",
    "        self.hidden_2 = nn.Linear(5,4)\n",
    "        self.output = nn.Linear(4, nn_big.output_size)\n",
    "        self.relu = nn.ReLU()\n",
    "\n",
    "    def forward(self, x):\n",
    "        x = self.relu(self.hidden_1(x))\n",
    "        x = self.relu(self.hidden_2(x))\n",
    "        x = self.output(x)\n",
    "        return x"
   ]
  },
  {
   "cell_type": "code",
   "execution_count": 26,
   "id": "8807a787",
   "metadata": {},
   "outputs": [],
   "source": [
    "model = MyModel()"
   ]
  },
  {
   "cell_type": "code",
   "execution_count": 27,
   "id": "1ba85702",
   "metadata": {},
   "outputs": [],
   "source": [
    "criterion = nn.MSELoss()\n",
    "optimizer = optim.SGD(model.parameters(), lr=0.01)"
   ]
  },
  {
   "cell_type": "code",
   "execution_count": 28,
   "id": "975f3acb",
   "metadata": {},
   "outputs": [],
   "source": [
    "input_data = nn_big.inputs.float()\n",
    "output_data = nn_big.outputs.float()"
   ]
  },
  {
   "cell_type": "code",
   "execution_count": 29,
   "id": "733d8790",
   "metadata": {},
   "outputs": [
    {
     "data": {
      "text/plain": [
       "torch.float32"
      ]
     },
     "execution_count": 29,
     "metadata": {},
     "output_type": "execute_result"
    }
   ],
   "source": [
    "input_data.dtype"
   ]
  },
  {
   "cell_type": "code",
   "execution_count": 30,
   "id": "5e0490ba",
   "metadata": {},
   "outputs": [
    {
     "data": {
      "text/plain": [
       "['T_destination',\n",
       " '__annotations__',\n",
       " '__call__',\n",
       " '__class__',\n",
       " '__delattr__',\n",
       " '__dict__',\n",
       " '__dir__',\n",
       " '__doc__',\n",
       " '__eq__',\n",
       " '__format__',\n",
       " '__ge__',\n",
       " '__getattr__',\n",
       " '__getattribute__',\n",
       " '__gt__',\n",
       " '__hash__',\n",
       " '__init__',\n",
       " '__init_subclass__',\n",
       " '__le__',\n",
       " '__lt__',\n",
       " '__module__',\n",
       " '__ne__',\n",
       " '__new__',\n",
       " '__reduce__',\n",
       " '__reduce_ex__',\n",
       " '__repr__',\n",
       " '__setattr__',\n",
       " '__setstate__',\n",
       " '__sizeof__',\n",
       " '__str__',\n",
       " '__subclasshook__',\n",
       " '__weakref__',\n",
       " '_apply',\n",
       " '_backward_hooks',\n",
       " '_buffers',\n",
       " '_call_impl',\n",
       " '_forward_hooks',\n",
       " '_forward_pre_hooks',\n",
       " '_get_backward_hooks',\n",
       " '_get_name',\n",
       " '_is_full_backward_hook',\n",
       " '_load_from_state_dict',\n",
       " '_load_state_dict_post_hooks',\n",
       " '_load_state_dict_pre_hooks',\n",
       " '_maybe_warn_non_full_backward_hook',\n",
       " '_modules',\n",
       " '_named_members',\n",
       " '_non_persistent_buffers_set',\n",
       " '_parameters',\n",
       " '_register_load_state_dict_pre_hook',\n",
       " '_register_state_dict_hook',\n",
       " '_replicate_for_data_parallel',\n",
       " '_save_to_state_dict',\n",
       " '_slow_forward',\n",
       " '_state_dict_hooks',\n",
       " '_version',\n",
       " 'add_module',\n",
       " 'apply',\n",
       " 'bfloat16',\n",
       " 'buffers',\n",
       " 'children',\n",
       " 'cpu',\n",
       " 'cuda',\n",
       " 'double',\n",
       " 'dump_patches',\n",
       " 'eval',\n",
       " 'extra_repr',\n",
       " 'float',\n",
       " 'forward',\n",
       " 'get_buffer',\n",
       " 'get_extra_state',\n",
       " 'get_parameter',\n",
       " 'get_submodule',\n",
       " 'half',\n",
       " 'hidden_1',\n",
       " 'hidden_2',\n",
       " 'ipu',\n",
       " 'load_state_dict',\n",
       " 'modules',\n",
       " 'named_buffers',\n",
       " 'named_children',\n",
       " 'named_modules',\n",
       " 'named_parameters',\n",
       " 'output',\n",
       " 'parameters',\n",
       " 'register_backward_hook',\n",
       " 'register_buffer',\n",
       " 'register_forward_hook',\n",
       " 'register_forward_pre_hook',\n",
       " 'register_full_backward_hook',\n",
       " 'register_load_state_dict_post_hook',\n",
       " 'register_module',\n",
       " 'register_parameter',\n",
       " 'relu',\n",
       " 'requires_grad_',\n",
       " 'set_extra_state',\n",
       " 'share_memory',\n",
       " 'state_dict',\n",
       " 'to',\n",
       " 'to_empty',\n",
       " 'train',\n",
       " 'training',\n",
       " 'type',\n",
       " 'xpu',\n",
       " 'zero_grad']"
      ]
     },
     "execution_count": 30,
     "metadata": {},
     "output_type": "execute_result"
    }
   ],
   "source": [
    "dir(model)"
   ]
  },
  {
   "cell_type": "code",
   "execution_count": 32,
   "id": "19fcd259",
   "metadata": {},
   "outputs": [
    {
     "name": "stdout",
     "output_type": "stream",
     "text": [
      "Parameter containing:\n",
      "tensor([[-4.5754e-02, -1.2435e-01,  3.4553e-01, -6.3660e-02, -1.5300e-01,\n",
      "         -2.9018e-01,  1.9608e-01, -1.2444e-02],\n",
      "        [ 1.3079e-01,  7.5161e-02, -1.1929e-01,  1.1127e-01, -2.7228e-01,\n",
      "         -3.1584e-04,  2.3139e-01, -2.3540e-01],\n",
      "        [-2.7023e-01, -3.3425e-01,  3.5149e-02, -1.2247e-01, -3.2816e-01,\n",
      "         -3.1998e-01,  9.0744e-02, -3.1496e-01],\n",
      "        [-1.7439e-01, -1.4985e-02, -7.8979e-03,  2.1194e-01, -7.3855e-02,\n",
      "          2.9550e-01, -1.1059e-01, -1.9230e-01],\n",
      "        [ 1.6225e-02,  2.5856e-01, -1.1404e-01, -2.3967e-01, -9.9704e-02,\n",
      "         -1.9040e-01, -1.0715e-01,  3.1491e-01]], requires_grad=True)\n",
      "Parameter containing:\n",
      "tensor([[-0.1751,  0.0116, -0.3994,  0.3107, -0.3202],\n",
      "        [ 0.1451, -0.1175, -0.0502, -0.1459, -0.2935],\n",
      "        [ 0.3266,  0.2314, -0.1971, -0.0954, -0.0626],\n",
      "        [-0.3727, -0.2520, -0.2729,  0.2970, -0.1119]], requires_grad=True)\n",
      "Parameter containing:\n",
      "tensor([[ 0.4874,  0.1602, -0.2628, -0.2831],\n",
      "        [-0.1491,  0.1073,  0.0161, -0.0485],\n",
      "        [-0.1450,  0.3892, -0.0108, -0.3203],\n",
      "        [-0.3905,  0.2571, -0.4142, -0.4602]], requires_grad=True)\n",
      "Parameter containing:\n",
      "tensor([[-4.5738e-02, -1.2434e-01,  3.4557e-01, -6.3642e-02, -1.5299e-01,\n",
      "         -2.9018e-01,  1.9612e-01, -1.2429e-02],\n",
      "        [ 1.3080e-01,  7.5175e-02, -1.1928e-01,  1.1128e-01, -2.7229e-01,\n",
      "         -3.0908e-04,  2.3139e-01, -2.3539e-01],\n",
      "        [-2.7023e-01, -3.3425e-01,  3.5156e-02, -1.2247e-01, -3.2816e-01,\n",
      "         -3.1998e-01,  9.0758e-02, -3.1496e-01],\n",
      "        [-1.7484e-01, -1.5466e-02, -8.4673e-03,  2.1133e-01, -7.4414e-02,\n",
      "          2.9483e-01, -1.1110e-01, -1.9273e-01],\n",
      "        [ 1.6261e-02,  2.5861e-01, -1.1398e-01, -2.3964e-01, -9.9634e-02,\n",
      "         -1.9031e-01, -1.0711e-01,  3.1498e-01]], requires_grad=True)\n",
      "Parameter containing:\n",
      "tensor([[-0.1751,  0.0115, -0.3994,  0.3102, -0.3203],\n",
      "        [ 0.1451, -0.1173, -0.0502, -0.1453, -0.2933],\n",
      "        [ 0.3266,  0.2312, -0.1971, -0.0959, -0.0628],\n",
      "        [-0.3728, -0.2522, -0.2729,  0.2963, -0.1121]], requires_grad=True)\n",
      "Parameter containing:\n",
      "tensor([[ 0.4874,  0.1601, -0.2629, -0.2834],\n",
      "        [-0.1492,  0.1070,  0.0159, -0.0490],\n",
      "        [-0.1448,  0.3895, -0.0105, -0.3195],\n",
      "        [-0.3902,  0.2578, -0.4137, -0.4586]], requires_grad=True)\n",
      "Parameter containing:\n",
      "tensor([[-4.5721e-02, -1.2432e-01,  3.4562e-01, -6.3624e-02, -1.5298e-01,\n",
      "         -2.9018e-01,  1.9616e-01, -1.2415e-02],\n",
      "        [ 1.3081e-01,  7.5188e-02, -1.1928e-01,  1.1130e-01, -2.7229e-01,\n",
      "         -3.0243e-04,  2.3140e-01, -2.3539e-01],\n",
      "        [-2.7023e-01, -3.3425e-01,  3.5163e-02, -1.2247e-01, -3.2816e-01,\n",
      "         -3.1998e-01,  9.0772e-02, -3.1496e-01],\n",
      "        [-1.7528e-01, -1.5929e-02, -9.0169e-03,  2.1073e-01, -7.4959e-02,\n",
      "          2.9418e-01, -1.1159e-01, -1.9314e-01],\n",
      "        [ 1.6294e-02,  2.5864e-01, -1.1393e-01, -2.3962e-01, -9.9573e-02,\n",
      "         -1.9023e-01, -1.0708e-01,  3.1504e-01]], requires_grad=True)\n",
      "Parameter containing:\n",
      "tensor([[-0.1751,  0.0114, -0.3994,  0.3097, -0.3203],\n",
      "        [ 0.1451, -0.1172, -0.0502, -0.1448, -0.2931],\n",
      "        [ 0.3266,  0.2311, -0.1971, -0.0964, -0.0630],\n",
      "        [-0.3728, -0.2525, -0.2729,  0.2956, -0.1124]], requires_grad=True)\n",
      "Parameter containing:\n",
      "tensor([[ 0.4874,  0.1600, -0.2629, -0.2836],\n",
      "        [-0.1493,  0.1068,  0.0158, -0.0495],\n",
      "        [-0.1446,  0.3899, -0.0102, -0.3188],\n",
      "        [-0.3899,  0.2585, -0.4133, -0.4570]], requires_grad=True)\n",
      "Parameter containing:\n",
      "tensor([[-4.5705e-02, -1.2431e-01,  3.4566e-01, -6.3606e-02, -1.5297e-01,\n",
      "         -2.9018e-01,  1.9620e-01, -1.2400e-02],\n",
      "        [ 1.3081e-01,  7.5202e-02, -1.1927e-01,  1.1131e-01, -2.7229e-01,\n",
      "         -2.9597e-04,  2.3141e-01, -2.3539e-01],\n",
      "        [-2.7023e-01, -3.3425e-01,  3.5170e-02, -1.2247e-01, -3.2816e-01,\n",
      "         -3.1998e-01,  9.0786e-02, -3.1496e-01],\n",
      "        [-1.7570e-01, -1.6381e-02, -9.5578e-03,  2.1014e-01, -7.5490e-02,\n",
      "          2.9354e-01, -1.1207e-01, -1.9353e-01],\n",
      "        [ 1.6321e-02,  2.5867e-01, -1.1388e-01, -2.3960e-01, -9.9519e-02,\n",
      "         -1.9015e-01, -1.0706e-01,  3.1509e-01]], requires_grad=True)\n",
      "Parameter containing:\n",
      "tensor([[-0.1751,  0.0113, -0.3994,  0.3092, -0.3204],\n",
      "        [ 0.1451, -0.1170, -0.0502, -0.1443, -0.2930],\n",
      "        [ 0.3266,  0.2309, -0.1971, -0.0968, -0.0632],\n",
      "        [-0.3728, -0.2527, -0.2729,  0.2949, -0.1127]], requires_grad=True)\n",
      "Parameter containing:\n",
      "tensor([[ 0.4873,  0.1599, -0.2630, -0.2838],\n",
      "        [-0.1494,  0.1066,  0.0156, -0.0500],\n",
      "        [-0.1444,  0.3902, -0.0100, -0.3180],\n",
      "        [-0.3896,  0.2592, -0.4128, -0.4555]], requires_grad=True)\n",
      "Parameter containing:\n",
      "tensor([[-4.5690e-02, -1.2430e-01,  3.4570e-01, -6.3589e-02, -1.5297e-01,\n",
      "         -2.9018e-01,  1.9624e-01, -1.2386e-02],\n",
      "        [ 1.3082e-01,  7.5215e-02, -1.1927e-01,  1.1133e-01, -2.7229e-01,\n",
      "         -2.8972e-04,  2.3141e-01, -2.3538e-01],\n",
      "        [-2.7023e-01, -3.3425e-01,  3.5177e-02, -1.2247e-01, -3.2816e-01,\n",
      "         -3.1998e-01,  9.0800e-02, -3.1496e-01],\n",
      "        [-1.7612e-01, -1.6826e-02, -1.0090e-02,  2.0956e-01, -7.6013e-02,\n",
      "          2.9291e-01, -1.1255e-01, -1.9391e-01],\n",
      "        [ 1.6347e-02,  2.5870e-01, -1.1384e-01, -2.3957e-01, -9.9465e-02,\n",
      "         -1.9008e-01, -1.0703e-01,  3.1514e-01]], requires_grad=True)\n",
      "Parameter containing:\n",
      "tensor([[-0.1751,  0.0112, -0.3994,  0.3087, -0.3204],\n",
      "        [ 0.1451, -0.1168, -0.0502, -0.1438, -0.2928],\n",
      "        [ 0.3266,  0.2308, -0.1971, -0.0973, -0.0634],\n",
      "        [-0.3728, -0.2529, -0.2729,  0.2942, -0.1129]], requires_grad=True)\n",
      "Parameter containing:\n",
      "tensor([[ 0.4873,  0.1598, -0.2630, -0.2840],\n",
      "        [-0.1495,  0.1064,  0.0155, -0.0504],\n",
      "        [-0.1443,  0.3905, -0.0097, -0.3173],\n",
      "        [-0.3893,  0.2599, -0.4124, -0.4540]], requires_grad=True)\n",
      "Predicted output: tensor([[ 0.2029,  0.3212, -0.1957,  0.0991]], grad_fn=<AddmmBackward0>)\n"
     ]
    }
   ],
   "source": [
    "# Training loop\n",
    "num_epochs = 5\n",
    "for epoch in range(num_epochs):\n",
    "    # Forward pass\n",
    "    output = model(input_data)\n",
    "\n",
    "    # Compute the loss\n",
    "    loss = criterion(output, output_data)\n",
    "\n",
    "    # Backward pass and optimization\n",
    "    optimizer.zero_grad()\n",
    "    loss.backward()\n",
    "    optimizer.step()\n",
    "\n",
    "    loss.item()\n",
    "\n",
    "    \n",
    "    print(model.hidden_1.weight)\n",
    "    print(model.hidden_2.weight)\n",
    "    print(model.output.weight)\n",
    "\n",
    "# After training, you can use the model to make predictions\n",
    "test_input = torch.randn(1, 8)  # Single test input with 8 values\n",
    "predicted_output = model(test_input)\n",
    "print(\"Predicted output:\", predicted_output)"
   ]
  },
  {
   "cell_type": "code",
   "execution_count": null,
   "id": "b4fcbcb7",
   "metadata": {},
   "outputs": [],
   "source": []
  }
 ],
 "metadata": {
  "kernelspec": {
   "display_name": "Python 3 (ipykernel)",
   "language": "python",
   "name": "python3"
  },
  "language_info": {
   "codemirror_mode": {
    "name": "ipython",
    "version": 3
   },
   "file_extension": ".py",
   "mimetype": "text/x-python",
   "name": "python",
   "nbconvert_exporter": "python",
   "pygments_lexer": "ipython3",
   "version": "3.9.12"
  }
 },
 "nbformat": 4,
 "nbformat_minor": 5
}
