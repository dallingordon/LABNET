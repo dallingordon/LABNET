{
 "cells": [
  {
   "cell_type": "code",
   "execution_count": 1,
   "id": "f1383b37",
   "metadata": {},
   "outputs": [],
   "source": [
    "import torch"
   ]
  },
  {
   "cell_type": "code",
   "execution_count": 2,
   "id": "852bee3e",
   "metadata": {},
   "outputs": [],
   "source": [
    "x = torch.tensor([[1,2,3,4],[5,5,2,2],[6,1,2,1],[3,1,5,1]])"
   ]
  },
  {
   "cell_type": "code",
   "execution_count": 4,
   "id": "b905c248",
   "metadata": {},
   "outputs": [
    {
     "data": {
      "text/plain": [
       "torch.Size([4, 4])"
      ]
     },
     "execution_count": 4,
     "metadata": {},
     "output_type": "execute_result"
    }
   ],
   "source": [
    "x.shape"
   ]
  },
  {
   "cell_type": "code",
   "execution_count": 5,
   "id": "b8f4a2af",
   "metadata": {},
   "outputs": [],
   "source": [
    "permutation = torch.randperm(4)\n",
    "\n",
    "# Shuffle the rows of the tensor using the permutation indices\n",
    "shuffled_tensor = x[permutation]"
   ]
  },
  {
   "cell_type": "code",
   "execution_count": 6,
   "id": "8a6c26b0",
   "metadata": {},
   "outputs": [
    {
     "data": {
      "text/plain": [
       "tensor([[1, 2, 3, 4],\n",
       "        [6, 1, 2, 1],\n",
       "        [5, 5, 2, 2],\n",
       "        [3, 1, 5, 1]])"
      ]
     },
     "execution_count": 6,
     "metadata": {},
     "output_type": "execute_result"
    }
   ],
   "source": [
    "shuffled_tensor"
   ]
  },
  {
   "cell_type": "code",
   "execution_count": 7,
   "id": "a2b7615c",
   "metadata": {},
   "outputs": [
    {
     "data": {
      "text/plain": [
       "tensor([[1, 2, 3, 4],\n",
       "        [5, 5, 2, 2],\n",
       "        [6, 1, 2, 1],\n",
       "        [3, 1, 5, 1]])"
      ]
     },
     "execution_count": 7,
     "metadata": {},
     "output_type": "execute_result"
    }
   ],
   "source": [
    "x"
   ]
  },
  {
   "cell_type": "code",
   "execution_count": 14,
   "id": "b4a195be",
   "metadata": {},
   "outputs": [],
   "source": [
    "def reorder_rows(target_tensor, candidate_tensor):\n",
    "    # Convert tensors to float type\n",
    "    target_tensor = target_tensor.float()\n",
    "    candidate_tensor = candidate_tensor.float()\n",
    "\n",
    "    # Calculate pairwise distances between rows\n",
    "    distances = torch.cdist(candidate_tensor.unsqueeze(1), target_tensor.unsqueeze(0))\n",
    "    \n",
    "    # Calculate the sum of distances for each row\n",
    "    row_sums = torch.sum(distances, dim=2)\n",
    "\n",
    "    # Sort the rows based on the sum of distances\n",
    "    _, indices = torch.sort(row_sums)\n",
    "\n",
    "    # Reorder the rows in the candidate tensor\n",
    "    reordered_tensor = candidate_tensor[indices]\n",
    "\n",
    "    return reordered_tensor"
   ]
  },
  {
   "cell_type": "code",
   "execution_count": 15,
   "id": "96a9d650",
   "metadata": {},
   "outputs": [
    {
     "data": {
      "text/plain": [
       "tensor([[[1., 2., 3., 4.]],\n",
       "\n",
       "        [[1., 2., 3., 4.]],\n",
       "\n",
       "        [[1., 2., 3., 4.]],\n",
       "\n",
       "        [[1., 2., 3., 4.]]])"
      ]
     },
     "execution_count": 15,
     "metadata": {},
     "output_type": "execute_result"
    }
   ],
   "source": [
    "reorder_rows(x,shuffled_tensor)"
   ]
  },
  {
   "cell_type": "code",
   "execution_count": 24,
   "id": "e2ca48d1",
   "metadata": {},
   "outputs": [
    {
     "ename": "ValueError",
     "evalue": "Input tensors must have the same shape.",
     "output_type": "error",
     "traceback": [
      "\u001b[0;31m---------------------------------------------------------------------------\u001b[0m",
      "\u001b[0;31mValueError\u001b[0m                                Traceback (most recent call last)",
      "Input \u001b[0;32mIn [24]\u001b[0m, in \u001b[0;36m<cell line: 21>\u001b[0;34m()\u001b[0m\n\u001b[1;32m     18\u001b[0m tensor_a \u001b[38;5;241m=\u001b[39m np\u001b[38;5;241m.\u001b[39marray([[\u001b[38;5;241m1\u001b[39m, \u001b[38;5;241m2\u001b[39m, \u001b[38;5;241m3\u001b[39m], [\u001b[38;5;241m4\u001b[39m, \u001b[38;5;241m5\u001b[39m, \u001b[38;5;241m6\u001b[39m]])\n\u001b[1;32m     19\u001b[0m tensor_b \u001b[38;5;241m=\u001b[39m np\u001b[38;5;241m.\u001b[39marray([[\u001b[38;5;241m7\u001b[39m, \u001b[38;5;241m8\u001b[39m, \u001b[38;5;241m9\u001b[39m], [\u001b[38;5;241m10\u001b[39m, \u001b[38;5;241m11\u001b[39m, \u001b[38;5;241m12\u001b[39m]])\n\u001b[0;32m---> 21\u001b[0m distances,m \u001b[38;5;241m=\u001b[39m \u001b[43mcompare_rows\u001b[49m\u001b[43m(\u001b[49m\u001b[43mx\u001b[49m\u001b[43m,\u001b[49m\u001b[43m \u001b[49m\u001b[43mtensor_b\u001b[49m\u001b[43m,\u001b[49m\u001b[43m \u001b[49m\u001b[43mdist\u001b[49m\u001b[38;5;241;43m=\u001b[39;49m\u001b[38;5;124;43m'\u001b[39;49m\u001b[38;5;124;43meuclidean\u001b[39;49m\u001b[38;5;124;43m'\u001b[39;49m\u001b[43m)\u001b[49m\n\u001b[1;32m     22\u001b[0m \u001b[38;5;28mprint\u001b[39m(distances,m)\n",
      "Input \u001b[0;32mIn [24]\u001b[0m, in \u001b[0;36mcompare_rows\u001b[0;34m(tensor_a, tensor_b, dist)\u001b[0m\n\u001b[1;32m      4\u001b[0m \u001b[38;5;28;01mdef\u001b[39;00m \u001b[38;5;21mcompare_rows\u001b[39m(tensor_a, tensor_b, dist\u001b[38;5;241m=\u001b[39m\u001b[38;5;124m'\u001b[39m\u001b[38;5;124meuclidean\u001b[39m\u001b[38;5;124m'\u001b[39m):\n\u001b[1;32m      5\u001b[0m     \u001b[38;5;28;01mif\u001b[39;00m tensor_a\u001b[38;5;241m.\u001b[39mshape \u001b[38;5;241m!=\u001b[39m tensor_b\u001b[38;5;241m.\u001b[39mshape:\n\u001b[0;32m----> 6\u001b[0m         \u001b[38;5;28;01mraise\u001b[39;00m \u001b[38;5;167;01mValueError\u001b[39;00m(\u001b[38;5;124m\"\u001b[39m\u001b[38;5;124mInput tensors must have the same shape.\u001b[39m\u001b[38;5;124m\"\u001b[39m)\n\u001b[1;32m      7\u001b[0m     \u001b[38;5;28;01mif\u001b[39;00m dist \u001b[38;5;241m==\u001b[39m \u001b[38;5;124m'\u001b[39m\u001b[38;5;124meuclidean\u001b[39m\u001b[38;5;124m'\u001b[39m:\n\u001b[1;32m      8\u001b[0m         distances \u001b[38;5;241m=\u001b[39m euclidean_distances(tensor_a, tensor_b)\n",
      "\u001b[0;31mValueError\u001b[0m: Input tensors must have the same shape."
     ]
    }
   ],
   "source": [
    "import numpy as np\n",
    "from sklearn.metrics.pairwise import euclidean_distances, cosine_distances\n",
    "\n",
    "def compare_rows(tensor_a, tensor_b, dist='euclidean'):\n",
    "    if tensor_a.shape != tensor_b.shape:\n",
    "        raise ValueError(\"Input tensors must have the same shape.\")\n",
    "    if dist == 'euclidean':\n",
    "        distances = euclidean_distances(tensor_a, tensor_b)\n",
    "    elif dist == 'cosine':\n",
    "        distances = cosine_distances(tensor_a, tensor_b)\n",
    "    else:\n",
    "        raise ValueError(\"Invalid distance metric. Please choose either 'euclidean' or 'cosine'.\")\n",
    "\n",
    "    min_sum = np.sum(np.min(distances, axis=1))\n",
    "    return distances,min_sum\n",
    "\n",
    "# Example usage\n",
    "tensor_a = np.array([[1, 2, 3], [4, 5, 6]])\n",
    "tensor_b = np.array([[7, 8, 9], [10, 11, 12]])\n",
    "\n",
    "distances,m = compare_rows(tensor_a, tensor_b, dist='euclidean')\n",
    "print(distances,m)"
   ]
  },
  {
   "cell_type": "code",
   "execution_count": 21,
   "id": "4772825f",
   "metadata": {},
   "outputs": [
    {
     "name": "stdout",
     "output_type": "stream",
     "text": [
      "(array([[0.        , 6.        , 5.47722558, 4.24264069],\n",
      "       [5.47722558, 4.24264069, 0.        , 5.47722558],\n",
      "       [6.        , 0.        , 4.24264069, 4.24264069],\n",
      "       [4.24264069, 4.24264069, 5.47722558, 0.        ]]), 0.0)\n"
     ]
    }
   ],
   "source": [
    "distances = compare_rows(x, shuffled_tensor, dist='euclidean')\n",
    "print(distances)"
   ]
  },
  {
   "cell_type": "code",
   "execution_count": null,
   "id": "5c27455d",
   "metadata": {},
   "outputs": [],
   "source": []
  }
 ],
 "metadata": {
  "kernelspec": {
   "display_name": "Python 3 (ipykernel)",
   "language": "python",
   "name": "python3"
  },
  "language_info": {
   "codemirror_mode": {
    "name": "ipython",
    "version": 3
   },
   "file_extension": ".py",
   "mimetype": "text/x-python",
   "name": "python",
   "nbconvert_exporter": "python",
   "pygments_lexer": "ipython3",
   "version": "3.9.12"
  }
 },
 "nbformat": 4,
 "nbformat_minor": 5
}
