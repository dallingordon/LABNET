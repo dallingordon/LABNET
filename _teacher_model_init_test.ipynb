{
 "cells": [
  {
   "cell_type": "code",
   "execution_count": 1,
   "id": "e5516122",
   "metadata": {},
   "outputs": [],
   "source": [
    "from LABNET import Teacher"
   ]
  },
  {
   "cell_type": "code",
   "execution_count": 2,
   "id": "e1170a5c",
   "metadata": {},
   "outputs": [],
   "source": [
    "import torch\n",
    "import torch.nn as nn\n",
    "import torch.optim as optim\n",
    "\n",
    "# Define a small neural network using PyTorch\n",
    "class SimpleNeuralNetwork(nn.Module):\n",
    "    def __init__(self):\n",
    "        super(SimpleNeuralNetwork, self).__init__()\n",
    "        \n",
    "        # Define the layers\n",
    "        self.flatten = nn.Flatten()  # Flatten the input\n",
    "        self.fc1 = nn.Linear(10 * 5, 64)  # Fully connected layer 1\n",
    "        self.relu = nn.ReLU()  # Activation function (ReLU)\n",
    "        self.fc2 = nn.Linear(64, 2)  # Fully connected layer 2\n",
    "\n",
    "    def forward(self, x):\n",
    "        x = self.flatten(x)  # Flatten the input\n",
    "        x = self.fc1(x)      # Fully connected layer 1\n",
    "        x = self.relu(x)     # Apply ReLU activation\n",
    "        x = self.fc2(x)      # Fully connected layer 2\n",
    "        return x\n",
    "\n",
    "# Create an instance of the SimpleNeuralNetwork\n",
    "model = SimpleNeuralNetwork()\n"
   ]
  },
  {
   "cell_type": "code",
   "execution_count": 3,
   "id": "5cdad609",
   "metadata": {},
   "outputs": [
    {
     "data": {
      "text/plain": [
       "True"
      ]
     },
     "execution_count": 3,
     "metadata": {},
     "output_type": "execute_result"
    }
   ],
   "source": [
    "isinstance(model,nn.Module)"
   ]
  },
  {
   "cell_type": "code",
   "execution_count": 4,
   "id": "b8a673c6",
   "metadata": {},
   "outputs": [],
   "source": [
    "teacher = Teacher([5,5,1])"
   ]
  },
  {
   "cell_type": "code",
   "execution_count": 5,
   "id": "98b926cf",
   "metadata": {},
   "outputs": [],
   "source": [
    "teacher_model = Teacher(model,(10,5))"
   ]
  },
  {
   "cell_type": "code",
   "execution_count": 6,
   "id": "610054ae",
   "metadata": {},
   "outputs": [
    {
     "data": {
      "text/plain": [
       "tensor([[-0.1397,  0.0204],\n",
       "        [ 0.0435, -0.2038],\n",
       "        [-0.1770, -0.6932],\n",
       "        [-0.2777,  0.1216],\n",
       "        [ 0.1854,  0.1792],\n",
       "        [-0.5505, -0.1238],\n",
       "        [ 0.0307, -0.0889]], grad_fn=<AddmmBackward0>)"
      ]
     },
     "execution_count": 6,
     "metadata": {},
     "output_type": "execute_result"
    }
   ],
   "source": [
    "teacher_model.model.forward(torch.randn(7,10,5))"
   ]
  },
  {
   "cell_type": "code",
   "execution_count": 7,
   "id": "b28a76cd",
   "metadata": {},
   "outputs": [
    {
     "data": {
      "text/plain": [
       "array([[[-0.36622143,  0.58251506, -1.04468187, -0.7475479 ],\n",
       "        [-0.88456166,  0.50293497, -0.26879122,  0.01821935],\n",
       "        [-0.28619321, -0.67200191, -0.40240972,  0.16558311],\n",
       "        ...,\n",
       "        [ 0.55405986, -1.05315529, -0.93382575,  0.79684976],\n",
       "        [ 1.23716333, -2.58606093,  0.63909306, -1.63552374],\n",
       "        [ 0.55998689,  0.9685481 , -1.63525555, -0.44096413]],\n",
       "\n",
       "       [[ 0.84934989,  0.16336435, -0.59342681,  2.28846937],\n",
       "        [ 0.59225707, -0.35861132, -0.2695991 ,  1.55845187],\n",
       "        [ 0.7840607 , -0.43613029,  1.13224907,  0.98182262],\n",
       "        ...,\n",
       "        [-0.83209611, -0.53029726,  1.58433435, -0.47350299],\n",
       "        [-1.89120869,  1.00696358, -2.08461615, -0.71114239],\n",
       "        [ 1.53238202, -0.01726722, -0.04277359,  0.75260159]],\n",
       "\n",
       "       [[ 0.89462434, -1.56568625,  2.13610192, -0.01513903],\n",
       "        [ 0.29505083,  0.69197211, -0.81276173,  0.07942341],\n",
       "        [-0.3699187 ,  0.24769173, -0.01655041, -0.70602937],\n",
       "        ...,\n",
       "        [-0.49677328, -0.52882625, -0.34288054,  1.06776961],\n",
       "        [-0.68092669, -0.51888935,  2.59741599, -1.26107939],\n",
       "        [-1.79414495,  0.2604432 , -0.39167472, -1.21011266]],\n",
       "\n",
       "       ...,\n",
       "\n",
       "       [[-0.07661203,  2.62477002,  0.48403058,  0.16428767],\n",
       "        [ 1.59758088, -2.2413702 ,  0.72019916, -0.93495059],\n",
       "        [ 0.41318513,  0.34922594, -1.40618094,  1.41562974],\n",
       "        ...,\n",
       "        [-0.53584654, -1.29036464,  0.07731586, -0.24577084],\n",
       "        [ 0.27458041, -0.07019579,  0.6942306 , -0.13800075],\n",
       "        [-1.13124823,  1.53720301, -0.27781602,  0.6940102 ]],\n",
       "\n",
       "       [[-1.33473448,  1.61765114,  0.51291657, -0.20863094],\n",
       "        [ 0.37035802,  0.80233087, -0.37636215, -0.02920093],\n",
       "        [ 0.25627304,  1.11754401,  1.00420182,  0.06315226],\n",
       "        ...,\n",
       "        [-0.6428823 , -0.35238474,  0.43638666,  0.26052736],\n",
       "        [-1.8632776 ,  1.12175258,  0.15291734,  0.10580408],\n",
       "        [ 0.44850821,  0.46512914, -0.3214878 ,  0.17551258]],\n",
       "\n",
       "       [[-0.38335469, -0.07729633, -0.42736712,  0.30321089],\n",
       "        [ 1.35988765, -0.15516651,  0.31783029,  1.00092273],\n",
       "        [-0.29911746, -0.31112785,  0.55103795, -0.48829346],\n",
       "        ...,\n",
       "        [-0.37613706,  1.52634155,  1.16626955,  0.11855638],\n",
       "        [ 0.23219153, -0.94538359, -0.00957191,  1.44949749],\n",
       "        [-1.07557968, -0.18458718,  1.42089724, -1.1314626 ]]])"
      ]
     },
     "execution_count": 7,
     "metadata": {},
     "output_type": "execute_result"
    }
   ],
   "source": [
    "import numpy as np\n",
    "gen_m = 0\n",
    "gen_std = 1\n",
    "gen_n = 100\n",
    "input_size = 10\n",
    "np.random.normal(gen_m, gen_std, (gen_n,input_size,4))"
   ]
  },
  {
   "cell_type": "code",
   "execution_count": 8,
   "id": "8240df91",
   "metadata": {},
   "outputs": [
    {
     "ename": "UnboundLocalError",
     "evalue": "local variable 'out_temp' referenced before assignment",
     "output_type": "error",
     "traceback": [
      "\u001b[0;31m---------------------------------------------------------------------------\u001b[0m",
      "\u001b[0;31mUnboundLocalError\u001b[0m                         Traceback (most recent call last)",
      "Input \u001b[0;32mIn [8]\u001b[0m, in \u001b[0;36m<cell line: 1>\u001b[0;34m()\u001b[0m\n\u001b[0;32m----> 1\u001b[0m \u001b[43mteacher_model\u001b[49m\u001b[38;5;241;43m.\u001b[39;49m\u001b[43mconfigure\u001b[49m\u001b[43m(\u001b[49m\u001b[43m)\u001b[49m\n",
      "File \u001b[0;32m~/Desktop/Class Notes/Research/LABNET/LABNET.py:119\u001b[0m, in \u001b[0;36mTeacher.configure\u001b[0;34m(self, gen_lr, gen_epochs, gen_init_range, gen_n, gen_m, gen_std, dist_type)\u001b[0m\n\u001b[1;32m    116\u001b[0m \u001b[38;5;28;01mfor\u001b[39;00m epoch \u001b[38;5;129;01min\u001b[39;00m \u001b[38;5;28mrange\u001b[39m(gen_epochs):\n\u001b[1;32m    117\u001b[0m     \u001b[38;5;66;03m# Forward pass\u001b[39;00m\n\u001b[1;32m    118\u001b[0m     outputs \u001b[38;5;241m=\u001b[39m \u001b[38;5;28mself\u001b[39m\u001b[38;5;241m.\u001b[39mmodel(samples)\n\u001b[0;32m--> 119\u001b[0m     loss \u001b[38;5;241m=\u001b[39m criterion(outputs, \u001b[43mout_temp\u001b[49m)\n\u001b[1;32m    121\u001b[0m     \u001b[38;5;66;03m# Backward and optimize\u001b[39;00m\n\u001b[1;32m    122\u001b[0m     optimizer\u001b[38;5;241m.\u001b[39mzero_grad()\n",
      "\u001b[0;31mUnboundLocalError\u001b[0m: local variable 'out_temp' referenced before assignment"
     ]
    }
   ],
   "source": [
    "teacher_model.configure()"
   ]
  },
  {
   "cell_type": "code",
   "execution_count": null,
   "id": "da24a1ca",
   "metadata": {},
   "outputs": [],
   "source": []
  }
 ],
 "metadata": {
  "kernelspec": {
   "display_name": "Python 3 (ipykernel)",
   "language": "python",
   "name": "python3"
  },
  "language_info": {
   "codemirror_mode": {
    "name": "ipython",
    "version": 3
   },
   "file_extension": ".py",
   "mimetype": "text/x-python",
   "name": "python",
   "nbconvert_exporter": "python",
   "pygments_lexer": "ipython3",
   "version": "3.9.12"
  }
 },
 "nbformat": 4,
 "nbformat_minor": 5
}
