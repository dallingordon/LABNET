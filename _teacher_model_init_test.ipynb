{
 "cells": [
  {
   "cell_type": "code",
   "execution_count": 1,
   "id": "e5516122",
   "metadata": {},
   "outputs": [],
   "source": [
    "from LABNET import Teacher"
   ]
  },
  {
   "cell_type": "code",
   "execution_count": 2,
   "id": "e1170a5c",
   "metadata": {},
   "outputs": [],
   "source": [
    "import torch\n",
    "import torch.nn as nn\n",
    "import torch.optim as optim\n",
    "\n",
    "# Define a small neural network using PyTorch\n",
    "class SimpleNeuralNetwork(nn.Module):\n",
    "    def __init__(self):\n",
    "        super(SimpleNeuralNetwork, self).__init__()\n",
    "        \n",
    "        # Define the layers\n",
    "        self.flatten = nn.Flatten()  # Flatten the input\n",
    "        self.fc1 = nn.Linear(10 * 5, 64)  # Fully connected layer 1\n",
    "        self.relu = nn.ReLU()  # Activation function (ReLU)\n",
    "        self.fc2 = nn.Linear(64, 2)  # Fully connected layer 2\n",
    "\n",
    "    def forward(self, x):\n",
    "        x = self.flatten(x)  # Flatten the input\n",
    "        x = self.fc1(x)      # Fully connected layer 1\n",
    "        x = self.relu(x)     # Apply ReLU activation\n",
    "        x = self.fc2(x)      # Fully connected layer 2\n",
    "        return x\n",
    "\n",
    "# Create an instance of the SimpleNeuralNetwork\n",
    "model = SimpleNeuralNetwork()\n"
   ]
  },
  {
   "cell_type": "code",
   "execution_count": 3,
   "id": "5cdad609",
   "metadata": {},
   "outputs": [
    {
     "data": {
      "text/plain": [
       "True"
      ]
     },
     "execution_count": 3,
     "metadata": {},
     "output_type": "execute_result"
    }
   ],
   "source": [
    "isinstance(model,nn.Module)"
   ]
  },
  {
   "cell_type": "code",
   "execution_count": 4,
   "id": "b8a673c6",
   "metadata": {},
   "outputs": [],
   "source": [
    "teacher = Teacher([5,5,1])\n",
    "teacher.configure()\n",
    "teacher.generate_data(val_train = \"train\", n = 13)"
   ]
  },
  {
   "cell_type": "code",
   "execution_count": 5,
   "id": "98b926cf",
   "metadata": {},
   "outputs": [],
   "source": [
    "teacher_model = Teacher(model,(10,5))\n",
    "teacher_model.configure()\n"
   ]
  },
  {
   "cell_type": "code",
   "execution_count": 6,
   "id": "dc9d81c7",
   "metadata": {},
   "outputs": [],
   "source": [
    "teacher_model.generate_data(val_train = \"train\", n = 13)"
   ]
  },
  {
   "cell_type": "code",
   "execution_count": 8,
   "id": "610054ae",
   "metadata": {},
   "outputs": [
    {
     "data": {
      "text/plain": [
       "torch.Size([13, 10, 5])"
      ]
     },
     "execution_count": 8,
     "metadata": {},
     "output_type": "execute_result"
    }
   ],
   "source": [
    "teacher_model.train_inputs.shape"
   ]
  },
  {
   "cell_type": "code",
   "execution_count": null,
   "id": "b28a76cd",
   "metadata": {},
   "outputs": [],
   "source": [
    "import numpy as np\n",
    "gen_m = 0\n",
    "gen_std = 1\n",
    "gen_n = 100\n",
    "input_size = 10\n",
    "np.random.normal(gen_m, gen_std, (gen_n,input_size,4))"
   ]
  },
  {
   "cell_type": "code",
   "execution_count": null,
   "id": "8240df91",
   "metadata": {},
   "outputs": [],
   "source": [
    "teacher_model.input_shape"
   ]
  },
  {
   "cell_type": "code",
   "execution_count": null,
   "id": "da24a1ca",
   "metadata": {},
   "outputs": [],
   "source": [
    "teacher.configure()"
   ]
  },
  {
   "cell_type": "code",
   "execution_count": null,
   "id": "da5d5ed5",
   "metadata": {},
   "outputs": [],
   "source": [
    "dummy_shape = (1,) + teacher_model.input_shape\n",
    "\n",
    "dummy_in = torch.ones(dummy_shape)\n",
    "print(dummy_in.shape)\n",
    "dummy_out = teacher_model.model(dummy_in)\n",
    "tuple(dummy_out.shape[1:])"
   ]
  },
  {
   "cell_type": "code",
   "execution_count": null,
   "id": "98e25fa3",
   "metadata": {},
   "outputs": [],
   "source": [
    "torch.randn(1,10,5).shape"
   ]
  },
  {
   "cell_type": "code",
   "execution_count": null,
   "id": "bec44a6b",
   "metadata": {},
   "outputs": [],
   "source": []
  }
 ],
 "metadata": {
  "kernelspec": {
   "display_name": "Python 3 (ipykernel)",
   "language": "python",
   "name": "python3"
  },
  "language_info": {
   "codemirror_mode": {
    "name": "ipython",
    "version": 3
   },
   "file_extension": ".py",
   "mimetype": "text/x-python",
   "name": "python",
   "nbconvert_exporter": "python",
   "pygments_lexer": "ipython3",
   "version": "3.9.12"
  }
 },
 "nbformat": 4,
 "nbformat_minor": 5
}
