{
 "cells": [
  {
   "cell_type": "code",
   "execution_count": 1,
   "id": "e5516122",
   "metadata": {},
   "outputs": [],
   "source": [
    "from LABNET import Teacher"
   ]
  },
  {
   "cell_type": "code",
   "execution_count": 2,
   "id": "e1170a5c",
   "metadata": {},
   "outputs": [],
   "source": [
    "import torch\n",
    "import torch.nn as nn\n",
    "import torch.optim as optim\n",
    "\n",
    "# Define a small neural network using PyTorch\n",
    "class SimpleNeuralNetwork(nn.Module):\n",
    "    def __init__(self):\n",
    "        super(SimpleNeuralNetwork, self).__init__()\n",
    "        \n",
    "        # Define the layers\n",
    "        self.flatten = nn.Flatten()  # Flatten the input\n",
    "        self.fc1 = nn.Linear(10 * 5, 64)  # Fully connected layer 1\n",
    "        self.relu = nn.ReLU()  # Activation function (ReLU)\n",
    "        self.fc2 = nn.Linear(64, 2)  # Fully connected layer 2\n",
    "\n",
    "    def forward(self, x):\n",
    "        x = self.flatten(x)  # Flatten the input\n",
    "        x = self.fc1(x)      # Fully connected layer 1\n",
    "        x = self.relu(x)     # Apply ReLU activation\n",
    "        x = self.fc2(x)      # Fully connected layer 2\n",
    "        return x\n",
    "\n",
    "# Create an instance of the SimpleNeuralNetwork\n",
    "model = SimpleNeuralNetwork()\n"
   ]
  },
  {
   "cell_type": "code",
   "execution_count": 3,
   "id": "5cdad609",
   "metadata": {},
   "outputs": [
    {
     "data": {
      "text/plain": [
       "True"
      ]
     },
     "execution_count": 3,
     "metadata": {},
     "output_type": "execute_result"
    }
   ],
   "source": [
    "isinstance(model,nn.Module)"
   ]
  },
  {
   "cell_type": "code",
   "execution_count": 4,
   "id": "b8a673c6",
   "metadata": {},
   "outputs": [],
   "source": [
    "teacher = Teacher([5,5,1])\n",
    "teacher.configure()\n",
    "teacher.generate_data(val_train = \"train\", n = 13)"
   ]
  },
  {
   "cell_type": "code",
   "execution_count": 5,
   "id": "98b926cf",
   "metadata": {},
   "outputs": [],
   "source": [
    "teacher_model = Teacher(model,(10,5))\n",
    "teacher_model.configure()\n"
   ]
  },
  {
   "cell_type": "code",
   "execution_count": 6,
   "id": "dc9d81c7",
   "metadata": {},
   "outputs": [],
   "source": [
    "teacher_model.generate_data(val_train = \"train\", n = 13)"
   ]
  },
  {
   "cell_type": "code",
   "execution_count": 7,
   "id": "610054ae",
   "metadata": {},
   "outputs": [
    {
     "data": {
      "text/plain": [
       "torch.Size([13, 10, 5])"
      ]
     },
     "execution_count": 7,
     "metadata": {},
     "output_type": "execute_result"
    }
   ],
   "source": [
    "teacher_model.train_inputs.shape"
   ]
  },
  {
   "cell_type": "code",
   "execution_count": 8,
   "id": "b28a76cd",
   "metadata": {},
   "outputs": [
    {
     "data": {
      "text/plain": [
       "array([[[-0.23561763, -0.03812702,  1.06408959,  2.25454428],\n",
       "        [ 0.39958886, -0.60808103,  0.08443371, -0.45304879],\n",
       "        [ 1.47154561, -2.50502435, -1.18686397, -1.18290616],\n",
       "        ...,\n",
       "        [ 0.06284064, -1.9933789 ,  0.20024797,  1.92145973],\n",
       "        [ 0.2270053 , -0.675964  , -1.35541329,  1.39088454],\n",
       "        [ 0.64504779, -0.91132633,  1.01060509,  1.50561032]],\n",
       "\n",
       "       [[-0.06522981, -0.01368015, -1.27546646, -0.11580468],\n",
       "        [-1.53141778,  0.4168725 ,  0.76497691,  0.15023235],\n",
       "        [-0.37758737, -0.79256992, -0.13649556,  1.67623182],\n",
       "        ...,\n",
       "        [ 0.7318359 , -0.22144295, -0.43651529, -0.77304177],\n",
       "        [-0.0394501 ,  1.65717567,  0.91916199, -0.32852547],\n",
       "        [-0.88815186,  0.33885338, -1.77137433, -2.28216807]],\n",
       "\n",
       "       [[-2.54690765,  0.31946341,  1.01388159,  0.81997758],\n",
       "        [ 0.5510513 ,  0.98032189,  0.59206648, -0.92803166],\n",
       "        [ 0.10446491, -0.53862335, -1.03008894,  0.67395651],\n",
       "        ...,\n",
       "        [ 0.20744535, -0.51657412,  0.70942679,  0.38121021],\n",
       "        [-0.76577881,  0.47808783,  2.06804366,  0.88920656],\n",
       "        [-0.80153696,  0.21552296,  0.62809172, -0.83583596]],\n",
       "\n",
       "       ...,\n",
       "\n",
       "       [[ 1.37484876, -0.46348757,  1.00386538,  0.00364575],\n",
       "        [ 0.23558572, -1.88079114,  1.31011861,  0.30161535],\n",
       "        [ 0.00959685,  1.17212677,  0.60042479, -0.20855673],\n",
       "        ...,\n",
       "        [ 0.95312327, -0.03482939, -0.3400831 ,  1.51921425],\n",
       "        [-0.17854386,  0.71465168,  1.25246504, -0.68039463],\n",
       "        [ 0.53715197, -0.01163094,  0.19823588,  0.53079903]],\n",
       "\n",
       "       [[ 0.73727891, -0.50245252, -0.15495594,  0.69755771],\n",
       "        [ 0.77903244,  0.38642035, -0.02611735,  0.23844414],\n",
       "        [-0.22426218,  1.45761998,  1.19595583, -0.63711715],\n",
       "        ...,\n",
       "        [-0.97002755,  0.80593681, -0.23806162, -1.3813191 ],\n",
       "        [-0.88833453, -0.45974186, -1.10642009,  0.97794087],\n",
       "        [-0.2269492 ,  1.2619001 , -1.04471809, -1.05497965]],\n",
       "\n",
       "       [[ 0.6193617 ,  0.50283248,  1.39974739, -0.41741029],\n",
       "        [-0.70651766,  0.21229199,  0.98659141,  1.40446799],\n",
       "        [-1.30459758, -1.14019735,  0.04343968, -2.31861688],\n",
       "        ...,\n",
       "        [ 0.79702978,  1.86951425, -0.51249888, -0.28428559],\n",
       "        [-0.24011429, -0.8031595 , -0.08962233, -1.09070029],\n",
       "        [-0.69674192,  0.85047172,  1.40754287,  0.27938871]]])"
      ]
     },
     "execution_count": 8,
     "metadata": {},
     "output_type": "execute_result"
    }
   ],
   "source": [
    "import numpy as np\n",
    "gen_m = 0\n",
    "gen_std = 1\n",
    "gen_n = 100\n",
    "input_size = 10\n",
    "np.random.normal(gen_m, gen_std, (gen_n,input_size,4))"
   ]
  },
  {
   "cell_type": "code",
   "execution_count": 9,
   "id": "8240df91",
   "metadata": {},
   "outputs": [
    {
     "data": {
      "text/plain": [
       "(10, 5)"
      ]
     },
     "execution_count": 9,
     "metadata": {},
     "output_type": "execute_result"
    }
   ],
   "source": [
    "teacher_model.input_shape"
   ]
  },
  {
   "cell_type": "code",
   "execution_count": 10,
   "id": "da24a1ca",
   "metadata": {},
   "outputs": [],
   "source": [
    "teacher.configure()"
   ]
  },
  {
   "cell_type": "code",
   "execution_count": 11,
   "id": "da5d5ed5",
   "metadata": {},
   "outputs": [
    {
     "name": "stdout",
     "output_type": "stream",
     "text": [
      "torch.Size([1, 10, 5])\n"
     ]
    },
    {
     "data": {
      "text/plain": [
       "(2,)"
      ]
     },
     "execution_count": 11,
     "metadata": {},
     "output_type": "execute_result"
    }
   ],
   "source": [
    "dummy_shape = (1,) + teacher_model.input_shape\n",
    "\n",
    "dummy_in = torch.ones(dummy_shape)\n",
    "print(dummy_in.shape)\n",
    "dummy_out = teacher_model.model(dummy_in)\n",
    "tuple(dummy_out.shape[1:])"
   ]
  },
  {
   "cell_type": "code",
   "execution_count": 12,
   "id": "98e25fa3",
   "metadata": {},
   "outputs": [
    {
     "data": {
      "text/plain": [
       "torch.Size([1, 10, 5])"
      ]
     },
     "execution_count": 12,
     "metadata": {},
     "output_type": "execute_result"
    }
   ],
   "source": [
    "torch.randn(1,10,5).shape"
   ]
  },
  {
   "cell_type": "code",
   "execution_count": null,
   "id": "bec44a6b",
   "metadata": {},
   "outputs": [],
   "source": []
  }
 ],
 "metadata": {
  "kernelspec": {
   "display_name": "Python 3 (ipykernel)",
   "language": "python",
   "name": "python3"
  },
  "language_info": {
   "codemirror_mode": {
    "name": "ipython",
    "version": 3
   },
   "file_extension": ".py",
   "mimetype": "text/x-python",
   "name": "python",
   "nbconvert_exporter": "python",
   "pygments_lexer": "ipython3",
   "version": "3.9.12"
  }
 },
 "nbformat": 4,
 "nbformat_minor": 5
}
