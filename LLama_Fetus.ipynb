{
 "cells": [
  {
   "cell_type": "code",
   "execution_count": 133,
   "id": "fa086f0c",
   "metadata": {},
   "outputs": [],
   "source": [
    "import torch\n",
    "import torch.nn as nn\n",
    "import torch.nn.functional as F"
   ]
  },
  {
   "cell_type": "code",
   "execution_count": 138,
   "id": "048fbdfc",
   "metadata": {},
   "outputs": [],
   "source": [
    "class SimpleNN(nn.Module):\n",
    "    def __init__(self\n",
    "                 , vocab_size\n",
    "                 , sequence_length\n",
    "                 , hidden_dim\n",
    "                 , word_embed\n",
    "                 , interaction_in\n",
    "                 , interaction_out\n",
    "                 ,sentence_embed\n",
    "                ):\n",
    "        super(SimpleNN, self).__init__()\n",
    "        self.vocab_size = vocab_size\n",
    "        self.sequence_length = sequence_length\n",
    "        self.word_embed = word_embed\n",
    "        self.interaction_in = interaction_in\n",
    "        \n",
    "        self.lin1 = nn.Linear(vocab_size,word_embed) #50 is word embeddings essentially\n",
    "        self.lin2 = nn.Linear(word_embed**2, interaction_in)\n",
    "        self.lin3 = nn.Linear(interaction_in**2,interaction_out)\n",
    "        self.lin4 = nn.Linear(sequence_length,sentence_embed)\n",
    "        self.lin5 = nn.Linear(interaction_out*sentence_embed,vocab_size)\n",
    "        # Activation function\n",
    "\n",
    "    def forward(self, x):\n",
    "        print(x.shape)\n",
    "        x = F.relu(self.lin1(x))\n",
    "        print(x.shape)\n",
    "        # Flatten the sequence_length and vocab_size dimensions\n",
    "        x = F.relu(torch.einsum('bij,bik->bijk', x, x)) #interactions\n",
    "        print(x.shape)\n",
    "        x = x.view(x.size(0), self.sequence_length, -1)\n",
    "        print(x.shape)\n",
    "        x = F.relu(self.lin2(x))\n",
    "        print(x.shape)\n",
    "        x = F.relu(torch.einsum('bij,bik->bijk', x, x)) #interactions x interactions \n",
    "        print(x.shape)\n",
    "        x = x.view(x.size(0), self.sequence_length, -1)\n",
    "        print(x.shape)\n",
    "        x = F.relu(self.lin3(x))\n",
    "        print(x.shape)\n",
    "        x = x.permute(0, 2, 1)\n",
    "        print(x.shape)\n",
    "        x = F.relu(self.lin4(x))\n",
    "        print(x.shape)\n",
    "        x = x.view(x.size(0), -1)\n",
    "        print(x.shape)\n",
    "        x = self.lin5(x)\n",
    "        print(x.shape)\n",
    "        # Pass through the second fully connected layer\n",
    "        x = F.softmax(x, dim=1)\n",
    "\n",
    "        return x"
   ]
  },
  {
   "cell_type": "code",
   "execution_count": 139,
   "id": "bae4808c",
   "metadata": {},
   "outputs": [
    {
     "name": "stdout",
     "output_type": "stream",
     "text": [
      "SimpleNN(\n",
      "  (lin1): Linear(in_features=212, out_features=51, bias=True)\n",
      "  (lin2): Linear(in_features=2601, out_features=52, bias=True)\n",
      "  (lin3): Linear(in_features=2704, out_features=53, bias=True)\n",
      "  (lin4): Linear(in_features=347, out_features=54, bias=True)\n",
      "  (lin5): Linear(in_features=2862, out_features=212, bias=True)\n",
      ")\n"
     ]
    }
   ],
   "source": [
    "# Hyperparameters\n",
    "vocab_size = 212  # Example vocab size\n",
    "sequence_length = 347  # Example sequence length\n",
    "hidden_dim = 128  # Example hidden dimension\n",
    "word_embed = 51\n",
    "interaction_in = 52\n",
    "interaction_out = 53\n",
    "sentence_embed = 54\n",
    "batch_size = 50\n",
    "\n",
    "# Instantiate the model\n",
    "model = SimpleNN(vocab_size, sequence_length, hidden_dim, word_embed, interaction_in,interaction_out,sentence_embed)\n",
    "print(model)"
   ]
  },
  {
   "cell_type": "code",
   "execution_count": 140,
   "id": "ca4ca19a",
   "metadata": {},
   "outputs": [
    {
     "data": {
      "text/plain": [
       "torch.Size([50, 347, 212])"
      ]
     },
     "execution_count": 140,
     "metadata": {},
     "output_type": "execute_result"
    }
   ],
   "source": [
    "rand_input = torch.rand(batch_size, sequence_length, vocab_size)\n",
    "rand_input.shape"
   ]
  },
  {
   "cell_type": "code",
   "execution_count": 142,
   "id": "d2f3e6f8",
   "metadata": {},
   "outputs": [
    {
     "name": "stdout",
     "output_type": "stream",
     "text": [
      "torch.Size([50, 347, 212])\n",
      "torch.Size([50, 347, 51])\n",
      "torch.Size([50, 347, 51, 51])\n",
      "torch.Size([50, 347, 2601])\n",
      "torch.Size([50, 347, 52])\n",
      "torch.Size([50, 347, 52, 52])\n",
      "torch.Size([50, 347, 2704])\n",
      "torch.Size([50, 347, 53])\n",
      "torch.Size([50, 53, 347])\n",
      "torch.Size([50, 53, 54])\n",
      "torch.Size([50, 2862])\n",
      "torch.Size([50, 212])\n"
     ]
    },
    {
     "data": {
      "text/plain": [
       "torch.Size([50, 212])"
      ]
     },
     "execution_count": 142,
     "metadata": {},
     "output_type": "execute_result"
    }
   ],
   "source": [
    "model(rand_input).shape"
   ]
  },
  {
   "cell_type": "code",
   "execution_count": 143,
   "id": "cb9267f0",
   "metadata": {},
   "outputs": [],
   "source": [
    "def count_parameters(model):\n",
    "    return sum(p.numel() for p in model.parameters() if p.requires_grad)\n",
    "\n",
    "# Using the SimpleNN model define"
   ]
  },
  {
   "cell_type": "code",
   "execution_count": 144,
   "id": "1f651ddc",
   "metadata": {},
   "outputs": [
    {
     "name": "stdout",
     "output_type": "stream",
     "text": [
      "Total number of trainable parameters: 915280\n"
     ]
    }
   ],
   "source": [
    "total_params = count_parameters(model)\n",
    "print(f\"Total number of trainable parameters: {total_params}\")"
   ]
  },
  {
   "cell_type": "code",
   "execution_count": null,
   "id": "b49e7017",
   "metadata": {},
   "outputs": [],
   "source": []
  }
 ],
 "metadata": {
  "kernelspec": {
   "display_name": "Python 3 (ipykernel)",
   "language": "python",
   "name": "python3"
  },
  "language_info": {
   "codemirror_mode": {
    "name": "ipython",
    "version": 3
   },
   "file_extension": ".py",
   "mimetype": "text/x-python",
   "name": "python",
   "nbconvert_exporter": "python",
   "pygments_lexer": "ipython3",
   "version": "3.9.12"
  }
 },
 "nbformat": 4,
 "nbformat_minor": 5
}
